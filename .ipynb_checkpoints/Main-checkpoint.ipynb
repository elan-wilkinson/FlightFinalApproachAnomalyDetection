{
 "cells": [
  {
   "cell_type": "markdown",
   "id": "158154ae-6cb1-43ed-8e05-6d7b05dca08a",
   "metadata": {},
   "source": [
    "## Setup Dependencies"
   ]
  },
  {
   "cell_type": "code",
   "execution_count": null,
   "id": "8b2c5a79-11c3-4443-ab25-76566f5f8c3c",
   "metadata": {},
   "outputs": [],
   "source": [
    "!pip install --disable-pip-version-check -q pip --upgrade > /dev/null\n",
    "!pip install --disable-pip-version-check -q wrapt --upgrade > /dev/null"
   ]
  },
  {
   "cell_type": "markdown",
   "id": "6aed348f-7b4f-4be6-b272-b5659d4eb33e",
   "metadata": {},
   "source": [
    "### AWS CLI and AWS Python SDK (boto3)"
   ]
  },
  {
   "cell_type": "code",
   "execution_count": null,
   "id": "282b849a-c6ce-48db-8ec0-db60caf117f1",
   "metadata": {},
   "outputs": [],
   "source": [
    "!pip install --disable-pip-version-check -q awscli boto3"
   ]
  },
  {
   "cell_type": "markdown",
   "id": "84bd363c-32e2-4fa8-ae9c-cd99571979ba",
   "metadata": {},
   "source": [
    "### SageMaker"
   ]
  },
  {
   "cell_type": "code",
   "execution_count": null,
   "id": "96a7b4f8-73ba-4fb0-b737-e8147de47c65",
   "metadata": {},
   "outputs": [],
   "source": [
    "!pip install --disable-pip-version-check -q sagemaker\n",
    "!pip install --disable-pip-version-check -q smdebug\n",
    "!pip install --disable-pip-version-check -q sagemaker-experiments"
   ]
  },
  {
   "cell_type": "markdown",
   "id": "66b6e794-9b81-417d-8fe9-71bbaccb779c",
   "metadata": {},
   "source": [
    "### PyAthena"
   ]
  },
  {
   "cell_type": "code",
   "execution_count": null,
   "id": "3dafd863-a8e4-4666-988f-82e86c9c764a",
   "metadata": {},
   "outputs": [],
   "source": [
    "!pip install --disable-pip-version-check -q PyAthena"
   ]
  },
  {
   "cell_type": "markdown",
   "id": "c3ef557d-110a-4a58-b8a3-534c033d71bc",
   "metadata": {},
   "source": [
    "### AWS Data Wrangler"
   ]
  },
  {
   "cell_type": "code",
   "execution_count": null,
   "id": "e236d569-b595-45ab-b3af-13e170a86960",
   "metadata": {},
   "outputs": [],
   "source": [
    "!pip install --disable-pip-version-check -q awswrangler"
   ]
  },
  {
   "cell_type": "markdown",
   "id": "1989a320-ceeb-42c7-807d-47078f909c3b",
   "metadata": {},
   "source": [
    "### Zip"
   ]
  },
  {
   "cell_type": "code",
   "execution_count": null,
   "id": "6ff800ee-847f-465c-b702-7ff7a479a9bb",
   "metadata": {},
   "outputs": [],
   "source": [
    "!conda install -y zip"
   ]
  },
  {
   "cell_type": "markdown",
   "id": "a70ed85d-25a1-4c30-a0ba-838bd278a775",
   "metadata": {},
   "source": [
    "### Matplotlib"
   ]
  },
  {
   "cell_type": "code",
   "execution_count": null,
   "id": "50ad36a6-a84e-454a-88c7-4c0fa3550af4",
   "metadata": {},
   "outputs": [],
   "source": [
    "!pip install --disable-pip-version-check -q matplotlib"
   ]
  },
  {
   "cell_type": "markdown",
   "id": "fa497ad0-cf1c-4afb-95ef-8de690f1bd0e",
   "metadata": {},
   "source": [
    "### Seaborn"
   ]
  },
  {
   "cell_type": "code",
   "execution_count": null,
   "id": "495758de-3817-492d-9715-36434fd22a38",
   "metadata": {},
   "outputs": [],
   "source": [
    "!pip install --disable-pip-version-check -q seaborn"
   ]
  }
 ],
 "metadata": {
  "kernelspec": {
   "display_name": "Python 3 (ipykernel)",
   "language": "python",
   "name": "python3"
  },
  "language_info": {
   "codemirror_mode": {
    "name": "ipython",
    "version": 3
   },
   "file_extension": ".py",
   "mimetype": "text/x-python",
   "name": "python",
   "nbconvert_exporter": "python",
   "pygments_lexer": "ipython3",
   "version": "3.11.11"
  }
 },
 "nbformat": 4,
 "nbformat_minor": 5
}
