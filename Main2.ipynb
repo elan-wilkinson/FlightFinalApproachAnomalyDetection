{
 "cells": [
  {
   "cell_type": "markdown",
   "id": "158154ae-6cb1-43ed-8e05-6d7b05dca08a",
   "metadata": {},
   "source": [
    "## Setup Dependencies"
   ]
  },
  {
   "cell_type": "code",
   "execution_count": 1,
   "id": "8b2c5a79-11c3-4443-ab25-76566f5f8c3c",
   "metadata": {},
   "outputs": [],
   "source": [
    "!pip install --disable-pip-version-check -q pip --upgrade > /dev/null\n",
    "!pip install --disable-pip-version-check -q wrapt --upgrade > /dev/null"
   ]
  },
  {
   "cell_type": "markdown",
   "id": "6aed348f-7b4f-4be6-b272-b5659d4eb33e",
   "metadata": {},
   "source": [
    "### AWS CLI and AWS Python SDK (boto3)"
   ]
  },
  {
   "cell_type": "code",
   "execution_count": 2,
   "id": "282b849a-c6ce-48db-8ec0-db60caf117f1",
   "metadata": {},
   "outputs": [
    {
     "name": "stdout",
     "output_type": "stream",
     "text": [
      "\u001b[31mERROR: pip's dependency resolver does not currently take into account all the packages that are installed. This behaviour is the source of the following dependency conflicts.\n",
      "autogluon-multimodal 1.1.1 requires nvidia-ml-py3==7.352.0, which is not installed.\n",
      "aiobotocore 2.13.3 requires botocore<1.34.163,>=1.34.70, but you have botocore 1.36.11 which is incompatible.\n",
      "amazon-sagemaker-sql-magic 0.1.3 requires sqlparse==0.5.0, but you have sqlparse 0.5.3 which is incompatible.\n",
      "autogluon-core 1.1.1 requires scikit-learn<1.4.1,>=1.3.0, but you have scikit-learn 1.5.2 which is incompatible.\n",
      "autogluon-core 1.1.1 requires scipy<1.13,>=1.5.4, but you have scipy 1.14.1 which is incompatible.\n",
      "autogluon-features 1.1.1 requires scikit-learn<1.4.1,>=1.3.0, but you have scikit-learn 1.5.2 which is incompatible.\n",
      "autogluon-multimodal 1.1.1 requires jsonschema<4.22,>=4.18, but you have jsonschema 4.23.0 which is incompatible.\n",
      "autogluon-multimodal 1.1.1 requires omegaconf<2.3.0,>=2.1.1, but you have omegaconf 2.3.0 which is incompatible.\n",
      "autogluon-multimodal 1.1.1 requires scikit-learn<1.4.1,>=1.3.0, but you have scikit-learn 1.5.2 which is incompatible.\n",
      "autogluon-multimodal 1.1.1 requires scipy<1.13,>=1.5.4, but you have scipy 1.14.1 which is incompatible.\n",
      "autogluon-tabular 1.1.1 requires scikit-learn<1.4.1,>=1.3.0, but you have scikit-learn 1.5.2 which is incompatible.\n",
      "autogluon-tabular 1.1.1 requires scipy<1.13,>=1.5.4, but you have scipy 1.14.1 which is incompatible.\n",
      "autogluon-timeseries 1.1.1 requires gluonts==0.15.1, but you have gluonts 0.14.3 which is incompatible.\n",
      "autogluon-timeseries 1.1.1 requires scipy<1.13,>=1.5.4, but you have scipy 1.14.1 which is incompatible.\n",
      "langchain-aws 0.1.18 requires boto3<1.35.0,>=1.34.131, but you have boto3 1.36.11 which is incompatible.\u001b[0m\u001b[31m\n",
      "\u001b[0m"
     ]
    }
   ],
   "source": [
    "!pip install --disable-pip-version-check -q awscli boto3"
   ]
  },
  {
   "cell_type": "markdown",
   "id": "84bd363c-32e2-4fa8-ae9c-cd99571979ba",
   "metadata": {},
   "source": [
    "### SageMaker"
   ]
  },
  {
   "cell_type": "code",
   "execution_count": 3,
   "id": "96a7b4f8-73ba-4fb0-b737-e8147de47c65",
   "metadata": {},
   "outputs": [],
   "source": [
    "!pip install --disable-pip-version-check -q sagemaker\n",
    "!pip install --disable-pip-version-check -q smdebug\n",
    "!pip install --disable-pip-version-check -q sagemaker-experiments"
   ]
  },
  {
   "cell_type": "markdown",
   "id": "66b6e794-9b81-417d-8fe9-71bbaccb779c",
   "metadata": {},
   "source": [
    "### PyAthena"
   ]
  },
  {
   "cell_type": "code",
   "execution_count": 4,
   "id": "3dafd863-a8e4-4666-988f-82e86c9c764a",
   "metadata": {},
   "outputs": [],
   "source": [
    "!pip install --disable-pip-version-check -q PyAthena"
   ]
  },
  {
   "cell_type": "markdown",
   "id": "c3ef557d-110a-4a58-b8a3-534c033d71bc",
   "metadata": {},
   "source": [
    "### AWS Data Wrangler"
   ]
  },
  {
   "cell_type": "code",
   "execution_count": 5,
   "id": "e236d569-b595-45ab-b3af-13e170a86960",
   "metadata": {},
   "outputs": [],
   "source": [
    "!pip install --disable-pip-version-check -q awswrangler"
   ]
  },
  {
   "cell_type": "markdown",
   "id": "1989a320-ceeb-42c7-807d-47078f909c3b",
   "metadata": {},
   "source": [
    "### Zip"
   ]
  },
  {
   "cell_type": "code",
   "execution_count": 6,
   "id": "6ff800ee-847f-465c-b702-7ff7a479a9bb",
   "metadata": {},
   "outputs": [
    {
     "name": "stdout",
     "output_type": "stream",
     "text": [
      "Retrieving notices: ...working... done\n",
      "Channels:\n",
      " - conda-forge\n",
      "Platform: linux-64\n",
      "Collecting package metadata (repodata.json): done\n",
      "Solving environment: done\n",
      "\n",
      "## Package Plan ##\n",
      "\n",
      "  environment location: /opt/conda\n",
      "\n",
      "  added / updated specs:\n",
      "    - zip\n",
      "\n",
      "\n",
      "The following NEW packages will be INSTALLED:\n",
      "\n",
      "  zip                conda-forge/linux-64::zip-3.0-hd590300_3 \n",
      "\n",
      "The following packages will be UPDATED:\n",
      "\n",
      "  amazon-sagemaker-~                    1.0.14-pyhd8ed1ab_0 --> 1.0.16-pyhd8ed1ab_0 \n",
      "  amazon-sagemaker-~                     3.1.7-pyhd8ed1ab_0 --> 3.1.9-pyhd8ed1ab_0 \n",
      "  amazon_sagemaker_~                    0.1.13-pyhd8ed1ab_0 --> 0.1.14-pyhd8ed1ab_0 \n",
      "  aws-glue-sessions                      1.0.7-pyhd8ed1ab_0 --> 1.0.8-pyhd8ed1ab_0 \n",
      "  ca-certificates                      2024.8.30-hbcca054_0 --> 2025.1.31-hbcca054_0 \n",
      "  certifi                            2024.8.30-pyhd8ed1ab_0 --> 2024.12.14-pyhd8ed1ab_0 \n",
      "  conda                              24.9.2-py311h38be061_0 --> 25.1.1-py311h38be061_0 \n",
      "  fastapi                              0.115.6-pyhd8ed1ab_0 --> 0.115.8-pyh29332c3_0 \n",
      "  jinja2                                 3.1.4-pyhd8ed1ab_1 --> 3.1.5-pyhd8ed1ab_0 \n",
      "  jupyter-activity-~                     0.3.1-pyhd8ed1ab_0 --> 0.3.1-pyhd8ed1ab_1 \n",
      "  jupyter-ai                            2.28.3-pyhd8ed1ab_0 --> 2.28.5-pyhd8ed1ab_0 \n",
      "  jupyter-ai-magics                     2.28.3-pyhd8ed1ab_0 --> 2.28.5-pyhd8ed1ab_0 \n",
      "  jupyter-server-pr~                     4.4.0-pyhd8ed1ab_0 --> 4.4.0-pyhd8ed1ab_1 \n",
      "  jupyterlab                             4.2.6-pyhff2d567_0 --> 4.2.7-pyhd8ed1ab_0 \n",
      "  jupyterlab-git                        0.50.2-pyhd8ed1ab_0 --> 0.50.2-pyhd8ed1ab_1 \n",
      "  libmamba                                1.5.11-hf72d635_0 --> 1.5.12-h49b8a8d_0 \n",
      "  libmambapy                         1.5.11-py311h18a8eac_0 --> 1.5.12-py311hb3373dd_0 \n",
      "  libxgboost                       2.1.3-cuda126_hf02754f_0 --> 2.1.3-cuda126_hd5e3c9c_3 \n",
      "  matplotlib-base                     3.9.3-py311h2b939e6_0 --> 3.9.4-py311h2b939e6_0 \n",
      "  nccl                                  2.23.4.1-h2b5d15b_3 --> 2.25.1.1-ha44e49d_0 \n",
      "  nodejs                                 20.18.0-hc55a1b2_0 --> 20.18.1-hc55a1b2_0 \n",
      "  openssl                                  3.4.0-hb9d3cd8_0 --> 3.4.0-h7b32b05_1 \n",
      "  pip                                   24.3.1-pyh8b19718_0 --> 24.3.1-pyh8b19718_2 \n",
      "  py-xgboost                     2.1.3-cuda126_pyh206be00_0 --> 2.1.3-cuda126_pyh3ef1b53_3 \n",
      "  py-xgboost-gpu                         2.1.3-pyh993ee4f_0 --> 2.1.3-pyh68bd8d9_3 \n",
      "  pyhive                                 0.7.0-pyhd8ed1ab_0 --> 0.7.0-pyhd8ed1ab_1 \n",
      "  python-lsp-server                     1.12.0-pyhd8ed1ab_0 --> 1.12.0-pyhff2d567_1 \n",
      "  python-lsp-server~                    1.12.0-pyhd8ed1ab_0 --> 1.12.0-pyhd8ed1ab_1 \n",
      "  sagemaker-code-ed~                       1.4.1-h3e77e23_0 --> 1.4.2-h3e77e23_0 \n",
      "  sagemaker-jupyter~                     0.3.4-pyhd8ed1ab_0 --> 0.3.7-pyhd8ed1ab_0 \n",
      "  sagemaker-jupyter~                     0.3.2-pyhd8ed1ab_0 --> 0.3.3-pyhd8ed1ab_0 \n",
      "  sagemaker-studio-~                     0.1.2-pyhd8ed1ab_0 --> 0.1.4-pyhd8ed1ab_0 \n",
      "  tf-keras                              2.17.0-pyhd8ed1ab_0 --> 2.17.0-pyhd8ed1ab_1 \n",
      "  xgboost                        2.1.3-cuda126_pyh993ee4f_0 --> 2.1.3-cuda126_pyh68bd8d9_3 \n",
      "\n",
      "\n",
      "\n",
      "Downloading and Extracting Packages:\n",
      "\n",
      "Preparing transaction: done\n",
      "Verifying transaction: done\n",
      "Executing transaction: \\ By downloading and using the cuDNN conda packages, you accept the terms and conditions of the NVIDIA cuDNN EULA -\n",
      "  https://docs.nvidia.com/deeplearning/cudnn/sla/index.html\n",
      "\n",
      "done\n"
     ]
    }
   ],
   "source": [
    "!conda install -y zip"
   ]
  },
  {
   "cell_type": "markdown",
   "id": "a70ed85d-25a1-4c30-a0ba-838bd278a775",
   "metadata": {},
   "source": [
    "### Matplotlib"
   ]
  },
  {
   "cell_type": "code",
   "execution_count": 7,
   "id": "50ad36a6-a84e-454a-88c7-4c0fa3550af4",
   "metadata": {},
   "outputs": [],
   "source": [
    "!pip install --disable-pip-version-check -q matplotlib"
   ]
  },
  {
   "cell_type": "markdown",
   "id": "fa497ad0-cf1c-4afb-95ef-8de690f1bd0e",
   "metadata": {},
   "source": [
    "### Seaborn"
   ]
  },
  {
   "cell_type": "code",
   "execution_count": 8,
   "id": "495758de-3817-492d-9715-36434fd22a38",
   "metadata": {},
   "outputs": [],
   "source": [
    "!pip install --disable-pip-version-check -q seaborn"
   ]
  },
  {
   "cell_type": "markdown",
   "id": "28453334-b5b1-492d-8954-f3ac2fc1418d",
   "metadata": {},
   "source": [
    "## Data lake Setup"
   ]
  },
  {
   "cell_type": "code",
   "execution_count": 9,
   "id": "6543ad71-d894-4ff7-a3ea-75d2a4e58834",
   "metadata": {},
   "outputs": [
    {
     "name": "stdout",
     "output_type": "stream",
     "text": [
      "sagemaker.config INFO - Not applying SDK defaults from location: /etc/xdg/sagemaker/config.yaml\n",
      "sagemaker.config INFO - Not applying SDK defaults from location: /home/sagemaker-user/.config/sagemaker/config.yaml\n",
      "Bucket name: flightfinalapproachanomalydetection\n"
     ]
    }
   ],
   "source": [
    "import boto3\n",
    "import sagemaker\n",
    "\n",
    "session = boto3.session.Session()\n",
    "region = session.region_name\n",
    "sagemaker_session = sagemaker.Session()\n",
    "bucket = 'flightfinalapproachanomalydetection'#'sagemaker-us-east-1-817854913925' #sagemaker_session.default_bucket()\n",
    "\n",
    "s3 = boto3.Session().client(service_name=\"s3\", region_name=region)\n",
    "\n",
    "print(\"Bucket name: {}\".format(bucket))"
   ]
  },
  {
   "cell_type": "markdown",
   "id": "cd2f7efe-0713-4ec9-bfc9-6eb91a86d7b9",
   "metadata": {},
   "source": [
    "### Verify Bucket Creation"
   ]
  },
  {
   "cell_type": "code",
   "execution_count": 10,
   "id": "02da2344-383a-4d9e-a45f-04e84d6d3be1",
   "metadata": {},
   "outputs": [
    {
     "name": "stdout",
     "output_type": "stream",
     "text": [
      "{'ResponseMetadata': {'RequestId': 'CGN8JJ5XWBHKSV11', 'HostId': 'X8S460Q5aaZvyM/cl57Y89hLlAM3J45RmgJzRorn7IpuoU5EAfTX9EkDSDUE1LJTvtDKo7q8Gn0=', 'HTTPStatusCode': 200, 'HTTPHeaders': {'x-amz-id-2': 'X8S460Q5aaZvyM/cl57Y89hLlAM3J45RmgJzRorn7IpuoU5EAfTX9EkDSDUE1LJTvtDKo7q8Gn0=', 'x-amz-request-id': 'CGN8JJ5XWBHKSV11', 'date': 'Sat, 01 Feb 2025 22:53:39 GMT', 'x-amz-bucket-region': 'us-east-1', 'x-amz-access-point-alias': 'false', 'content-type': 'application/xml', 'transfer-encoding': 'chunked', 'server': 'AmazonS3'}, 'RetryAttempts': 0}, 'BucketRegion': 'us-east-1', 'AccessPointAlias': False}\n"
     ]
    }
   ],
   "source": [
    "from botocore.client import ClientError\n",
    "\n",
    "response = None\n",
    "try:\n",
    "    response = s3.head_bucket(Bucket=bucket)\n",
    "    print(response)\n",
    "    setup_s3_bucket_passed = True\n",
    "except ClientError as e: \n",
    "    print(\"[ERROR] Cannot find bucket {} in {} due to {}.\".format(bucket, response, e))"
   ]
  },
  {
   "cell_type": "code",
   "execution_count": 11,
   "id": "8365393e-4d0e-4e6e-aa98-17417be94b65",
   "metadata": {},
   "outputs": [],
   "source": [
    "role = sagemaker.get_execution_role()\n",
    "region = boto3.Session().region_name \n",
    "account_id = boto3.client(service_name=\"sagemaker\", region_name=region)"
   ]
  },
  {
   "cell_type": "code",
   "execution_count": 12,
   "id": "305cab40-c245-443f-a352-78d56ec962e6",
   "metadata": {},
   "outputs": [
    {
     "name": "stderr",
     "output_type": "stream",
     "text": [
      "/tmp/ipykernel_1270/88463448.py:1: DeprecationWarning: Importing display from IPython.core.display is deprecated since IPython 7.14, please import from IPython.display\n",
      "  from IPython.core.display import display, HTML\n"
     ]
    },
    {
     "data": {
      "text/html": [
       "<b>Review <a target=\"blank\" href=\"https://s3.console.aws.amazon.com/s3/buckets/flightfinalapproachanomalydetection/?region=us-east-1&tab=overview\">S3 Bucket</a></b>"
      ],
      "text/plain": [
       "<IPython.core.display.HTML object>"
      ]
     },
     "metadata": {},
     "output_type": "display_data"
    }
   ],
   "source": [
    "from IPython.core.display import display, HTML\n",
    "\n",
    "display(\n",
    "    HTML(\n",
    "        '<b>Review <a target=\"blank\" href=\"https://s3.console.aws.amazon.com/s3/buckets/flightfinalapproachanomalydetection/?region={}&tab=overview\">S3 Bucket</a></b>'.format(\n",
    "            region, account_id, region\n",
    "        )\n",
    "    )\n",
    ")"
   ]
  },
  {
   "cell_type": "markdown",
   "id": "fb7b64d7-669e-4951-a09d-95fedb97b0bd",
   "metadata": {},
   "source": [
    "## Create Athena Database Scheme\n",
    "### Import PyAthena"
   ]
  },
  {
   "cell_type": "code",
   "execution_count": 13,
   "id": "9eab820f-68d8-4139-9ac5-e8bb5bbb3f05",
   "metadata": {},
   "outputs": [],
   "source": [
    "from pyathena import connect"
   ]
  },
  {
   "cell_type": "code",
   "execution_count": 14,
   "id": "fe1baad6-1400-4b55-b9ae-f9b855e6bd5f",
   "metadata": {},
   "outputs": [],
   "source": [
    "table_name_csv = \"flight_csv_data\"\n",
    "s3_staging_dir = \"s3://{0}/athena/staging\".format(bucket)"
   ]
  },
  {
   "cell_type": "markdown",
   "id": "53ec6e18-b481-4322-af30-da80184b47d1",
   "metadata": {},
   "source": [
    "### Create Athena Database"
   ]
  },
  {
   "cell_type": "code",
   "execution_count": 15,
   "id": "0c9ec0f2-655e-416e-b36a-4ea0be8ec2e6",
   "metadata": {},
   "outputs": [],
   "source": [
    "database_name = \"flightdata_db\""
   ]
  },
  {
   "cell_type": "code",
   "execution_count": 16,
   "id": "b3c1afb3-bbdd-456d-b801-20d4a462023b",
   "metadata": {},
   "outputs": [],
   "source": [
    "s3_staging_dir = \"s3://{0}/athena/staging\".format(bucket)"
   ]
  },
  {
   "cell_type": "code",
   "execution_count": 17,
   "id": "e1f2c6b1-2b2e-4234-abb7-416aa4b084e2",
   "metadata": {},
   "outputs": [],
   "source": [
    "conn = connect(region_name=region, s3_staging_dir=s3_staging_dir)"
   ]
  },
  {
   "cell_type": "code",
   "execution_count": 18,
   "id": "13f9f71e-f0ef-4cdd-823e-59ed4b971c9b",
   "metadata": {},
   "outputs": [
    {
     "name": "stdout",
     "output_type": "stream",
     "text": [
      "CREATE DATABASE IF NOT EXISTS flightdata_db\n"
     ]
    }
   ],
   "source": [
    "statement = \"CREATE DATABASE IF NOT EXISTS {}\".format(database_name)\n",
    "print(statement)"
   ]
  },
  {
   "cell_type": "code",
   "execution_count": 19,
   "id": "bf9ef88f-6d7b-4642-8e5f-9ba37d64f201",
   "metadata": {},
   "outputs": [
    {
     "name": "stdout",
     "output_type": "stream",
     "text": [
      "Database created successfully\n"
     ]
    }
   ],
   "source": [
    "cursor = conn.cursor()\n",
    "cursor.execute(statement)\n",
    "print(\"Database created successfully\")\n"
   ]
  },
  {
   "cell_type": "code",
   "execution_count": 20,
   "id": "2536d68d-fbd1-4e54-b961-a8f7c20055aa",
   "metadata": {},
   "outputs": [
    {
     "name": "stderr",
     "output_type": "stream",
     "text": [
      "/tmp/ipykernel_1270/2310636415.py:5: UserWarning: pandas only supports SQLAlchemy connectable (engine/connection) or database string URI or sqlite3 DBAPI2 connection. Other DBAPI2 objects are not tested. Please consider using SQLAlchemy.\n",
      "  df_show = pd.read_sql(statement, conn)\n"
     ]
    },
    {
     "data": {
      "text/html": [
       "<div>\n",
       "<style scoped>\n",
       "    .dataframe tbody tr th:only-of-type {\n",
       "        vertical-align: middle;\n",
       "    }\n",
       "\n",
       "    .dataframe tbody tr th {\n",
       "        vertical-align: top;\n",
       "    }\n",
       "\n",
       "    .dataframe thead th {\n",
       "        text-align: right;\n",
       "    }\n",
       "</style>\n",
       "<table border=\"1\" class=\"dataframe\">\n",
       "  <thead>\n",
       "    <tr style=\"text-align: right;\">\n",
       "      <th></th>\n",
       "      <th>database_name</th>\n",
       "    </tr>\n",
       "  </thead>\n",
       "  <tbody>\n",
       "    <tr>\n",
       "      <th>0</th>\n",
       "      <td>assignment2_aws</td>\n",
       "    </tr>\n",
       "    <tr>\n",
       "      <th>1</th>\n",
       "      <td>default</td>\n",
       "    </tr>\n",
       "    <tr>\n",
       "      <th>2</th>\n",
       "      <td>dsoaws</td>\n",
       "    </tr>\n",
       "    <tr>\n",
       "      <th>3</th>\n",
       "      <td>flightdata_db</td>\n",
       "    </tr>\n",
       "    <tr>\n",
       "      <th>4</th>\n",
       "      <td>sagemaker_featurestore</td>\n",
       "    </tr>\n",
       "  </tbody>\n",
       "</table>\n",
       "</div>"
      ],
      "text/plain": [
       "            database_name\n",
       "0         assignment2_aws\n",
       "1                 default\n",
       "2                  dsoaws\n",
       "3           flightdata_db\n",
       "4  sagemaker_featurestore"
      ]
     },
     "execution_count": 20,
     "metadata": {},
     "output_type": "execute_result"
    }
   ],
   "source": [
    "import pandas as pd\n",
    "\n",
    "statement = \"SHOW DATABASES\"\n",
    "\n",
    "df_show = pd.read_sql(statement, conn)\n",
    "df_show.head(5)"
   ]
  },
  {
   "cell_type": "markdown",
   "id": "1489efc7-f7e9-4b36-879a-e4b1f521d75f",
   "metadata": {},
   "source": [
    "## Register CSV with Athena"
   ]
  },
  {
   "cell_type": "code",
   "execution_count": 21,
   "id": "d4ea08a8-ab17-405e-97a5-a98089f32e63",
   "metadata": {},
   "outputs": [
    {
     "name": "stdout",
     "output_type": "stream",
     "text": [
      "Table dropped successfully.\n"
     ]
    }
   ],
   "source": [
    "drop_statement = \"DROP TABLE flightdata_db.flight_csv_data\"\n",
    "cursor = conn.cursor()\n",
    "cursor.execute(drop_statement)\n",
    "print(\"Table dropped successfully.\")"
   ]
  },
  {
   "cell_type": "code",
   "execution_count": 22,
   "id": "40883fe5-6944-409f-9a07-ec64589474b5",
   "metadata": {},
   "outputs": [],
   "source": [
    "statement = \"\"\"CREATE EXTERNAL TABLE IF NOT EXISTS flightdata_db.flight_csv_data (\n",
    "        sample_id int,\n",
    "        timestep int,\n",
    "        aileron_pos_lh_deg float,\n",
    "        aileron_pos_rh_deg float,\n",
    "        corrected_angle_of_attack_deg float,\n",
    "        baro_correct_alt_lsp_ft float,\n",
    "        computed_airspeed_lsp_knots float,\n",
    "        selected_course_deg float,\n",
    "        drift_angle_deg float,\n",
    "        elevator_pos_left_deg float,\n",
    "        te_flap_pos_disc float,\n",
    "        glideslope_dev_perc float,\n",
    "        selected_heading_deg float,\n",
    "        localizer_dev_perc float,\n",
    "        core_speed_avg_perc float,\n",
    "        total_pressure_lsp_millibar float,\n",
    "        pitch_angle_lsp_deg float,\n",
    "        roll_angle_lsp_deg float,\n",
    "        rudder_pos_deg float,\n",
    "        true_heading_lsp_deg float,\n",
    "        vertical_accel_g float,\n",
    "        wind_speed_knots float,\n",
    "        label int\n",
    ")\n",
    "STORED AS TEXTFILE\n",
    "LOCATION 's3://flightfinalapproachanomalydetection/csv/'\n",
    "TBLPROPERTIES (\n",
    "    'skip.header.line.count'='1',\n",
    "    'field.delim'=',',\n",
    "    'compressionType'='none'\n",
    ")\"\"\""
   ]
  },
  {
   "cell_type": "code",
   "execution_count": 23,
   "id": "20837b7c-60eb-44c8-8d07-36c92488ea41",
   "metadata": {},
   "outputs": [
    {
     "data": {
      "text/plain": [
       "<pyathena.cursor.Cursor at 0x7f750f81e190>"
      ]
     },
     "execution_count": 23,
     "metadata": {},
     "output_type": "execute_result"
    }
   ],
   "source": [
    "cursor = conn.cursor()\n",
    "cursor.execute(statement)"
   ]
  },
  {
   "cell_type": "code",
   "execution_count": 24,
   "id": "f8f11a0a-b117-4f48-85f1-88a59124866c",
   "metadata": {},
   "outputs": [
    {
     "name": "stderr",
     "output_type": "stream",
     "text": [
      "/tmp/ipykernel_1270/1322682284.py:2: UserWarning: pandas only supports SQLAlchemy connectable (engine/connection) or database string URI or sqlite3 DBAPI2 connection. Other DBAPI2 objects are not tested. Please consider using SQLAlchemy.\n",
      "  pd.read_sql(statement, conn)\n"
     ]
    },
    {
     "data": {
      "text/html": [
       "<div>\n",
       "<style scoped>\n",
       "    .dataframe tbody tr th:only-of-type {\n",
       "        vertical-align: middle;\n",
       "    }\n",
       "\n",
       "    .dataframe tbody tr th {\n",
       "        vertical-align: top;\n",
       "    }\n",
       "\n",
       "    .dataframe thead th {\n",
       "        text-align: right;\n",
       "    }\n",
       "</style>\n",
       "<table border=\"1\" class=\"dataframe\">\n",
       "  <thead>\n",
       "    <tr style=\"text-align: right;\">\n",
       "      <th></th>\n",
       "    </tr>\n",
       "  </thead>\n",
       "  <tbody>\n",
       "  </tbody>\n",
       "</table>\n",
       "</div>"
      ],
      "text/plain": [
       "Empty DataFrame\n",
       "Columns: []\n",
       "Index: []"
      ]
     },
     "execution_count": 24,
     "metadata": {},
     "output_type": "execute_result"
    }
   ],
   "source": [
    "import pandas as pd\n",
    "pd.read_sql(statement, conn)"
   ]
  },
  {
   "cell_type": "code",
   "execution_count": 25,
   "id": "2e8548ff-c2c9-43d8-bfc8-3ba0b6dbdd66",
   "metadata": {},
   "outputs": [
    {
     "data": {
      "text/plain": [
       "<pyathena.cursor.Cursor at 0x7f2f4c78f1d0>"
      ]
     },
     "execution_count": 25,
     "metadata": {},
     "output_type": "execute_result"
    }
   ],
   "source": [
    "statement = \"SHOW TABLES IN {}\".format(database_name)\n",
    "cursor = conn.cursor()\n",
    "cursor.execute(statement)"
   ]
  },
  {
   "cell_type": "code",
   "execution_count": 26,
   "id": "2e852601-5c8b-412a-a910-4f88895bc054",
   "metadata": {},
   "outputs": [
    {
     "name": "stdout",
     "output_type": "stream",
     "text": [
      "False\n"
     ]
    }
   ],
   "source": [
    "if table_name_csv in df_show.values:\n",
    "    ingest_create_athena_table_csv_passed = True\n",
    "else:\n",
    "    ingest_create_athena_table_csv_passed = False\n",
    "print(ingest_create_athena_table_csv_passed)"
   ]
  },
  {
   "cell_type": "code",
   "execution_count": 27,
   "id": "07fc0e9a-b428-4b72-97ba-9b49db632ab5",
   "metadata": {},
   "outputs": [
    {
     "name": "stdout",
     "output_type": "stream",
     "text": [
      "flightdata_db\n",
      "flight_csv_data\n"
     ]
    }
   ],
   "source": [
    "print(database_name)\n",
    "print(table_name_csv)"
   ]
  },
  {
   "cell_type": "code",
   "execution_count": 28,
   "id": "deb07a02-83db-410f-bad3-e3782cbca116",
   "metadata": {},
   "outputs": [
    {
     "name": "stdout",
     "output_type": "stream",
     "text": [
      "SELECT sample_id, aileron_pos_lh_deg, timestep, label FROM flightdata_db.flight_csv_data\n",
      "    LIMIT 10\n"
     ]
    },
    {
     "name": "stderr",
     "output_type": "stream",
     "text": [
      "/tmp/ipykernel_188/1784874562.py:8: UserWarning: pandas only supports SQLAlchemy connectable (engine/connection) or database string URI or sqlite3 DBAPI2 connection. Other DBAPI2 objects are not tested. Please consider using SQLAlchemy.\n",
      "  df = pd.read_sql(statement, conn)\n"
     ]
    },
    {
     "data": {
      "text/html": [
       "<div>\n",
       "<style scoped>\n",
       "    .dataframe tbody tr th:only-of-type {\n",
       "        vertical-align: middle;\n",
       "    }\n",
       "\n",
       "    .dataframe tbody tr th {\n",
       "        vertical-align: top;\n",
       "    }\n",
       "\n",
       "    .dataframe thead th {\n",
       "        text-align: right;\n",
       "    }\n",
       "</style>\n",
       "<table border=\"1\" class=\"dataframe\">\n",
       "  <thead>\n",
       "    <tr style=\"text-align: right;\">\n",
       "      <th></th>\n",
       "      <th>sample_id</th>\n",
       "      <th>aileron_pos_lh_deg</th>\n",
       "      <th>timestep</th>\n",
       "      <th>label</th>\n",
       "    </tr>\n",
       "  </thead>\n",
       "  <tbody>\n",
       "    <tr>\n",
       "      <th>0</th>\n",
       "      <td>0</td>\n",
       "      <td>81.261190</td>\n",
       "      <td>0</td>\n",
       "      <td>0</td>\n",
       "    </tr>\n",
       "    <tr>\n",
       "      <th>1</th>\n",
       "      <td>0</td>\n",
       "      <td>79.604095</td>\n",
       "      <td>1</td>\n",
       "      <td>0</td>\n",
       "    </tr>\n",
       "    <tr>\n",
       "      <th>2</th>\n",
       "      <td>0</td>\n",
       "      <td>81.302110</td>\n",
       "      <td>2</td>\n",
       "      <td>0</td>\n",
       "    </tr>\n",
       "    <tr>\n",
       "      <th>3</th>\n",
       "      <td>0</td>\n",
       "      <td>82.345470</td>\n",
       "      <td>3</td>\n",
       "      <td>0</td>\n",
       "    </tr>\n",
       "    <tr>\n",
       "      <th>4</th>\n",
       "      <td>0</td>\n",
       "      <td>81.874930</td>\n",
       "      <td>4</td>\n",
       "      <td>0</td>\n",
       "    </tr>\n",
       "  </tbody>\n",
       "</table>\n",
       "</div>"
      ],
      "text/plain": [
       "   sample_id  aileron_pos_lh_deg  timestep  label\n",
       "0          0           81.261190         0      0\n",
       "1          0           79.604095         1      0\n",
       "2          0           81.302110         2      0\n",
       "3          0           82.345470         3      0\n",
       "4          0           81.874930         4      0"
      ]
     },
     "execution_count": 28,
     "metadata": {},
     "output_type": "execute_result"
    }
   ],
   "source": [
    "statement = \"\"\"SELECT sample_id, aileron_pos_lh_deg, timestep, label FROM {}.{}\n",
    "    LIMIT 10\"\"\".format(\n",
    "    database_name, table_name_csv\n",
    ")\n",
    "\n",
    "print(statement)\n",
    "\n",
    "df = pd.read_sql(statement, conn)\n",
    "df.head(5)"
   ]
  },
  {
   "cell_type": "code",
   "execution_count": 29,
   "id": "610ebce7-f6b7-4580-a2cf-ca514846bf36",
   "metadata": {},
   "outputs": [
    {
     "name": "stderr",
     "output_type": "stream",
     "text": [
      "/tmp/ipykernel_188/624500045.py:9: UserWarning: pandas only supports SQLAlchemy connectable (engine/connection) or database string URI or sqlite3 DBAPI2 connection. Other DBAPI2 objects are not tested. Please consider using SQLAlchemy.\n",
      "  df = pd.read_sql(statement, conn)\n"
     ]
    },
    {
     "data": {
      "text/html": [
       "<div>\n",
       "<style scoped>\n",
       "    .dataframe tbody tr th:only-of-type {\n",
       "        vertical-align: middle;\n",
       "    }\n",
       "\n",
       "    .dataframe tbody tr th {\n",
       "        vertical-align: top;\n",
       "    }\n",
       "\n",
       "    .dataframe thead th {\n",
       "        text-align: right;\n",
       "    }\n",
       "</style>\n",
       "<table border=\"1\" class=\"dataframe\">\n",
       "  <thead>\n",
       "    <tr style=\"text-align: right;\">\n",
       "      <th></th>\n",
       "      <th>label</th>\n",
       "      <th>count</th>\n",
       "    </tr>\n",
       "  </thead>\n",
       "  <tbody>\n",
       "    <tr>\n",
       "      <th>0</th>\n",
       "      <td>0</td>\n",
       "      <td>14346080</td>\n",
       "    </tr>\n",
       "    <tr>\n",
       "      <th>1</th>\n",
       "      <td>1</td>\n",
       "      <td>1122080</td>\n",
       "    </tr>\n",
       "    <tr>\n",
       "      <th>2</th>\n",
       "      <td>2</td>\n",
       "      <td>353120</td>\n",
       "    </tr>\n",
       "    <tr>\n",
       "      <th>3</th>\n",
       "      <td>3</td>\n",
       "      <td>152640</td>\n",
       "    </tr>\n",
       "  </tbody>\n",
       "</table>\n",
       "</div>"
      ],
      "text/plain": [
       "   label     count\n",
       "0      0  14346080\n",
       "1      1   1122080\n",
       "2      2    353120\n",
       "3      3    152640"
      ]
     },
     "execution_count": 29,
     "metadata": {},
     "output_type": "execute_result"
    }
   ],
   "source": [
    "statement = \"\"\"SELECT label, COUNT(*) AS count\n",
    "    FROM {}.{}\n",
    "    GROUP BY label\n",
    "    ORDER BY label\"\"\".format(\n",
    "    database_name, table_name_csv\n",
    ")\n",
    "\n",
    "\n",
    "df = pd.read_sql(statement, conn)\n",
    "df.head(10)"
   ]
  },
  {
   "cell_type": "markdown",
   "id": "d6c6fc74-a1a4-4c6a-851a-f5cedea8f37b",
   "metadata": {},
   "source": [
    "The classes are significantly imbalanced, with 14 million nominal examples, 1 million speed high examples, 350,000 path high examples and 152,000 flaps late setting examples. It should be noted that this is time series data, so the number of individual flight recordings is a fraction of this.\n",
    "\n",
    "### Check for Duplicates"
   ]
  },
  {
   "cell_type": "code",
   "execution_count": 33,
   "id": "90423b9d-084b-4187-a67a-d410e4940df1",
   "metadata": {},
   "outputs": [
    {
     "name": "stderr",
     "output_type": "stream",
     "text": [
      "/tmp/ipykernel_188/2534158001.py:10: UserWarning: pandas only supports SQLAlchemy connectable (engine/connection) or database string URI or sqlite3 DBAPI2 connection. Other DBAPI2 objects are not tested. Please consider using SQLAlchemy.\n",
      "  df = pd.read_sql(statement, conn)\n"
     ]
    },
    {
     "data": {
      "text/html": [
       "<div>\n",
       "<style scoped>\n",
       "    .dataframe tbody tr th:only-of-type {\n",
       "        vertical-align: middle;\n",
       "    }\n",
       "\n",
       "    .dataframe tbody tr th {\n",
       "        vertical-align: top;\n",
       "    }\n",
       "\n",
       "    .dataframe thead th {\n",
       "        text-align: right;\n",
       "    }\n",
       "</style>\n",
       "<table border=\"1\" class=\"dataframe\">\n",
       "  <thead>\n",
       "    <tr style=\"text-align: right;\">\n",
       "      <th></th>\n",
       "      <th>sample_id</th>\n",
       "      <th>timestep</th>\n",
       "      <th>aileron_pos_lh_deg</th>\n",
       "      <th>aileron_pos_rh_deg</th>\n",
       "      <th>corrected_angle_of_attack_deg</th>\n",
       "      <th>baro_correct_alt_lsp_ft</th>\n",
       "      <th>computed_airspeed_lsp_knots</th>\n",
       "      <th>selected_course_deg</th>\n",
       "      <th>drift_angle_deg</th>\n",
       "      <th>elevator_pos_left_deg</th>\n",
       "      <th>...</th>\n",
       "      <th>core_speed_avg_perc</th>\n",
       "      <th>total_pressure_lsp_millibar</th>\n",
       "      <th>pitch_angle_lsp_deg</th>\n",
       "      <th>roll_angle_lsp_deg</th>\n",
       "      <th>rudder_pos_deg</th>\n",
       "      <th>true_heading_lsp_deg</th>\n",
       "      <th>vertical_accel_g</th>\n",
       "      <th>wind_speed_knots</th>\n",
       "      <th>label</th>\n",
       "      <th>_col23</th>\n",
       "    </tr>\n",
       "  </thead>\n",
       "  <tbody>\n",
       "  </tbody>\n",
       "</table>\n",
       "<p>0 rows × 24 columns</p>\n",
       "</div>"
      ],
      "text/plain": [
       "Empty DataFrame\n",
       "Columns: [sample_id, timestep, aileron_pos_lh_deg, aileron_pos_rh_deg, corrected_angle_of_attack_deg, baro_correct_alt_lsp_ft, computed_airspeed_lsp_knots, selected_course_deg, drift_angle_deg, elevator_pos_left_deg, te_flap_pos_disc, glideslope_dev_perc, selected_heading_deg, localizer_dev_perc, core_speed_avg_perc, total_pressure_lsp_millibar, pitch_angle_lsp_deg, roll_angle_lsp_deg, rudder_pos_deg, true_heading_lsp_deg, vertical_accel_g, wind_speed_knots, label, _col23]\n",
       "Index: []\n",
       "\n",
       "[0 rows x 24 columns]"
      ]
     },
     "execution_count": 33,
     "metadata": {},
     "output_type": "execute_result"
    }
   ],
   "source": [
    "statement = \"\"\"SELECT *, COUNT(*)\n",
    "    FROM {}.{}\n",
    "    GROUP BY sample_id, aileron_pos_lh_deg, timestep, aileron_pos_rh_deg, corrected_angle_of_attack_deg, baro_correct_alt_lsp_ft, computed_airspeed_lsp_knots,\n",
    "    selected_course_deg, drift_angle_deg, elevator_pos_left_deg, te_flap_pos_disc, glideslope_dev_perc, selected_heading_deg, localizer_dev_perc, core_speed_avg_perc,\n",
    "    total_pressure_lsp_millibar, pitch_angle_lsp_deg, roll_angle_lsp_deg, rudder_pos_deg, true_heading_lsp_deg, vertical_accel_g, wind_speed_knots, label\n",
    "    HAVING COUNT(*) > 1\"\"\".format(\n",
    "    database_name, table_name_csv\n",
    ")\n",
    "\n",
    "df = pd.read_sql(statement, conn)\n",
    "df.head(10)\n"
   ]
  },
  {
   "cell_type": "markdown",
   "id": "84d339be-be75-47fb-8414-96d806206478",
   "metadata": {},
   "source": [
    "#### Check for Null or Missing Values"
   ]
  },
  {
   "cell_type": "code",
   "execution_count": 24,
   "id": "a309f805-7a83-4f79-9d4a-0e84b081c9d0",
   "metadata": {},
   "outputs": [
    {
     "name": "stdout",
     "output_type": "stream",
     "text": [
      "/home/sagemaker-user/FlightFinalApproachAnomalyDetection\n"
     ]
    }
   ],
   "source": [
    "!pwd"
   ]
  },
  {
   "cell_type": "code",
   "execution_count": 25,
   "id": "e1dac247-c190-4dcd-8b4d-2274195275a2",
   "metadata": {},
   "outputs": [],
   "source": [
    "import pandas as pd\n",
    "df = pd.read_csv(\"/home/sagemaker-user/FlightFinalApproachAnomalyDetection/training_flight_data.csv\")"
   ]
  },
  {
   "cell_type": "code",
   "execution_count": null,
   "id": "e630d579-787c-4912-8d35-4ede26dde696",
   "metadata": {},
   "outputs": [],
   "source": []
  },
  {
   "cell_type": "code",
   "execution_count": 27,
   "id": "8519146c-1434-4789-8f2c-e71ef4144ac1",
   "metadata": {},
   "outputs": [
    {
     "data": {
      "text/html": [
       "<div>\n",
       "<style scoped>\n",
       "    .dataframe tbody tr th:only-of-type {\n",
       "        vertical-align: middle;\n",
       "    }\n",
       "\n",
       "    .dataframe tbody tr th {\n",
       "        vertical-align: top;\n",
       "    }\n",
       "\n",
       "    .dataframe thead th {\n",
       "        text-align: right;\n",
       "    }\n",
       "</style>\n",
       "<table border=\"1\" class=\"dataframe\">\n",
       "  <thead>\n",
       "    <tr style=\"text-align: right;\">\n",
       "      <th></th>\n",
       "      <th>SampleID</th>\n",
       "      <th>TimeStep</th>\n",
       "      <th>Feature_0</th>\n",
       "      <th>Feature_1</th>\n",
       "      <th>Feature_2</th>\n",
       "      <th>Feature_3</th>\n",
       "      <th>Feature_4</th>\n",
       "      <th>Feature_5</th>\n",
       "      <th>Feature_6</th>\n",
       "      <th>Feature_7</th>\n",
       "      <th>...</th>\n",
       "      <th>Feature_11</th>\n",
       "      <th>Feature_12</th>\n",
       "      <th>Feature_13</th>\n",
       "      <th>Feature_14</th>\n",
       "      <th>Feature_15</th>\n",
       "      <th>Feature_16</th>\n",
       "      <th>Feature_17</th>\n",
       "      <th>Feature_18</th>\n",
       "      <th>Feature_19</th>\n",
       "      <th>Label</th>\n",
       "    </tr>\n",
       "  </thead>\n",
       "  <tbody>\n",
       "    <tr>\n",
       "      <th>0</th>\n",
       "      <td>0</td>\n",
       "      <td>0</td>\n",
       "      <td>81.261190</td>\n",
       "      <td>82.652336</td>\n",
       "      <td>-8.111792</td>\n",
       "      <td>1969.6174</td>\n",
       "      <td>155.57140</td>\n",
       "      <td>-2.109358</td>\n",
       "      <td>-0.692778</td>\n",
       "      <td>-4.952854</td>\n",
       "      <td>...</td>\n",
       "      <td>0.006664</td>\n",
       "      <td>70.74118</td>\n",
       "      <td>985.42550</td>\n",
       "      <td>-3.662262</td>\n",
       "      <td>0.785912</td>\n",
       "      <td>-0.390141</td>\n",
       "      <td>-1.081870</td>\n",
       "      <td>0.972379</td>\n",
       "      <td>12.625183</td>\n",
       "      <td>0.0</td>\n",
       "    </tr>\n",
       "    <tr>\n",
       "      <th>1</th>\n",
       "      <td>0</td>\n",
       "      <td>1</td>\n",
       "      <td>79.604095</td>\n",
       "      <td>81.015700</td>\n",
       "      <td>-7.644611</td>\n",
       "      <td>1955.6995</td>\n",
       "      <td>154.51205</td>\n",
       "      <td>-2.109358</td>\n",
       "      <td>-0.867216</td>\n",
       "      <td>-5.198349</td>\n",
       "      <td>...</td>\n",
       "      <td>0.007448</td>\n",
       "      <td>70.71775</td>\n",
       "      <td>985.52030</td>\n",
       "      <td>-3.665276</td>\n",
       "      <td>0.046774</td>\n",
       "      <td>-0.756234</td>\n",
       "      <td>-0.704820</td>\n",
       "      <td>0.770077</td>\n",
       "      <td>11.893839</td>\n",
       "      <td>0.0</td>\n",
       "    </tr>\n",
       "    <tr>\n",
       "      <th>2</th>\n",
       "      <td>0</td>\n",
       "      <td>2</td>\n",
       "      <td>81.302110</td>\n",
       "      <td>80.770200</td>\n",
       "      <td>-7.552573</td>\n",
       "      <td>1940.0267</td>\n",
       "      <td>153.32867</td>\n",
       "      <td>-2.109358</td>\n",
       "      <td>-1.424093</td>\n",
       "      <td>-4.830105</td>\n",
       "      <td>...</td>\n",
       "      <td>0.009604</td>\n",
       "      <td>70.70276</td>\n",
       "      <td>985.41650</td>\n",
       "      <td>-3.940319</td>\n",
       "      <td>0.804820</td>\n",
       "      <td>-1.325632</td>\n",
       "      <td>-0.240446</td>\n",
       "      <td>0.543937</td>\n",
       "      <td>12.559112</td>\n",
       "      <td>0.0</td>\n",
       "    </tr>\n",
       "    <tr>\n",
       "      <th>3</th>\n",
       "      <td>0</td>\n",
       "      <td>3</td>\n",
       "      <td>82.345470</td>\n",
       "      <td>83.900276</td>\n",
       "      <td>-8.395265</td>\n",
       "      <td>1924.5493</td>\n",
       "      <td>150.88818</td>\n",
       "      <td>-2.109358</td>\n",
       "      <td>-1.141912</td>\n",
       "      <td>-4.625526</td>\n",
       "      <td>...</td>\n",
       "      <td>0.009408</td>\n",
       "      <td>70.74159</td>\n",
       "      <td>984.81710</td>\n",
       "      <td>-4.275129</td>\n",
       "      <td>1.077102</td>\n",
       "      <td>-0.326884</td>\n",
       "      <td>-0.191627</td>\n",
       "      <td>1.062817</td>\n",
       "      <td>10.542998</td>\n",
       "      <td>0.0</td>\n",
       "    </tr>\n",
       "    <tr>\n",
       "      <th>4</th>\n",
       "      <td>0</td>\n",
       "      <td>4</td>\n",
       "      <td>81.874930</td>\n",
       "      <td>82.754620</td>\n",
       "      <td>-7.854284</td>\n",
       "      <td>1905.3670</td>\n",
       "      <td>150.69461</td>\n",
       "      <td>-2.109358</td>\n",
       "      <td>-0.724660</td>\n",
       "      <td>-4.400490</td>\n",
       "      <td>...</td>\n",
       "      <td>0.009408</td>\n",
       "      <td>70.57045</td>\n",
       "      <td>985.23065</td>\n",
       "      <td>-4.241483</td>\n",
       "      <td>1.654806</td>\n",
       "      <td>0.129545</td>\n",
       "      <td>-0.528425</td>\n",
       "      <td>0.867628</td>\n",
       "      <td>9.713539</td>\n",
       "      <td>0.0</td>\n",
       "    </tr>\n",
       "  </tbody>\n",
       "</table>\n",
       "<p>5 rows × 23 columns</p>\n",
       "</div>"
      ],
      "text/plain": [
       "   SampleID  TimeStep  Feature_0  Feature_1  Feature_2  Feature_3  Feature_4  \\\n",
       "0         0         0  81.261190  82.652336  -8.111792  1969.6174  155.57140   \n",
       "1         0         1  79.604095  81.015700  -7.644611  1955.6995  154.51205   \n",
       "2         0         2  81.302110  80.770200  -7.552573  1940.0267  153.32867   \n",
       "3         0         3  82.345470  83.900276  -8.395265  1924.5493  150.88818   \n",
       "4         0         4  81.874930  82.754620  -7.854284  1905.3670  150.69461   \n",
       "\n",
       "   Feature_5  Feature_6  Feature_7  ...  Feature_11  Feature_12  Feature_13  \\\n",
       "0  -2.109358  -0.692778  -4.952854  ...    0.006664    70.74118   985.42550   \n",
       "1  -2.109358  -0.867216  -5.198349  ...    0.007448    70.71775   985.52030   \n",
       "2  -2.109358  -1.424093  -4.830105  ...    0.009604    70.70276   985.41650   \n",
       "3  -2.109358  -1.141912  -4.625526  ...    0.009408    70.74159   984.81710   \n",
       "4  -2.109358  -0.724660  -4.400490  ...    0.009408    70.57045   985.23065   \n",
       "\n",
       "   Feature_14  Feature_15  Feature_16  Feature_17  Feature_18  Feature_19  \\\n",
       "0   -3.662262    0.785912   -0.390141   -1.081870    0.972379   12.625183   \n",
       "1   -3.665276    0.046774   -0.756234   -0.704820    0.770077   11.893839   \n",
       "2   -3.940319    0.804820   -1.325632   -0.240446    0.543937   12.559112   \n",
       "3   -4.275129    1.077102   -0.326884   -0.191627    1.062817   10.542998   \n",
       "4   -4.241483    1.654806    0.129545   -0.528425    0.867628    9.713539   \n",
       "\n",
       "   Label  \n",
       "0    0.0  \n",
       "1    0.0  \n",
       "2    0.0  \n",
       "3    0.0  \n",
       "4    0.0  \n",
       "\n",
       "[5 rows x 23 columns]"
      ]
     },
     "execution_count": 27,
     "metadata": {},
     "output_type": "execute_result"
    }
   ],
   "source": [
    "df.head()"
   ]
  },
  {
   "cell_type": "code",
   "execution_count": 26,
   "id": "9d77f66d-235a-4695-a6f4-1c144d69ab90",
   "metadata": {},
   "outputs": [],
   "source": [
    "\n",
    "df.columns = ['sample_id', 'time_step', 'aileron_pos_lh_deg', 'aileron_pos_rh_deg', 'corrected_angle_of_attack_deg', 'baro_correct_alt_lsp_ft', 'computed_airspeed_lsp_knots',\n",
    "    'selected_course_deg', 'drift_angle_deg', 'elevator_pos_left_deg', 'te_flap_pos_disc', 'glideslope_dev_perc', 'selected_heading_deg', 'localizer_dev_perc', 'core_speed_avg_perc',\n",
    "    'total_pressure_lsp_millibar', 'pitch_angle_lsp_deg', 'roll_angle_lsp_deg', 'rudder_pos_deg', 'true_heading_lsp_deg', 'vertical_accel_g', 'wind_speed_knots', 'label']"
   ]
  },
  {
   "cell_type": "code",
   "execution_count": 29,
   "id": "e1070ea7-6533-4bec-8674-6a101b030dc7",
   "metadata": {},
   "outputs": [
    {
     "name": "stdout",
     "output_type": "stream",
     "text": [
      "sample_id                        0\n",
      "time_step                        0\n",
      "aileron_pos_lh_deg               0\n",
      "aileron_pos_rh_deg               0\n",
      "corrected_angle_of_attack_deg    0\n",
      "baro_correct_alt_lsp_ft          0\n",
      "computed_airspeed_lsp_knots      0\n",
      "selected_course_deg              0\n",
      "drift_angle_deg                  0\n",
      "elevator_pos_left_deg            0\n",
      "te_flap_pos_disc                 0\n",
      "glideslope_dev_perc              0\n",
      "selected_heading_deg             0\n",
      "localizer_dev_perc               0\n",
      "core_speed_avg_perc              0\n",
      "total_pressure_lsp_millibar      0\n",
      "pitch_angle_lsp_deg              0\n",
      "roll_angle_lsp_deg               0\n",
      "rudder_pos_deg                   0\n",
      "true_heading_lsp_deg             0\n",
      "vertical_accel_g                 0\n",
      "wind_speed_knots                 0\n",
      "label                            0\n",
      "dtype: int64\n"
     ]
    }
   ],
   "source": [
    "missing_count = df.isnull().sum() \n",
    "\n",
    "print(df.isnull().sum())"
   ]
  },
  {
   "cell_type": "markdown",
   "id": "e8f563f4-cf70-4d4f-a3ef-e67ced77a3d8",
   "metadata": {},
   "source": [
    "#### Boxplots of Data Distribution"
   ]
  },
  {
   "cell_type": "code",
   "execution_count": null,
   "id": "a30a6ebe-ded9-4132-9d38-b2c5dd07030c",
   "metadata": {},
   "outputs": [],
   "source": [
    "import matplotlib.pyplot as plt\n",
    "\n",
    "df.plot(kind='box', subplots=True, layout=(5, 5), figsize=(15, 15))\n",
    "plt.show()"
   ]
  },
  {
   "cell_type": "markdown",
   "id": "8591dd7c-e3c3-42c9-a39d-a45812a5aa6c",
   "metadata": {},
   "source": [
    "### Variable Correlation"
   ]
  },
  {
   "cell_type": "code",
   "execution_count": null,
   "id": "e4090d82-1b52-4b21-aab7-8f79be1193de",
   "metadata": {},
   "outputs": [],
   "source": [
    "import seaborn as sns\n",
    "\n",
    "corr_matrix = df.corr()\n",
    "fig, ax = plt.subplots(figsize=(15, 15))\n",
    "sns.heatmap(corr_matrix, annot=True, cmap='coolwarm', )\n",
    "\n",
    "plt.show()"
   ]
  },
  {
   "cell_type": "code",
   "execution_count": 27,
   "id": "6ce3697d-7d47-4210-b7fd-cbe34b5e2841",
   "metadata": {},
   "outputs": [
    {
     "data": {
      "text/html": [
       "<div>\n",
       "<style scoped>\n",
       "    .dataframe tbody tr th:only-of-type {\n",
       "        vertical-align: middle;\n",
       "    }\n",
       "\n",
       "    .dataframe tbody tr th {\n",
       "        vertical-align: top;\n",
       "    }\n",
       "\n",
       "    .dataframe thead th {\n",
       "        text-align: right;\n",
       "    }\n",
       "</style>\n",
       "<table border=\"1\" class=\"dataframe\">\n",
       "  <thead>\n",
       "    <tr style=\"text-align: right;\">\n",
       "      <th></th>\n",
       "      <th>sample_id</th>\n",
       "      <th>time_step</th>\n",
       "      <th>aileron_pos_lh_deg</th>\n",
       "      <th>aileron_pos_rh_deg</th>\n",
       "      <th>corrected_angle_of_attack_deg</th>\n",
       "      <th>baro_correct_alt_lsp_ft</th>\n",
       "      <th>computed_airspeed_lsp_knots</th>\n",
       "      <th>selected_course_deg</th>\n",
       "      <th>drift_angle_deg</th>\n",
       "      <th>elevator_pos_left_deg</th>\n",
       "      <th>...</th>\n",
       "      <th>core_speed_avg_perc</th>\n",
       "      <th>total_pressure_lsp_millibar</th>\n",
       "      <th>pitch_angle_lsp_deg</th>\n",
       "      <th>roll_angle_lsp_deg</th>\n",
       "      <th>rudder_pos_deg</th>\n",
       "      <th>true_heading_lsp_deg</th>\n",
       "      <th>vertical_accel_g</th>\n",
       "      <th>wind_speed_knots</th>\n",
       "      <th>label</th>\n",
       "      <th>record_identifier</th>\n",
       "    </tr>\n",
       "  </thead>\n",
       "  <tbody>\n",
       "    <tr>\n",
       "      <th>6389915</th>\n",
       "      <td>99835</td>\n",
       "      <td>155.0</td>\n",
       "      <td>88.114624</td>\n",
       "      <td>82.222720</td>\n",
       "      <td>6.874017</td>\n",
       "      <td>629.22797</td>\n",
       "      <td>105.47570</td>\n",
       "      <td>34.98022</td>\n",
       "      <td>-1.176979</td>\n",
       "      <td>-3.316216</td>\n",
       "      <td>...</td>\n",
       "      <td>63.319550</td>\n",
       "      <td>1017.93130</td>\n",
       "      <td>4.400115</td>\n",
       "      <td>0.204086</td>\n",
       "      <td>-0.666766</td>\n",
       "      <td>29.992224</td>\n",
       "      <td>1.082715</td>\n",
       "      <td>3.502982</td>\n",
       "      <td>3.0</td>\n",
       "      <td>99835_155</td>\n",
       "    </tr>\n",
       "    <tr>\n",
       "      <th>6389916</th>\n",
       "      <td>99835</td>\n",
       "      <td>156.0</td>\n",
       "      <td>81.956764</td>\n",
       "      <td>86.375694</td>\n",
       "      <td>6.319379</td>\n",
       "      <td>623.89624</td>\n",
       "      <td>104.67262</td>\n",
       "      <td>34.98022</td>\n",
       "      <td>-1.019591</td>\n",
       "      <td>1.552792</td>\n",
       "      <td>...</td>\n",
       "      <td>61.987160</td>\n",
       "      <td>1017.81550</td>\n",
       "      <td>4.322569</td>\n",
       "      <td>-0.970712</td>\n",
       "      <td>-0.622764</td>\n",
       "      <td>29.740330</td>\n",
       "      <td>1.058380</td>\n",
       "      <td>3.245408</td>\n",
       "      <td>3.0</td>\n",
       "      <td>99835_156</td>\n",
       "    </tr>\n",
       "    <tr>\n",
       "      <th>6389917</th>\n",
       "      <td>99835</td>\n",
       "      <td>157.0</td>\n",
       "      <td>86.396150</td>\n",
       "      <td>86.027910</td>\n",
       "      <td>4.170040</td>\n",
       "      <td>624.05475</td>\n",
       "      <td>101.82832</td>\n",
       "      <td>34.98022</td>\n",
       "      <td>-1.167051</td>\n",
       "      <td>1.961948</td>\n",
       "      <td>...</td>\n",
       "      <td>61.082344</td>\n",
       "      <td>1016.82410</td>\n",
       "      <td>3.697519</td>\n",
       "      <td>0.035246</td>\n",
       "      <td>-0.695083</td>\n",
       "      <td>29.869590</td>\n",
       "      <td>1.056430</td>\n",
       "      <td>3.285423</td>\n",
       "      <td>3.0</td>\n",
       "      <td>99835_157</td>\n",
       "    </tr>\n",
       "    <tr>\n",
       "      <th>6389918</th>\n",
       "      <td>99835</td>\n",
       "      <td>158.0</td>\n",
       "      <td>85.577835</td>\n",
       "      <td>85.270966</td>\n",
       "      <td>1.343325</td>\n",
       "      <td>624.10240</td>\n",
       "      <td>99.21132</td>\n",
       "      <td>34.98022</td>\n",
       "      <td>-0.159543</td>\n",
       "      <td>10.063316</td>\n",
       "      <td>...</td>\n",
       "      <td>58.991150</td>\n",
       "      <td>1015.96124</td>\n",
       "      <td>2.390611</td>\n",
       "      <td>0.591246</td>\n",
       "      <td>-0.648484</td>\n",
       "      <td>29.010420</td>\n",
       "      <td>0.966415</td>\n",
       "      <td>3.440334</td>\n",
       "      <td>3.0</td>\n",
       "      <td>99835_158</td>\n",
       "    </tr>\n",
       "    <tr>\n",
       "      <th>6389919</th>\n",
       "      <td>99835</td>\n",
       "      <td>159.0</td>\n",
       "      <td>84.636765</td>\n",
       "      <td>86.682560</td>\n",
       "      <td>1.255068</td>\n",
       "      <td>624.51654</td>\n",
       "      <td>97.39182</td>\n",
       "      <td>34.98022</td>\n",
       "      <td>0.457792</td>\n",
       "      <td>9.797363</td>\n",
       "      <td>...</td>\n",
       "      <td>56.885094</td>\n",
       "      <td>1015.51624</td>\n",
       "      <td>2.680404</td>\n",
       "      <td>0.820136</td>\n",
       "      <td>-0.642458</td>\n",
       "      <td>28.177433</td>\n",
       "      <td>1.043380</td>\n",
       "      <td>2.406222</td>\n",
       "      <td>3.0</td>\n",
       "      <td>99835_159</td>\n",
       "    </tr>\n",
       "  </tbody>\n",
       "</table>\n",
       "<p>5 rows × 24 columns</p>\n",
       "</div>"
      ],
      "text/plain": [
       "         sample_id  time_step  aileron_pos_lh_deg  aileron_pos_rh_deg  \\\n",
       "6389915      99835      155.0           88.114624           82.222720   \n",
       "6389916      99835      156.0           81.956764           86.375694   \n",
       "6389917      99835      157.0           86.396150           86.027910   \n",
       "6389918      99835      158.0           85.577835           85.270966   \n",
       "6389919      99835      159.0           84.636765           86.682560   \n",
       "\n",
       "         corrected_angle_of_attack_deg  baro_correct_alt_lsp_ft  \\\n",
       "6389915                       6.874017                629.22797   \n",
       "6389916                       6.319379                623.89624   \n",
       "6389917                       4.170040                624.05475   \n",
       "6389918                       1.343325                624.10240   \n",
       "6389919                       1.255068                624.51654   \n",
       "\n",
       "         computed_airspeed_lsp_knots  selected_course_deg  drift_angle_deg  \\\n",
       "6389915                    105.47570             34.98022        -1.176979   \n",
       "6389916                    104.67262             34.98022        -1.019591   \n",
       "6389917                    101.82832             34.98022        -1.167051   \n",
       "6389918                     99.21132             34.98022        -0.159543   \n",
       "6389919                     97.39182             34.98022         0.457792   \n",
       "\n",
       "         elevator_pos_left_deg  ...  core_speed_avg_perc  \\\n",
       "6389915              -3.316216  ...            63.319550   \n",
       "6389916               1.552792  ...            61.987160   \n",
       "6389917               1.961948  ...            61.082344   \n",
       "6389918              10.063316  ...            58.991150   \n",
       "6389919               9.797363  ...            56.885094   \n",
       "\n",
       "         total_pressure_lsp_millibar  pitch_angle_lsp_deg  roll_angle_lsp_deg  \\\n",
       "6389915                   1017.93130             4.400115            0.204086   \n",
       "6389916                   1017.81550             4.322569           -0.970712   \n",
       "6389917                   1016.82410             3.697519            0.035246   \n",
       "6389918                   1015.96124             2.390611            0.591246   \n",
       "6389919                   1015.51624             2.680404            0.820136   \n",
       "\n",
       "         rudder_pos_deg  true_heading_lsp_deg  vertical_accel_g  \\\n",
       "6389915       -0.666766             29.992224          1.082715   \n",
       "6389916       -0.622764             29.740330          1.058380   \n",
       "6389917       -0.695083             29.869590          1.056430   \n",
       "6389918       -0.648484             29.010420          0.966415   \n",
       "6389919       -0.642458             28.177433          1.043380   \n",
       "\n",
       "         wind_speed_knots  label  record_identifier  \n",
       "6389915          3.502982    3.0          99835_155  \n",
       "6389916          3.245408    3.0          99835_156  \n",
       "6389917          3.285423    3.0          99835_157  \n",
       "6389918          3.440334    3.0          99835_158  \n",
       "6389919          2.406222    3.0          99835_159  \n",
       "\n",
       "[5 rows x 24 columns]"
      ]
     },
     "execution_count": 27,
     "metadata": {},
     "output_type": "execute_result"
    }
   ],
   "source": [
    "\n",
    "df[\"record_identifier\"] = df[\"sample_id\"].astype(str) + \"_\" + df[\"time_step\"].astype(str)\n",
    "\n",
    "df[\"time_step\"] = df[\"time_step\"].astype(float)\n",
    "df.tail()"
   ]
  },
  {
   "cell_type": "markdown",
   "id": "86f028b8-b797-4e15-a4e4-c4058e9cf5b3",
   "metadata": {},
   "source": [
    "## Feature Store"
   ]
  },
  {
   "cell_type": "code",
   "execution_count": 29,
   "id": "daf0fea2-5e0c-4f3b-8ed9-ed749fd72c47",
   "metadata": {},
   "outputs": [],
   "source": [
    "from sagemaker.feature_store.feature_group import FeatureGroup\n",
    "from time import gmtime, strftime, sleep\n",
    "from sagemaker.session import Session\n",
    "\n",
    "boto_session = boto3.Session(region_name=region)\n",
    "\n",
    "sagemaker_client = boto_session.client(service_name=\"sagemaker\", region_name=region)\n",
    "featurestore_runtime = boto_session.client(\n",
    "    service_name=\"sagemaker-featurestore-runtime\", region_name=region\n",
    ")\n",
    "\n",
    "record_identifer_feature_name = 'record_identifier'\n",
    "event_time_feature_name = 'time_step'\n",
    "\n",
    "feature_store_session = Session(\n",
    "    boto_session=boto_session,\n",
    "    sagemaker_client=sagemaker_client,\n",
    "    sagemaker_featurestore_runtime_client=featurestore_runtime,\n",
    ")\n",
    "\n",
    "flight_feature_group_name = \"flightfeature-group-\" + strftime(\"%d-%H-%M-%S\", gmtime())\n",
    "flight_feature_group = FeatureGroup(name=flight_feature_group_name, sagemaker_session=feature_store_session\n",
    "                                     )"
   ]
  },
  {
   "cell_type": "code",
   "execution_count": 42,
   "id": "29a123a0-306f-473a-b4bf-7cca7df5f62c",
   "metadata": {},
   "outputs": [
    {
     "data": {
      "text/html": [
       "<div>\n",
       "<style scoped>\n",
       "    .dataframe tbody tr th:only-of-type {\n",
       "        vertical-align: middle;\n",
       "    }\n",
       "\n",
       "    .dataframe tbody tr th {\n",
       "        vertical-align: top;\n",
       "    }\n",
       "\n",
       "    .dataframe thead th {\n",
       "        text-align: right;\n",
       "    }\n",
       "</style>\n",
       "<table border=\"1\" class=\"dataframe\">\n",
       "  <thead>\n",
       "    <tr style=\"text-align: right;\">\n",
       "      <th></th>\n",
       "      <th>sample_id</th>\n",
       "      <th>time_step</th>\n",
       "      <th>aileron_pos_lh_deg</th>\n",
       "      <th>aileron_pos_rh_deg</th>\n",
       "      <th>corrected_angle_of_attack_deg</th>\n",
       "      <th>baro_correct_alt_lsp_ft</th>\n",
       "      <th>computed_airspeed_lsp_knots</th>\n",
       "      <th>selected_course_deg</th>\n",
       "      <th>drift_angle_deg</th>\n",
       "      <th>elevator_pos_left_deg</th>\n",
       "      <th>...</th>\n",
       "      <th>core_speed_avg_perc</th>\n",
       "      <th>total_pressure_lsp_millibar</th>\n",
       "      <th>pitch_angle_lsp_deg</th>\n",
       "      <th>roll_angle_lsp_deg</th>\n",
       "      <th>rudder_pos_deg</th>\n",
       "      <th>true_heading_lsp_deg</th>\n",
       "      <th>vertical_accel_g</th>\n",
       "      <th>wind_speed_knots</th>\n",
       "      <th>label</th>\n",
       "      <th>record_identifier</th>\n",
       "    </tr>\n",
       "  </thead>\n",
       "  <tbody>\n",
       "    <tr>\n",
       "      <th>0</th>\n",
       "      <td>0</td>\n",
       "      <td>0.0</td>\n",
       "      <td>81.261190</td>\n",
       "      <td>82.652336</td>\n",
       "      <td>-8.111792</td>\n",
       "      <td>1969.6174</td>\n",
       "      <td>155.57140</td>\n",
       "      <td>-2.109358</td>\n",
       "      <td>-0.692778</td>\n",
       "      <td>-4.952854</td>\n",
       "      <td>...</td>\n",
       "      <td>70.74118</td>\n",
       "      <td>985.42550</td>\n",
       "      <td>-3.662262</td>\n",
       "      <td>0.785912</td>\n",
       "      <td>-0.390141</td>\n",
       "      <td>-1.081870</td>\n",
       "      <td>0.972379</td>\n",
       "      <td>12.625183</td>\n",
       "      <td>0.0</td>\n",
       "      <td>0_0</td>\n",
       "    </tr>\n",
       "    <tr>\n",
       "      <th>1</th>\n",
       "      <td>0</td>\n",
       "      <td>1.0</td>\n",
       "      <td>79.604095</td>\n",
       "      <td>81.015700</td>\n",
       "      <td>-7.644611</td>\n",
       "      <td>1955.6995</td>\n",
       "      <td>154.51205</td>\n",
       "      <td>-2.109358</td>\n",
       "      <td>-0.867216</td>\n",
       "      <td>-5.198349</td>\n",
       "      <td>...</td>\n",
       "      <td>70.71775</td>\n",
       "      <td>985.52030</td>\n",
       "      <td>-3.665276</td>\n",
       "      <td>0.046774</td>\n",
       "      <td>-0.756234</td>\n",
       "      <td>-0.704820</td>\n",
       "      <td>0.770077</td>\n",
       "      <td>11.893839</td>\n",
       "      <td>0.0</td>\n",
       "      <td>0_1</td>\n",
       "    </tr>\n",
       "    <tr>\n",
       "      <th>2</th>\n",
       "      <td>0</td>\n",
       "      <td>2.0</td>\n",
       "      <td>81.302110</td>\n",
       "      <td>80.770200</td>\n",
       "      <td>-7.552573</td>\n",
       "      <td>1940.0267</td>\n",
       "      <td>153.32867</td>\n",
       "      <td>-2.109358</td>\n",
       "      <td>-1.424093</td>\n",
       "      <td>-4.830105</td>\n",
       "      <td>...</td>\n",
       "      <td>70.70276</td>\n",
       "      <td>985.41650</td>\n",
       "      <td>-3.940319</td>\n",
       "      <td>0.804820</td>\n",
       "      <td>-1.325632</td>\n",
       "      <td>-0.240446</td>\n",
       "      <td>0.543937</td>\n",
       "      <td>12.559112</td>\n",
       "      <td>0.0</td>\n",
       "      <td>0_2</td>\n",
       "    </tr>\n",
       "    <tr>\n",
       "      <th>3</th>\n",
       "      <td>0</td>\n",
       "      <td>3.0</td>\n",
       "      <td>82.345470</td>\n",
       "      <td>83.900276</td>\n",
       "      <td>-8.395265</td>\n",
       "      <td>1924.5493</td>\n",
       "      <td>150.88818</td>\n",
       "      <td>-2.109358</td>\n",
       "      <td>-1.141912</td>\n",
       "      <td>-4.625526</td>\n",
       "      <td>...</td>\n",
       "      <td>70.74159</td>\n",
       "      <td>984.81710</td>\n",
       "      <td>-4.275129</td>\n",
       "      <td>1.077102</td>\n",
       "      <td>-0.326884</td>\n",
       "      <td>-0.191627</td>\n",
       "      <td>1.062817</td>\n",
       "      <td>10.542998</td>\n",
       "      <td>0.0</td>\n",
       "      <td>0_3</td>\n",
       "    </tr>\n",
       "    <tr>\n",
       "      <th>4</th>\n",
       "      <td>0</td>\n",
       "      <td>4.0</td>\n",
       "      <td>81.874930</td>\n",
       "      <td>82.754620</td>\n",
       "      <td>-7.854284</td>\n",
       "      <td>1905.3670</td>\n",
       "      <td>150.69461</td>\n",
       "      <td>-2.109358</td>\n",
       "      <td>-0.724660</td>\n",
       "      <td>-4.400490</td>\n",
       "      <td>...</td>\n",
       "      <td>70.57045</td>\n",
       "      <td>985.23065</td>\n",
       "      <td>-4.241483</td>\n",
       "      <td>1.654806</td>\n",
       "      <td>0.129545</td>\n",
       "      <td>-0.528425</td>\n",
       "      <td>0.867628</td>\n",
       "      <td>9.713539</td>\n",
       "      <td>0.0</td>\n",
       "      <td>0_4</td>\n",
       "    </tr>\n",
       "  </tbody>\n",
       "</table>\n",
       "<p>5 rows × 24 columns</p>\n",
       "</div>"
      ],
      "text/plain": [
       "   sample_id  time_step  aileron_pos_lh_deg  aileron_pos_rh_deg  \\\n",
       "0          0        0.0           81.261190           82.652336   \n",
       "1          0        1.0           79.604095           81.015700   \n",
       "2          0        2.0           81.302110           80.770200   \n",
       "3          0        3.0           82.345470           83.900276   \n",
       "4          0        4.0           81.874930           82.754620   \n",
       "\n",
       "   corrected_angle_of_attack_deg  baro_correct_alt_lsp_ft  \\\n",
       "0                      -8.111792                1969.6174   \n",
       "1                      -7.644611                1955.6995   \n",
       "2                      -7.552573                1940.0267   \n",
       "3                      -8.395265                1924.5493   \n",
       "4                      -7.854284                1905.3670   \n",
       "\n",
       "   computed_airspeed_lsp_knots  selected_course_deg  drift_angle_deg  \\\n",
       "0                    155.57140            -2.109358        -0.692778   \n",
       "1                    154.51205            -2.109358        -0.867216   \n",
       "2                    153.32867            -2.109358        -1.424093   \n",
       "3                    150.88818            -2.109358        -1.141912   \n",
       "4                    150.69461            -2.109358        -0.724660   \n",
       "\n",
       "   elevator_pos_left_deg  ...  core_speed_avg_perc  \\\n",
       "0              -4.952854  ...             70.74118   \n",
       "1              -5.198349  ...             70.71775   \n",
       "2              -4.830105  ...             70.70276   \n",
       "3              -4.625526  ...             70.74159   \n",
       "4              -4.400490  ...             70.57045   \n",
       "\n",
       "   total_pressure_lsp_millibar  pitch_angle_lsp_deg  roll_angle_lsp_deg  \\\n",
       "0                    985.42550            -3.662262            0.785912   \n",
       "1                    985.52030            -3.665276            0.046774   \n",
       "2                    985.41650            -3.940319            0.804820   \n",
       "3                    984.81710            -4.275129            1.077102   \n",
       "4                    985.23065            -4.241483            1.654806   \n",
       "\n",
       "   rudder_pos_deg  true_heading_lsp_deg  vertical_accel_g  wind_speed_knots  \\\n",
       "0       -0.390141             -1.081870          0.972379         12.625183   \n",
       "1       -0.756234             -0.704820          0.770077         11.893839   \n",
       "2       -1.325632             -0.240446          0.543937         12.559112   \n",
       "3       -0.326884             -0.191627          1.062817         10.542998   \n",
       "4        0.129545             -0.528425          0.867628          9.713539   \n",
       "\n",
       "   label  record_identifier  \n",
       "0    0.0                0_0  \n",
       "1    0.0                0_1  \n",
       "2    0.0                0_2  \n",
       "3    0.0                0_3  \n",
       "4    0.0                0_4  \n",
       "\n",
       "[5 rows x 24 columns]"
      ]
     },
     "execution_count": 42,
     "metadata": {},
     "output_type": "execute_result"
    }
   ],
   "source": [
    "df.head()"
   ]
  },
  {
   "cell_type": "code",
   "execution_count": 43,
   "id": "a995587e-ad5f-4315-8bf1-dc59fc98a8ea",
   "metadata": {},
   "outputs": [
    {
     "data": {
      "text/plain": [
       "[FeatureDefinition(feature_name='sample_id', feature_type=<FeatureTypeEnum.INTEGRAL: 'Integral'>, collection_type=None),\n",
       " FeatureDefinition(feature_name='time_step', feature_type=<FeatureTypeEnum.FRACTIONAL: 'Fractional'>, collection_type=None),\n",
       " FeatureDefinition(feature_name='aileron_pos_lh_deg', feature_type=<FeatureTypeEnum.FRACTIONAL: 'Fractional'>, collection_type=None),\n",
       " FeatureDefinition(feature_name='aileron_pos_rh_deg', feature_type=<FeatureTypeEnum.FRACTIONAL: 'Fractional'>, collection_type=None),\n",
       " FeatureDefinition(feature_name='corrected_angle_of_attack_deg', feature_type=<FeatureTypeEnum.FRACTIONAL: 'Fractional'>, collection_type=None),\n",
       " FeatureDefinition(feature_name='baro_correct_alt_lsp_ft', feature_type=<FeatureTypeEnum.FRACTIONAL: 'Fractional'>, collection_type=None),\n",
       " FeatureDefinition(feature_name='computed_airspeed_lsp_knots', feature_type=<FeatureTypeEnum.FRACTIONAL: 'Fractional'>, collection_type=None),\n",
       " FeatureDefinition(feature_name='selected_course_deg', feature_type=<FeatureTypeEnum.FRACTIONAL: 'Fractional'>, collection_type=None),\n",
       " FeatureDefinition(feature_name='drift_angle_deg', feature_type=<FeatureTypeEnum.FRACTIONAL: 'Fractional'>, collection_type=None),\n",
       " FeatureDefinition(feature_name='elevator_pos_left_deg', feature_type=<FeatureTypeEnum.FRACTIONAL: 'Fractional'>, collection_type=None),\n",
       " FeatureDefinition(feature_name='te_flap_pos_disc', feature_type=<FeatureTypeEnum.FRACTIONAL: 'Fractional'>, collection_type=None),\n",
       " FeatureDefinition(feature_name='glideslope_dev_perc', feature_type=<FeatureTypeEnum.FRACTIONAL: 'Fractional'>, collection_type=None),\n",
       " FeatureDefinition(feature_name='selected_heading_deg', feature_type=<FeatureTypeEnum.FRACTIONAL: 'Fractional'>, collection_type=None),\n",
       " FeatureDefinition(feature_name='localizer_dev_perc', feature_type=<FeatureTypeEnum.FRACTIONAL: 'Fractional'>, collection_type=None),\n",
       " FeatureDefinition(feature_name='core_speed_avg_perc', feature_type=<FeatureTypeEnum.FRACTIONAL: 'Fractional'>, collection_type=None),\n",
       " FeatureDefinition(feature_name='total_pressure_lsp_millibar', feature_type=<FeatureTypeEnum.FRACTIONAL: 'Fractional'>, collection_type=None),\n",
       " FeatureDefinition(feature_name='pitch_angle_lsp_deg', feature_type=<FeatureTypeEnum.FRACTIONAL: 'Fractional'>, collection_type=None),\n",
       " FeatureDefinition(feature_name='roll_angle_lsp_deg', feature_type=<FeatureTypeEnum.FRACTIONAL: 'Fractional'>, collection_type=None),\n",
       " FeatureDefinition(feature_name='rudder_pos_deg', feature_type=<FeatureTypeEnum.FRACTIONAL: 'Fractional'>, collection_type=None),\n",
       " FeatureDefinition(feature_name='true_heading_lsp_deg', feature_type=<FeatureTypeEnum.FRACTIONAL: 'Fractional'>, collection_type=None),\n",
       " FeatureDefinition(feature_name='vertical_accel_g', feature_type=<FeatureTypeEnum.FRACTIONAL: 'Fractional'>, collection_type=None),\n",
       " FeatureDefinition(feature_name='wind_speed_knots', feature_type=<FeatureTypeEnum.FRACTIONAL: 'Fractional'>, collection_type=None),\n",
       " FeatureDefinition(feature_name='label', feature_type=<FeatureTypeEnum.FRACTIONAL: 'Fractional'>, collection_type=None),\n",
       " FeatureDefinition(feature_name='record_identifier', feature_type=<FeatureTypeEnum.STRING: 'String'>, collection_type=None)]"
      ]
     },
     "execution_count": 43,
     "metadata": {},
     "output_type": "execute_result"
    }
   ],
   "source": [
    "flight_feature_group.load_feature_definitions(data_frame=df)"
   ]
  },
  {
   "cell_type": "markdown",
   "id": "fa73b0fe-b882-4ebe-a27e-002d92482a3c",
   "metadata": {},
   "source": [
    "### Creation of FeatureGroups in SageMaker FeatureStore"
   ]
  },
  {
   "cell_type": "code",
   "execution_count": 44,
   "id": "eac4b50b-12e0-4dcf-a868-066e4d999701",
   "metadata": {},
   "outputs": [
    {
     "ename": "ResourceInUse",
     "evalue": "An error occurred (ResourceInUse) when calling the CreateFeatureGroup operation: Resource Already Exists: FeatureGroup with name flightfeature-group-01-17-17-38 already exists. Choose a different name.",
     "output_type": "error",
     "traceback": [
      "\u001b[0;31m---------------------------------------------------------------------------\u001b[0m",
      "\u001b[0;31mResourceInUse\u001b[0m                             Traceback (most recent call last)",
      "Cell \u001b[0;32mIn[44], line 14\u001b[0m\n\u001b[1;32m     10\u001b[0m         \u001b[38;5;28;01mraise\u001b[39;00m \u001b[38;5;167;01mRuntimeError\u001b[39;00m(\u001b[38;5;124mf\u001b[39m\u001b[38;5;124m\"\u001b[39m\u001b[38;5;124mFailed to create feature group \u001b[39m\u001b[38;5;132;01m{\u001b[39;00mfeature_group\u001b[38;5;241m.\u001b[39mname\u001b[38;5;132;01m}\u001b[39;00m\u001b[38;5;124m\"\u001b[39m)\n\u001b[1;32m     11\u001b[0m     \u001b[38;5;28mprint\u001b[39m(\u001b[38;5;124mf\u001b[39m\u001b[38;5;124m\"\u001b[39m\u001b[38;5;124mFeatureGroup \u001b[39m\u001b[38;5;132;01m{\u001b[39;00mfeature_group\u001b[38;5;241m.\u001b[39mname\u001b[38;5;132;01m}\u001b[39;00m\u001b[38;5;124m successfully created.\u001b[39m\u001b[38;5;124m\"\u001b[39m)\n\u001b[0;32m---> 14\u001b[0m \u001b[43mflight_feature_group\u001b[49m\u001b[38;5;241;43m.\u001b[39;49m\u001b[43mcreate\u001b[49m\u001b[43m(\u001b[49m\n\u001b[1;32m     15\u001b[0m \u001b[43m    \u001b[49m\u001b[43ms3_uri\u001b[49m\u001b[38;5;241;43m=\u001b[39;49m\u001b[38;5;124;43mf\u001b[39;49m\u001b[38;5;124;43m\"\u001b[39;49m\u001b[38;5;124;43ms3://\u001b[39;49m\u001b[38;5;132;43;01m{\u001b[39;49;00m\u001b[43mbucket\u001b[49m\u001b[38;5;132;43;01m}\u001b[39;49;00m\u001b[38;5;124;43m/feature_group\u001b[39;49m\u001b[38;5;124;43m\"\u001b[39;49m\u001b[43m,\u001b[49m\n\u001b[1;32m     16\u001b[0m \u001b[43m    \u001b[49m\u001b[43mrecord_identifier_name\u001b[49m\u001b[38;5;241;43m=\u001b[39;49m\u001b[43mrecord_identifer_feature_name\u001b[49m\u001b[43m,\u001b[49m\n\u001b[1;32m     17\u001b[0m \u001b[43m    \u001b[49m\u001b[43mevent_time_feature_name\u001b[49m\u001b[38;5;241;43m=\u001b[39;49m\u001b[43mevent_time_feature_name\u001b[49m\u001b[43m,\u001b[49m\n\u001b[1;32m     18\u001b[0m \u001b[43m    \u001b[49m\u001b[43mrole_arn\u001b[49m\u001b[38;5;241;43m=\u001b[39;49m\u001b[43mrole\u001b[49m\u001b[43m,\u001b[49m\n\u001b[1;32m     19\u001b[0m \u001b[43m    \u001b[49m\u001b[43menable_online_store\u001b[49m\u001b[38;5;241;43m=\u001b[39;49m\u001b[38;5;28;43;01mTrue\u001b[39;49;00m\u001b[43m,\u001b[49m\n\u001b[1;32m     20\u001b[0m \u001b[43m)\u001b[49m\n\u001b[1;32m     23\u001b[0m wait_for_feature_group_creation_complete(feature_group\u001b[38;5;241m=\u001b[39mflight_feature_group)\n",
      "File \u001b[0;32m/opt/conda/lib/python3.11/site-packages/sagemaker/feature_store/feature_group.py:789\u001b[0m, in \u001b[0;36mFeatureGroup.create\u001b[0;34m(self, s3_uri, record_identifier_name, event_time_feature_name, role_arn, online_store_kms_key_id, enable_online_store, ttl_duration, offline_store_kms_key_id, disable_glue_table_creation, data_catalog_config, description, tags, table_format, online_store_storage_type, throughput_config)\u001b[0m\n\u001b[1;32m    779\u001b[0m     offline_store_config \u001b[38;5;241m=\u001b[39m OfflineStoreConfig(\n\u001b[1;32m    780\u001b[0m         s3_storage_config\u001b[38;5;241m=\u001b[39ms3_storage_config,\n\u001b[1;32m    781\u001b[0m         disable_glue_table_creation\u001b[38;5;241m=\u001b[39mdisable_glue_table_creation,\n\u001b[1;32m    782\u001b[0m         data_catalog_config\u001b[38;5;241m=\u001b[39mdata_catalog_config,\n\u001b[1;32m    783\u001b[0m         table_format\u001b[38;5;241m=\u001b[39mtable_format,\n\u001b[1;32m    784\u001b[0m     )\n\u001b[1;32m    785\u001b[0m     create_feature_store_args\u001b[38;5;241m.\u001b[39mupdate(\n\u001b[1;32m    786\u001b[0m         {\u001b[38;5;124m\"\u001b[39m\u001b[38;5;124moffline_store_config\u001b[39m\u001b[38;5;124m\"\u001b[39m: offline_store_config\u001b[38;5;241m.\u001b[39mto_dict()}\n\u001b[1;32m    787\u001b[0m     )\n\u001b[0;32m--> 789\u001b[0m \u001b[38;5;28;01mreturn\u001b[39;00m \u001b[38;5;28;43mself\u001b[39;49m\u001b[38;5;241;43m.\u001b[39;49m\u001b[43msagemaker_session\u001b[49m\u001b[38;5;241;43m.\u001b[39;49m\u001b[43mcreate_feature_group\u001b[49m\u001b[43m(\u001b[49m\u001b[38;5;241;43m*\u001b[39;49m\u001b[38;5;241;43m*\u001b[39;49m\u001b[43mcreate_feature_store_args\u001b[49m\u001b[43m)\u001b[49m\n",
      "File \u001b[0;32m/opt/conda/lib/python3.11/site-packages/sagemaker/session.py:6088\u001b[0m, in \u001b[0;36mSession.create_feature_group\u001b[0;34m(self, feature_group_name, record_identifier_name, event_time_feature_name, feature_definitions, role_arn, online_store_config, offline_store_config, throughput_config, description, tags)\u001b[0m\n\u001b[1;32m   6073\u001b[0m kwargs \u001b[38;5;241m=\u001b[39m \u001b[38;5;28mdict\u001b[39m(\n\u001b[1;32m   6074\u001b[0m     FeatureGroupName\u001b[38;5;241m=\u001b[39mfeature_group_name,\n\u001b[1;32m   6075\u001b[0m     RecordIdentifierFeatureName\u001b[38;5;241m=\u001b[39mrecord_identifier_name,\n\u001b[0;32m   (...)\u001b[0m\n\u001b[1;32m   6078\u001b[0m     RoleArn\u001b[38;5;241m=\u001b[39mrole_arn,\n\u001b[1;32m   6079\u001b[0m )\n\u001b[1;32m   6080\u001b[0m update_args(\n\u001b[1;32m   6081\u001b[0m     kwargs,\n\u001b[1;32m   6082\u001b[0m     OnlineStoreConfig\u001b[38;5;241m=\u001b[39minferred_online_store_from_config,\n\u001b[0;32m   (...)\u001b[0m\n\u001b[1;32m   6086\u001b[0m     Tags\u001b[38;5;241m=\u001b[39mtags,\n\u001b[1;32m   6087\u001b[0m )\n\u001b[0;32m-> 6088\u001b[0m \u001b[38;5;28;01mreturn\u001b[39;00m \u001b[38;5;28;43mself\u001b[39;49m\u001b[38;5;241;43m.\u001b[39;49m\u001b[43msagemaker_client\u001b[49m\u001b[38;5;241;43m.\u001b[39;49m\u001b[43mcreate_feature_group\u001b[49m\u001b[43m(\u001b[49m\u001b[38;5;241;43m*\u001b[39;49m\u001b[38;5;241;43m*\u001b[39;49m\u001b[43mkwargs\u001b[49m\u001b[43m)\u001b[49m\n",
      "File \u001b[0;32m/opt/conda/lib/python3.11/site-packages/botocore/client.py:569\u001b[0m, in \u001b[0;36mClientCreator._create_api_method.<locals>._api_call\u001b[0;34m(self, *args, **kwargs)\u001b[0m\n\u001b[1;32m    565\u001b[0m     \u001b[38;5;28;01mraise\u001b[39;00m \u001b[38;5;167;01mTypeError\u001b[39;00m(\n\u001b[1;32m    566\u001b[0m         \u001b[38;5;124mf\u001b[39m\u001b[38;5;124m\"\u001b[39m\u001b[38;5;132;01m{\u001b[39;00mpy_operation_name\u001b[38;5;132;01m}\u001b[39;00m\u001b[38;5;124m() only accepts keyword arguments.\u001b[39m\u001b[38;5;124m\"\u001b[39m\n\u001b[1;32m    567\u001b[0m     )\n\u001b[1;32m    568\u001b[0m \u001b[38;5;66;03m# The \"self\" in this scope is referring to the BaseClient.\u001b[39;00m\n\u001b[0;32m--> 569\u001b[0m \u001b[38;5;28;01mreturn\u001b[39;00m \u001b[38;5;28;43mself\u001b[39;49m\u001b[38;5;241;43m.\u001b[39;49m\u001b[43m_make_api_call\u001b[49m\u001b[43m(\u001b[49m\u001b[43moperation_name\u001b[49m\u001b[43m,\u001b[49m\u001b[43m \u001b[49m\u001b[43mkwargs\u001b[49m\u001b[43m)\u001b[49m\n",
      "File \u001b[0;32m/opt/conda/lib/python3.11/site-packages/botocore/client.py:1023\u001b[0m, in \u001b[0;36mBaseClient._make_api_call\u001b[0;34m(self, operation_name, api_params)\u001b[0m\n\u001b[1;32m   1019\u001b[0m     error_code \u001b[38;5;241m=\u001b[39m error_info\u001b[38;5;241m.\u001b[39mget(\u001b[38;5;124m\"\u001b[39m\u001b[38;5;124mQueryErrorCode\u001b[39m\u001b[38;5;124m\"\u001b[39m) \u001b[38;5;129;01mor\u001b[39;00m error_info\u001b[38;5;241m.\u001b[39mget(\n\u001b[1;32m   1020\u001b[0m         \u001b[38;5;124m\"\u001b[39m\u001b[38;5;124mCode\u001b[39m\u001b[38;5;124m\"\u001b[39m\n\u001b[1;32m   1021\u001b[0m     )\n\u001b[1;32m   1022\u001b[0m     error_class \u001b[38;5;241m=\u001b[39m \u001b[38;5;28mself\u001b[39m\u001b[38;5;241m.\u001b[39mexceptions\u001b[38;5;241m.\u001b[39mfrom_code(error_code)\n\u001b[0;32m-> 1023\u001b[0m     \u001b[38;5;28;01mraise\u001b[39;00m error_class(parsed_response, operation_name)\n\u001b[1;32m   1024\u001b[0m \u001b[38;5;28;01melse\u001b[39;00m:\n\u001b[1;32m   1025\u001b[0m     \u001b[38;5;28;01mreturn\u001b[39;00m parsed_response\n",
      "\u001b[0;31mResourceInUse\u001b[0m: An error occurred (ResourceInUse) when calling the CreateFeatureGroup operation: Resource Already Exists: FeatureGroup with name flightfeature-group-01-17-17-38 already exists. Choose a different name."
     ]
    }
   ],
   "source": [
    "import time\n",
    "\n",
    "def wait_for_feature_group_creation_complete(feature_group):\n",
    "    status = feature_group.describe().get(\"FeatureGroupStatus\")\n",
    "    while status == \"Creating\":\n",
    "        print(\"Waiting for Feature Group Creation\")\n",
    "        time.sleep(5)\n",
    "        status = feature_group.describe().get(\"FeatureGroupStatus\")\n",
    "    if status != \"Created\":\n",
    "        raise RuntimeError(f\"Failed to create feature group {feature_group.name}\")\n",
    "    print(f\"FeatureGroup {feature_group.name} successfully created.\")\n",
    "\n",
    "\n",
    "flight_feature_group.create(\n",
    "    s3_uri=f\"s3://{bucket}/feature_group\",\n",
    "    record_identifier_name=record_identifer_feature_name,\n",
    "    event_time_feature_name=event_time_feature_name,\n",
    "    role_arn=role,\n",
    "    enable_online_store=True,\n",
    ")\n",
    "\n",
    "\n",
    "wait_for_feature_group_creation_complete(feature_group=flight_feature_group)"
   ]
  },
  {
   "cell_type": "code",
   "execution_count": 45,
   "id": "58ff2221-bf4e-4a2e-8e2b-7d3870774eee",
   "metadata": {},
   "outputs": [
    {
     "data": {
      "text/plain": [
       "{'FeatureGroupArn': 'arn:aws:sagemaker:us-east-1:817854913925:feature-group/flightfeature-group-01-17-17-38',\n",
       " 'FeatureGroupName': 'flightfeature-group-01-17-17-38',\n",
       " 'RecordIdentifierFeatureName': 'record_identifier',\n",
       " 'EventTimeFeatureName': 'time_step',\n",
       " 'FeatureDefinitions': [{'FeatureName': 'sample_id',\n",
       "   'FeatureType': 'Integral'},\n",
       "  {'FeatureName': 'time_step', 'FeatureType': 'Fractional'},\n",
       "  {'FeatureName': 'aileron_pos_lh_deg', 'FeatureType': 'Fractional'},\n",
       "  {'FeatureName': 'aileron_pos_rh_deg', 'FeatureType': 'Fractional'},\n",
       "  {'FeatureName': 'corrected_angle_of_attack_deg',\n",
       "   'FeatureType': 'Fractional'},\n",
       "  {'FeatureName': 'baro_correct_alt_lsp_ft', 'FeatureType': 'Fractional'},\n",
       "  {'FeatureName': 'computed_airspeed_lsp_knots', 'FeatureType': 'Fractional'},\n",
       "  {'FeatureName': 'selected_course_deg', 'FeatureType': 'Fractional'},\n",
       "  {'FeatureName': 'drift_angle_deg', 'FeatureType': 'Fractional'},\n",
       "  {'FeatureName': 'elevator_pos_left_deg', 'FeatureType': 'Fractional'},\n",
       "  {'FeatureName': 'te_flap_pos_disc', 'FeatureType': 'Fractional'},\n",
       "  {'FeatureName': 'glideslope_dev_perc', 'FeatureType': 'Fractional'},\n",
       "  {'FeatureName': 'selected_heading_deg', 'FeatureType': 'Fractional'},\n",
       "  {'FeatureName': 'localizer_dev_perc', 'FeatureType': 'Fractional'},\n",
       "  {'FeatureName': 'core_speed_avg_perc', 'FeatureType': 'Fractional'},\n",
       "  {'FeatureName': 'total_pressure_lsp_millibar', 'FeatureType': 'Fractional'},\n",
       "  {'FeatureName': 'pitch_angle_lsp_deg', 'FeatureType': 'Fractional'},\n",
       "  {'FeatureName': 'roll_angle_lsp_deg', 'FeatureType': 'Fractional'},\n",
       "  {'FeatureName': 'rudder_pos_deg', 'FeatureType': 'Fractional'},\n",
       "  {'FeatureName': 'true_heading_lsp_deg', 'FeatureType': 'Fractional'},\n",
       "  {'FeatureName': 'vertical_accel_g', 'FeatureType': 'Fractional'},\n",
       "  {'FeatureName': 'wind_speed_knots', 'FeatureType': 'Fractional'},\n",
       "  {'FeatureName': 'label', 'FeatureType': 'Fractional'},\n",
       "  {'FeatureName': 'record_identifier', 'FeatureType': 'String'}],\n",
       " 'CreationTime': datetime.datetime(2025, 2, 1, 17, 17, 38, 878000, tzinfo=tzlocal()),\n",
       " 'OnlineStoreConfig': {'EnableOnlineStore': True},\n",
       " 'OfflineStoreConfig': {'S3StorageConfig': {'S3Uri': 's3://flightfinalapproachanomalydetection/feature_group',\n",
       "   'ResolvedOutputS3Uri': 's3://flightfinalapproachanomalydetection/feature_group/817854913925/sagemaker/us-east-1/offline-store/flightfeature-group-01-17-17-38-1738430258/data'},\n",
       "  'DisableGlueTableCreation': False,\n",
       "  'DataCatalogConfig': {'TableName': 'flightfeature_group_01_17_17_38_1738430258',\n",
       "   'Catalog': 'AwsDataCatalog',\n",
       "   'Database': 'sagemaker_featurestore'}},\n",
       " 'ThroughputConfig': {'ThroughputMode': 'OnDemand'},\n",
       " 'RoleArn': 'arn:aws:iam::817854913925:role/LabRole',\n",
       " 'FeatureGroupStatus': 'Created',\n",
       " 'OfflineStoreStatus': {'Status': 'Active'},\n",
       " 'OnlineStoreTotalSizeBytes': 0,\n",
       " 'ResponseMetadata': {'RequestId': '4d893ced-f941-431b-aec1-049424d38a72',\n",
       "  'HTTPStatusCode': 200,\n",
       "  'HTTPHeaders': {'x-amzn-requestid': '4d893ced-f941-431b-aec1-049424d38a72',\n",
       "   'content-type': 'application/x-amz-json-1.1',\n",
       "   'content-length': '3024',\n",
       "   'date': 'Sat, 01 Feb 2025 18:15:32 GMT'},\n",
       "  'RetryAttempts': 0}}"
      ]
     },
     "execution_count": 45,
     "metadata": {},
     "output_type": "execute_result"
    }
   ],
   "source": [
    "flight_feature_group.describe()"
   ]
  },
  {
   "cell_type": "code",
   "execution_count": 46,
   "id": "cf6569ef-ce3c-463c-b556-e3a17fc39c1e",
   "metadata": {},
   "outputs": [
    {
     "data": {
      "text/plain": [
       "{'FeatureGroupSummaries': [{'FeatureGroupName': 'neighborhood-feature-group-26-05-02-41',\n",
       "   'FeatureGroupArn': 'arn:aws:sagemaker:us-east-1:817854913925:feature-group/neighborhood-feature-group-26-05-02-41',\n",
       "   'CreationTime': datetime.datetime(2025, 1, 26, 5, 2, 52, 140000, tzinfo=tzlocal()),\n",
       "   'FeatureGroupStatus': 'Created',\n",
       "   'OfflineStoreStatus': {'Status': 'Active'}},\n",
       "  {'FeatureGroupName': 'neighborhood-feature-group-26-04-11-14',\n",
       "   'FeatureGroupArn': 'arn:aws:sagemaker:us-east-1:817854913925:feature-group/neighborhood-feature-group-26-04-11-14',\n",
       "   'CreationTime': datetime.datetime(2025, 1, 26, 4, 11, 18, 797000, tzinfo=tzlocal()),\n",
       "   'FeatureGroupStatus': 'Created'},\n",
       "  {'FeatureGroupName': 'flightfeature-group-31-22-05-51',\n",
       "   'FeatureGroupArn': 'arn:aws:sagemaker:us-east-1:817854913925:feature-group/flightfeature-group-31-22-05-51',\n",
       "   'CreationTime': datetime.datetime(2025, 1, 31, 22, 5, 52, 653000, tzinfo=tzlocal()),\n",
       "   'FeatureGroupStatus': 'Created',\n",
       "   'OfflineStoreStatus': {'Status': 'Active'}},\n",
       "  {'FeatureGroupName': 'flightfeature-group-31-20-53-05',\n",
       "   'FeatureGroupArn': 'arn:aws:sagemaker:us-east-1:817854913925:feature-group/flightfeature-group-31-20-53-05',\n",
       "   'CreationTime': datetime.datetime(2025, 1, 31, 20, 53, 54, 142000, tzinfo=tzlocal()),\n",
       "   'FeatureGroupStatus': 'Created',\n",
       "   'OfflineStoreStatus': {'Status': 'Active'}},\n",
       "  {'FeatureGroupName': 'flightfeature-group-31-02-10-56',\n",
       "   'FeatureGroupArn': 'arn:aws:sagemaker:us-east-1:817854913925:feature-group/flightfeature-group-31-02-10-56',\n",
       "   'CreationTime': datetime.datetime(2025, 1, 31, 2, 10, 57, 185000, tzinfo=tzlocal()),\n",
       "   'FeatureGroupStatus': 'Created'},\n",
       "  {'FeatureGroupName': 'flightfeature-group-31-01-55-28',\n",
       "   'FeatureGroupArn': 'arn:aws:sagemaker:us-east-1:817854913925:feature-group/flightfeature-group-31-01-55-28',\n",
       "   'CreationTime': datetime.datetime(2025, 1, 31, 1, 55, 32, 288000, tzinfo=tzlocal()),\n",
       "   'FeatureGroupStatus': 'Created'},\n",
       "  {'FeatureGroupName': 'flightfeature-group-01-17-17-38',\n",
       "   'FeatureGroupArn': 'arn:aws:sagemaker:us-east-1:817854913925:feature-group/flightfeature-group-01-17-17-38',\n",
       "   'CreationTime': datetime.datetime(2025, 2, 1, 17, 17, 38, 878000, tzinfo=tzlocal()),\n",
       "   'FeatureGroupStatus': 'Created',\n",
       "   'OfflineStoreStatus': {'Status': 'Active'}}],\n",
       " 'ResponseMetadata': {'RequestId': '9b264963-1622-4e70-bf53-2f1506343e97',\n",
       "  'HTTPStatusCode': 200,\n",
       "  'HTTPHeaders': {'x-amzn-requestid': '9b264963-1622-4e70-bf53-2f1506343e97',\n",
       "   'content-type': 'application/x-amz-json-1.1',\n",
       "   'content-length': '1793',\n",
       "   'date': 'Sat, 01 Feb 2025 18:15:36 GMT'},\n",
       "  'RetryAttempts': 0}}"
      ]
     },
     "execution_count": 46,
     "metadata": {},
     "output_type": "execute_result"
    }
   ],
   "source": [
    "sagemaker_client.list_feature_groups() "
   ]
  },
  {
   "cell_type": "code",
   "execution_count": null,
   "id": "5639fdf9-2316-4578-907b-d461a5b2d97a",
   "metadata": {},
   "outputs": [],
   "source": [
    "flight_feature_group.ingest(data_frame=df, max_workers=8, wait=True)"
   ]
  },
  {
   "cell_type": "code",
   "execution_count": 30,
   "id": "1bffc92e-2bcf-4d9c-9bb4-b662dcbfe5c7",
   "metadata": {},
   "outputs": [
    {
     "name": "stdout",
     "output_type": "stream",
     "text": [
      "Record 0_0 found:\n",
      "sample_id: 0\n",
      "time_step: 0.0\n",
      "aileron_pos_lh_deg: 81.26119\n",
      "aileron_pos_rh_deg: 82.652336\n",
      "corrected_angle_of_attack_deg: -8.111792\n",
      "baro_correct_alt_lsp_ft: 1969.6174\n",
      "computed_airspeed_lsp_knots: 155.5714\n",
      "selected_course_deg: -2.1093580000000003\n",
      "drift_angle_deg: -0.6927779000000001\n",
      "elevator_pos_left_deg: -4.952854\n",
      "te_flap_pos_disc: 3065.0\n",
      "glideslope_dev_perc: 0.01794\n",
      "selected_heading_deg: -2.1093580000000003\n",
      "localizer_dev_perc: 0.006664\n",
      "core_speed_avg_perc: 70.74118\n",
      "total_pressure_lsp_millibar: 985.4255\n",
      "pitch_angle_lsp_deg: -3.6622615\n",
      "roll_angle_lsp_deg: 0.7859119999999999\n",
      "rudder_pos_deg: -0.39014083\n",
      "true_heading_lsp_deg: -1.0818703\n",
      "vertical_accel_g: 0.9723786\n",
      "wind_speed_knots: 12.625183\n",
      "label: 0.0\n",
      "record_identifier: 0_0\n",
      "\n",
      "\n",
      "\n",
      "Record 0_150 found:\n",
      "sample_id: 0\n",
      "time_step: 150.0\n",
      "aileron_pos_lh_deg: 77.41508499999999\n",
      "aileron_pos_rh_deg: 81.30211\n",
      "corrected_angle_of_attack_deg: -4.732262599999999\n",
      "baro_correct_alt_lsp_ft: 422.82614\n",
      "computed_airspeed_lsp_knots: 121.19918\n",
      "selected_course_deg: -2.1093580000000003\n",
      "drift_angle_deg: -1.0446048\n",
      "elevator_pos_left_deg: -2.7024727000000004\n",
      "te_flap_pos_disc: 3701.0\n",
      "glideslope_dev_perc: 0.030030001\n",
      "selected_heading_deg: -2.1093580000000003\n",
      "localizer_dev_perc: -0.0015679764\n",
      "core_speed_avg_perc: 81.6037\n",
      "total_pressure_lsp_millibar: 1024.2689\n",
      "pitch_angle_lsp_deg: -2.3690457\n",
      "roll_angle_lsp_deg: -1.6878606\n",
      "rudder_pos_deg: -0.73202246\n",
      "true_heading_lsp_deg: 0.21764393\n",
      "vertical_accel_g: 0.9752295\n",
      "wind_speed_knots: 12.524631\n",
      "label: 0.0\n",
      "record_identifier: 0_150\n",
      "\n",
      "\n",
      "\n",
      "Record 99835_155 not found.\n",
      "\n",
      "\n",
      "\n"
     ]
    }
   ],
   "source": [
    "feats_to_quer = ['0_0','0_150','99835_155']\n",
    "\n",
    "for val in feats_to_quer:\n",
    "    record_identifier_value = val\n",
    "    \n",
    "    response = featurestore_runtime.get_record(\n",
    "        FeatureGroupName='flightfeature-group-01-17-17-38',\n",
    "        RecordIdentifierValueAsString=record_identifier_value,\n",
    "    )\n",
    "    \n",
    "    if 'Record' in response and response['Record']:\n",
    "        print(\"Record\",val,\"found:\")\n",
    "        for feature in response['Record']:\n",
    "            print(f\"{feature['FeatureName']}: {feature['ValueAsString']}\")\n",
    "        print(\"\\n\\n\")\n",
    "    else:\n",
    "        print(\"Record\",val,\"not found.\")\n",
    "        print(\"\\n\\n\")\n"
   ]
  },
  {
   "cell_type": "code",
   "execution_count": 38,
   "id": "848e14d0-be66-401f-b074-9f225b8eed5f",
   "metadata": {},
   "outputs": [
    {
     "data": {
      "text/html": [
       "<div>\n",
       "<style scoped>\n",
       "    .dataframe tbody tr th:only-of-type {\n",
       "        vertical-align: middle;\n",
       "    }\n",
       "\n",
       "    .dataframe tbody tr th {\n",
       "        vertical-align: top;\n",
       "    }\n",
       "\n",
       "    .dataframe thead th {\n",
       "        text-align: right;\n",
       "    }\n",
       "</style>\n",
       "<table border=\"1\" class=\"dataframe\">\n",
       "  <thead>\n",
       "    <tr style=\"text-align: right;\">\n",
       "      <th></th>\n",
       "      <th>sample_id</th>\n",
       "      <th>time_step</th>\n",
       "      <th>aileron_pos_lh_deg</th>\n",
       "      <th>aileron_pos_rh_deg</th>\n",
       "      <th>corrected_angle_of_attack_deg</th>\n",
       "      <th>baro_correct_alt_lsp_ft</th>\n",
       "      <th>computed_airspeed_lsp_knots</th>\n",
       "      <th>selected_course_deg</th>\n",
       "      <th>drift_angle_deg</th>\n",
       "      <th>elevator_pos_left_deg</th>\n",
       "      <th>...</th>\n",
       "      <th>core_speed_avg_perc</th>\n",
       "      <th>total_pressure_lsp_millibar</th>\n",
       "      <th>pitch_angle_lsp_deg</th>\n",
       "      <th>roll_angle_lsp_deg</th>\n",
       "      <th>rudder_pos_deg</th>\n",
       "      <th>true_heading_lsp_deg</th>\n",
       "      <th>vertical_accel_g</th>\n",
       "      <th>wind_speed_knots</th>\n",
       "      <th>label</th>\n",
       "      <th>record_identifier</th>\n",
       "    </tr>\n",
       "  </thead>\n",
       "  <tbody>\n",
       "    <tr>\n",
       "      <th>0</th>\n",
       "      <td>0</td>\n",
       "      <td>0.0</td>\n",
       "      <td>81.261190</td>\n",
       "      <td>82.652336</td>\n",
       "      <td>-8.111792</td>\n",
       "      <td>1969.6174</td>\n",
       "      <td>155.57140</td>\n",
       "      <td>-2.109358</td>\n",
       "      <td>-0.692778</td>\n",
       "      <td>-4.952854</td>\n",
       "      <td>...</td>\n",
       "      <td>70.74118</td>\n",
       "      <td>985.42550</td>\n",
       "      <td>-3.662262</td>\n",
       "      <td>0.785912</td>\n",
       "      <td>-0.390141</td>\n",
       "      <td>-1.081870</td>\n",
       "      <td>0.972379</td>\n",
       "      <td>12.625183</td>\n",
       "      <td>0.0</td>\n",
       "      <td>0_0</td>\n",
       "    </tr>\n",
       "    <tr>\n",
       "      <th>1</th>\n",
       "      <td>0</td>\n",
       "      <td>1.0</td>\n",
       "      <td>79.604095</td>\n",
       "      <td>81.015700</td>\n",
       "      <td>-7.644611</td>\n",
       "      <td>1955.6995</td>\n",
       "      <td>154.51205</td>\n",
       "      <td>-2.109358</td>\n",
       "      <td>-0.867216</td>\n",
       "      <td>-5.198349</td>\n",
       "      <td>...</td>\n",
       "      <td>70.71775</td>\n",
       "      <td>985.52030</td>\n",
       "      <td>-3.665276</td>\n",
       "      <td>0.046774</td>\n",
       "      <td>-0.756234</td>\n",
       "      <td>-0.704820</td>\n",
       "      <td>0.770077</td>\n",
       "      <td>11.893839</td>\n",
       "      <td>0.0</td>\n",
       "      <td>0_1</td>\n",
       "    </tr>\n",
       "    <tr>\n",
       "      <th>2</th>\n",
       "      <td>0</td>\n",
       "      <td>2.0</td>\n",
       "      <td>81.302110</td>\n",
       "      <td>80.770200</td>\n",
       "      <td>-7.552573</td>\n",
       "      <td>1940.0267</td>\n",
       "      <td>153.32867</td>\n",
       "      <td>-2.109358</td>\n",
       "      <td>-1.424093</td>\n",
       "      <td>-4.830105</td>\n",
       "      <td>...</td>\n",
       "      <td>70.70276</td>\n",
       "      <td>985.41650</td>\n",
       "      <td>-3.940319</td>\n",
       "      <td>0.804820</td>\n",
       "      <td>-1.325632</td>\n",
       "      <td>-0.240446</td>\n",
       "      <td>0.543937</td>\n",
       "      <td>12.559112</td>\n",
       "      <td>0.0</td>\n",
       "      <td>0_2</td>\n",
       "    </tr>\n",
       "    <tr>\n",
       "      <th>3</th>\n",
       "      <td>0</td>\n",
       "      <td>3.0</td>\n",
       "      <td>82.345470</td>\n",
       "      <td>83.900276</td>\n",
       "      <td>-8.395265</td>\n",
       "      <td>1924.5493</td>\n",
       "      <td>150.88818</td>\n",
       "      <td>-2.109358</td>\n",
       "      <td>-1.141912</td>\n",
       "      <td>-4.625526</td>\n",
       "      <td>...</td>\n",
       "      <td>70.74159</td>\n",
       "      <td>984.81710</td>\n",
       "      <td>-4.275129</td>\n",
       "      <td>1.077102</td>\n",
       "      <td>-0.326884</td>\n",
       "      <td>-0.191627</td>\n",
       "      <td>1.062817</td>\n",
       "      <td>10.542998</td>\n",
       "      <td>0.0</td>\n",
       "      <td>0_3</td>\n",
       "    </tr>\n",
       "    <tr>\n",
       "      <th>4</th>\n",
       "      <td>0</td>\n",
       "      <td>4.0</td>\n",
       "      <td>81.874930</td>\n",
       "      <td>82.754620</td>\n",
       "      <td>-7.854284</td>\n",
       "      <td>1905.3670</td>\n",
       "      <td>150.69461</td>\n",
       "      <td>-2.109358</td>\n",
       "      <td>-0.724660</td>\n",
       "      <td>-4.400490</td>\n",
       "      <td>...</td>\n",
       "      <td>70.57045</td>\n",
       "      <td>985.23065</td>\n",
       "      <td>-4.241483</td>\n",
       "      <td>1.654806</td>\n",
       "      <td>0.129545</td>\n",
       "      <td>-0.528425</td>\n",
       "      <td>0.867628</td>\n",
       "      <td>9.713539</td>\n",
       "      <td>0.0</td>\n",
       "      <td>0_4</td>\n",
       "    </tr>\n",
       "  </tbody>\n",
       "</table>\n",
       "<p>5 rows × 24 columns</p>\n",
       "</div>"
      ],
      "text/plain": [
       "   sample_id  time_step  aileron_pos_lh_deg  aileron_pos_rh_deg  \\\n",
       "0          0        0.0           81.261190           82.652336   \n",
       "1          0        1.0           79.604095           81.015700   \n",
       "2          0        2.0           81.302110           80.770200   \n",
       "3          0        3.0           82.345470           83.900276   \n",
       "4          0        4.0           81.874930           82.754620   \n",
       "\n",
       "   corrected_angle_of_attack_deg  baro_correct_alt_lsp_ft  \\\n",
       "0                      -8.111792                1969.6174   \n",
       "1                      -7.644611                1955.6995   \n",
       "2                      -7.552573                1940.0267   \n",
       "3                      -8.395265                1924.5493   \n",
       "4                      -7.854284                1905.3670   \n",
       "\n",
       "   computed_airspeed_lsp_knots  selected_course_deg  drift_angle_deg  \\\n",
       "0                    155.57140            -2.109358        -0.692778   \n",
       "1                    154.51205            -2.109358        -0.867216   \n",
       "2                    153.32867            -2.109358        -1.424093   \n",
       "3                    150.88818            -2.109358        -1.141912   \n",
       "4                    150.69461            -2.109358        -0.724660   \n",
       "\n",
       "   elevator_pos_left_deg  ...  core_speed_avg_perc  \\\n",
       "0              -4.952854  ...             70.74118   \n",
       "1              -5.198349  ...             70.71775   \n",
       "2              -4.830105  ...             70.70276   \n",
       "3              -4.625526  ...             70.74159   \n",
       "4              -4.400490  ...             70.57045   \n",
       "\n",
       "   total_pressure_lsp_millibar  pitch_angle_lsp_deg  roll_angle_lsp_deg  \\\n",
       "0                    985.42550            -3.662262            0.785912   \n",
       "1                    985.52030            -3.665276            0.046774   \n",
       "2                    985.41650            -3.940319            0.804820   \n",
       "3                    984.81710            -4.275129            1.077102   \n",
       "4                    985.23065            -4.241483            1.654806   \n",
       "\n",
       "   rudder_pos_deg  true_heading_lsp_deg  vertical_accel_g  wind_speed_knots  \\\n",
       "0       -0.390141             -1.081870          0.972379         12.625183   \n",
       "1       -0.756234             -0.704820          0.770077         11.893839   \n",
       "2       -1.325632             -0.240446          0.543937         12.559112   \n",
       "3       -0.326884             -0.191627          1.062817         10.542998   \n",
       "4        0.129545             -0.528425          0.867628          9.713539   \n",
       "\n",
       "   label  record_identifier  \n",
       "0    0.0                0_0  \n",
       "1    0.0                0_1  \n",
       "2    0.0                0_2  \n",
       "3    0.0                0_3  \n",
       "4    0.0                0_4  \n",
       "\n",
       "[5 rows x 24 columns]"
      ]
     },
     "execution_count": 38,
     "metadata": {},
     "output_type": "execute_result"
    }
   ],
   "source": [
    "df.head()"
   ]
  },
  {
   "cell_type": "code",
   "execution_count": null,
   "id": "ff02e5bb-c6c2-4460-b678-aaecc0595da3",
   "metadata": {},
   "outputs": [],
   "source": []
  },
  {
   "cell_type": "code",
   "execution_count": null,
   "id": "22e2aa4b-1292-4188-8a74-4013e579e049",
   "metadata": {},
   "outputs": [],
   "source": []
  },
  {
   "cell_type": "code",
   "execution_count": null,
   "id": "52d8dd36-1261-4bcd-8fe5-5431742c65b8",
   "metadata": {},
   "outputs": [],
   "source": []
  }
 ],
 "metadata": {
  "kernelspec": {
   "display_name": "Python 3 (ipykernel)",
   "language": "python",
   "name": "python3"
  },
  "language_info": {
   "codemirror_mode": {
    "name": "ipython",
    "version": 3
   },
   "file_extension": ".py",
   "mimetype": "text/x-python",
   "name": "python",
   "nbconvert_exporter": "python",
   "pygments_lexer": "ipython3",
   "version": "3.11.11"
  }
 },
 "nbformat": 4,
 "nbformat_minor": 5
}
