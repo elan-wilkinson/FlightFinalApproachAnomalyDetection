{
 "cells": [
  {
   "cell_type": "markdown",
   "id": "158154ae-6cb1-43ed-8e05-6d7b05dca08a",
   "metadata": {},
   "source": [
    "## Setup Dependencies"
   ]
  },
  {
   "cell_type": "code",
   "execution_count": 1,
   "id": "8b2c5a79-11c3-4443-ab25-76566f5f8c3c",
   "metadata": {},
   "outputs": [],
   "source": [
    "!pip install --disable-pip-version-check -q pip --upgrade > /dev/null\n",
    "!pip install --disable-pip-version-check -q wrapt --upgrade > /dev/null"
   ]
  },
  {
   "cell_type": "markdown",
   "id": "6aed348f-7b4f-4be6-b272-b5659d4eb33e",
   "metadata": {},
   "source": [
    "### AWS CLI and AWS Python SDK (boto3)"
   ]
  },
  {
   "cell_type": "code",
   "execution_count": 2,
   "id": "282b849a-c6ce-48db-8ec0-db60caf117f1",
   "metadata": {},
   "outputs": [
    {
     "name": "stdout",
     "output_type": "stream",
     "text": [
      "\u001b[31mERROR: pip's dependency resolver does not currently take into account all the packages that are installed. This behaviour is the source of the following dependency conflicts.\n",
      "autogluon-multimodal 1.1.1 requires nvidia-ml-py3==7.352.0, which is not installed.\n",
      "aiobotocore 2.13.3 requires botocore<1.34.163,>=1.34.70, but you have botocore 1.36.4 which is incompatible.\n",
      "amazon-sagemaker-sql-magic 0.1.3 requires sqlparse==0.5.0, but you have sqlparse 0.5.3 which is incompatible.\n",
      "autogluon-core 1.1.1 requires scikit-learn<1.4.1,>=1.3.0, but you have scikit-learn 1.5.2 which is incompatible.\n",
      "autogluon-core 1.1.1 requires scipy<1.13,>=1.5.4, but you have scipy 1.14.1 which is incompatible.\n",
      "autogluon-features 1.1.1 requires scikit-learn<1.4.1,>=1.3.0, but you have scikit-learn 1.5.2 which is incompatible.\n",
      "autogluon-multimodal 1.1.1 requires jsonschema<4.22,>=4.18, but you have jsonschema 4.23.0 which is incompatible.\n",
      "autogluon-multimodal 1.1.1 requires omegaconf<2.3.0,>=2.1.1, but you have omegaconf 2.3.0 which is incompatible.\n",
      "autogluon-multimodal 1.1.1 requires scikit-learn<1.4.1,>=1.3.0, but you have scikit-learn 1.5.2 which is incompatible.\n",
      "autogluon-multimodal 1.1.1 requires scipy<1.13,>=1.5.4, but you have scipy 1.14.1 which is incompatible.\n",
      "autogluon-multimodal 1.1.1 requires torch<2.4,>=2.2, but you have torch 2.4.1.post100 which is incompatible.\n",
      "autogluon-tabular 1.1.1 requires scikit-learn<1.4.1,>=1.3.0, but you have scikit-learn 1.5.2 which is incompatible.\n",
      "autogluon-tabular 1.1.1 requires scipy<1.13,>=1.5.4, but you have scipy 1.14.1 which is incompatible.\n",
      "autogluon-timeseries 1.1.1 requires gluonts==0.15.1, but you have gluonts 0.14.3 which is incompatible.\n",
      "autogluon-timeseries 1.1.1 requires scipy<1.13,>=1.5.4, but you have scipy 1.14.1 which is incompatible.\n",
      "autogluon-timeseries 1.1.1 requires torch<2.4,>=2.2, but you have torch 2.4.1.post100 which is incompatible.\n",
      "langchain-aws 0.1.18 requires boto3<1.35.0,>=1.34.131, but you have boto3 1.36.4 which is incompatible.\u001b[0m\u001b[31m\n",
      "\u001b[0m"
     ]
    }
   ],
   "source": [
    "!pip install --disable-pip-version-check -q awscli boto3"
   ]
  },
  {
   "cell_type": "markdown",
   "id": "84bd363c-32e2-4fa8-ae9c-cd99571979ba",
   "metadata": {},
   "source": [
    "### SageMaker"
   ]
  },
  {
   "cell_type": "code",
   "execution_count": 3,
   "id": "96a7b4f8-73ba-4fb0-b737-e8147de47c65",
   "metadata": {},
   "outputs": [],
   "source": [
    "!pip install --disable-pip-version-check -q sagemaker\n",
    "!pip install --disable-pip-version-check -q smdebug\n",
    "!pip install --disable-pip-version-check -q sagemaker-experiments"
   ]
  },
  {
   "cell_type": "markdown",
   "id": "66b6e794-9b81-417d-8fe9-71bbaccb779c",
   "metadata": {},
   "source": [
    "### PyAthena"
   ]
  },
  {
   "cell_type": "code",
   "execution_count": 4,
   "id": "3dafd863-a8e4-4666-988f-82e86c9c764a",
   "metadata": {},
   "outputs": [],
   "source": [
    "!pip install --disable-pip-version-check -q PyAthena"
   ]
  },
  {
   "cell_type": "markdown",
   "id": "c3ef557d-110a-4a58-b8a3-534c033d71bc",
   "metadata": {},
   "source": [
    "### AWS Data Wrangler"
   ]
  },
  {
   "cell_type": "code",
   "execution_count": 5,
   "id": "e236d569-b595-45ab-b3af-13e170a86960",
   "metadata": {},
   "outputs": [],
   "source": [
    "!pip install --disable-pip-version-check -q awswrangler"
   ]
  },
  {
   "cell_type": "markdown",
   "id": "1989a320-ceeb-42c7-807d-47078f909c3b",
   "metadata": {},
   "source": [
    "### Zip"
   ]
  },
  {
   "cell_type": "code",
   "execution_count": 6,
   "id": "6ff800ee-847f-465c-b702-7ff7a479a9bb",
   "metadata": {},
   "outputs": [
    {
     "name": "stdout",
     "output_type": "stream",
     "text": [
      "Channels:\n",
      " - conda-forge\n",
      "Platform: linux-64\n",
      "Collecting package metadata (repodata.json): done\n",
      "Solving environment: done\n",
      "\n",
      "## Package Plan ##\n",
      "\n",
      "  environment location: /opt/conda\n",
      "\n",
      "  added / updated specs:\n",
      "    - zip\n",
      "\n",
      "\n",
      "The following packages will be downloaded:\n",
      "\n",
      "    package                    |            build\n",
      "    ---------------------------|-----------------\n",
      "    conda-25.1.0               |  py311h38be061_0         1.1 MB  conda-forge\n",
      "    fastapi-0.115.7            |     pyhd8ed1ab_0          72 KB  conda-forge\n",
      "    libxgboost-2.1.3           |   cpu_h3a1dfae_1         3.1 MB  conda-forge\n",
      "    py-xgboost-2.1.3           | cpu_pyh1ce2f49_1         131 KB  conda-forge\n",
      "    py-xgboost-cpu-2.1.3       |     pyhc1a9e11_1          15 KB  conda-forge\n",
      "    xgboost-2.1.3              | cpu_pyhc1a9e11_1          15 KB  conda-forge\n",
      "    ------------------------------------------------------------\n",
      "                                           Total:         4.4 MB\n",
      "\n",
      "The following NEW packages will be INSTALLED:\n",
      "\n",
      "  zip                conda-forge/linux-64::zip-3.0-hd590300_3 \n",
      "\n",
      "The following packages will be UPDATED:\n",
      "\n",
      "  amazon-sagemaker-~                     3.1.7-pyhd8ed1ab_0 --> 3.1.8-pyhd8ed1ab_0 \n",
      "  amazon_sagemaker_~                    0.1.13-pyhd8ed1ab_0 --> 0.1.14-pyhd8ed1ab_0 \n",
      "  aws-glue-sessions                      1.0.7-pyhd8ed1ab_0 --> 1.0.8-pyhd8ed1ab_0 \n",
      "  ca-certificates                      2024.8.30-hbcca054_0 --> 2024.12.14-hbcca054_0 \n",
      "  certifi                            2024.8.30-pyhd8ed1ab_0 --> 2024.12.14-pyhd8ed1ab_0 \n",
      "  conda                              24.9.2-py311h38be061_0 --> 25.1.0-py311h38be061_0 \n",
      "  fastapi                              0.115.6-pyhd8ed1ab_0 --> 0.115.7-pyhd8ed1ab_0 \n",
      "  jinja2                                 3.1.4-pyhd8ed1ab_1 --> 3.1.5-pyhd8ed1ab_0 \n",
      "  jupyter-activity-~                     0.3.1-pyhd8ed1ab_0 --> 0.3.1-pyhd8ed1ab_1 \n",
      "  jupyter-ai                            2.28.3-pyhd8ed1ab_0 --> 2.28.5-pyhd8ed1ab_0 \n",
      "  jupyter-ai-magics                     2.28.3-pyhd8ed1ab_0 --> 2.28.5-pyhd8ed1ab_0 \n",
      "  jupyter-server-pr~                     4.4.0-pyhd8ed1ab_0 --> 4.4.0-pyhd8ed1ab_1 \n",
      "  jupyterlab                             4.2.6-pyhff2d567_0 --> 4.2.7-pyhd8ed1ab_0 \n",
      "  jupyterlab-git                        0.50.2-pyhd8ed1ab_0 --> 0.50.2-pyhd8ed1ab_1 \n",
      "  libmamba                                1.5.11-hf72d635_0 --> 1.5.12-h49b8a8d_0 \n",
      "  libmambapy                         1.5.11-py311h18a8eac_0 --> 1.5.12-py311hb3373dd_0 \n",
      "  libpng                                  1.6.44-hadc24fc_0 --> 1.6.45-h943b412_0 \n",
      "  libxgboost                           2.1.3-cpu_h3a1dfae_0 --> 2.1.3-cpu_h3a1dfae_1 \n",
      "  matplotlib-base                     3.9.3-py311h2b939e6_0 --> 3.9.4-py311h2b939e6_0 \n",
      "  nodejs                                 20.18.0-hc55a1b2_0 --> 20.18.1-hc55a1b2_0 \n",
      "  openssl                                  3.4.0-hb9d3cd8_0 --> 3.4.0-h7b32b05_1 \n",
      "  pip                                   24.3.1-pyh8b19718_0 --> 24.3.1-pyh8b19718_2 \n",
      "  py-xgboost                         2.1.3-cpu_pyhd3de297_0 --> 2.1.3-cpu_pyh1ce2f49_1 \n",
      "  py-xgboost-cpu                         2.1.3-pyhac85b48_0 --> 2.1.3-pyhc1a9e11_1 \n",
      "  pyhive                                 0.7.0-pyhd8ed1ab_0 --> 0.7.0-pyhd8ed1ab_1 \n",
      "  python-lsp-server                     1.12.0-pyhd8ed1ab_0 --> 1.12.0-pyhff2d567_1 \n",
      "  python-lsp-server~                    1.12.0-pyhd8ed1ab_0 --> 1.12.0-pyhd8ed1ab_1 \n",
      "  sagemaker-code-ed~                       1.4.1-h3e77e23_0 --> 1.4.2-h3e77e23_0 \n",
      "  sagemaker-jupyter~                     0.3.4-pyhd8ed1ab_0 --> 0.3.5-pyhd8ed1ab_0 \n",
      "  sagemaker-jupyter~                     0.3.2-pyhd8ed1ab_0 --> 0.3.3-pyhd8ed1ab_0 \n",
      "  sagemaker-studio-~                     0.1.2-pyhd8ed1ab_0 --> 0.1.3-pyhd8ed1ab_0 \n",
      "  tf-keras                              2.17.0-pyhd8ed1ab_0 --> 2.17.0-pyhd8ed1ab_1 \n",
      "  torchvision                    0.19.1-cpu_py311hcef334a_1 --> 0.19.1-cpu_py311h8c76117_3 \n",
      "  xgboost                            2.1.3-cpu_pyhac85b48_0 --> 2.1.3-cpu_pyhc1a9e11_1 \n",
      "\n",
      "\n",
      "\n",
      "Downloading and Extracting Packages:\n",
      "libxgboost-2.1.3     | 3.1 MB    |                                       |   0% \n",
      "conda-25.1.0         | 1.1 MB    |                                       |   0% \u001b[A\n",
      "\n",
      "py-xgboost-2.1.3     | 131 KB    |                                       |   0% \u001b[A\u001b[A\n",
      "\n",
      "\n",
      "fastapi-0.115.7      | 72 KB     |                                       |   0% \u001b[A\u001b[A\u001b[A\n",
      "\n",
      "\n",
      "\n",
      "py-xgboost-cpu-2.1.3 | 15 KB     |                                       |   0% \u001b[A\u001b[A\u001b[A\u001b[A\n",
      "\n",
      "\n",
      "\n",
      "\n",
      "libxgboost-2.1.3     | 3.1 MB    | 1                                     |   1% \u001b[A\u001b[A\u001b[A\u001b[A\u001b[A\n",
      "conda-25.1.0         | 1.1 MB    | #########5                            |  26% \u001b[A\n",
      "\n",
      "\n",
      "fastapi-0.115.7      | 72 KB     | ################################9     |  89% \u001b[A\u001b[A\u001b[A\n",
      "\n",
      "\n",
      "\n",
      "py-xgboost-cpu-2.1.3 | 15 KB     | ##################################### | 100% \u001b[A\u001b[A\u001b[A\u001b[A\n",
      "\n",
      "\n",
      "\n",
      "\n",
      "libxgboost-2.1.3     | 3.1 MB    | ####################8                 |  56% \u001b[A\u001b[A\u001b[A\u001b[A\u001b[A\n",
      "\n",
      "\n",
      "fastapi-0.115.7      | 72 KB     | ##################################### | 100% \u001b[A\u001b[A\u001b[A\n",
      "\n",
      "py-xgboost-2.1.3     | 131 KB    | ##################################### | 100% \u001b[A\u001b[A\n",
      "\n",
      "py-xgboost-2.1.3     | 131 KB    | ##################################### | 100% \u001b[A\u001b[A\n",
      "\n",
      "\n",
      "\n",
      "py-xgboost-cpu-2.1.3 | 15 KB     | ##################################### | 100% \u001b[A\u001b[A\u001b[A\u001b[A\n",
      "\n",
      "\n",
      "\n",
      "\n",
      "libxgboost-2.1.3     | 3.1 MB    | ##################################### | 100% \u001b[A\u001b[A\u001b[A\u001b[A\u001b[A\n",
      "conda-25.1.0         | 1.1 MB    | ##################################### | 100% \u001b[A\n",
      "                                                                                \u001b[A\n",
      "                                                                                \u001b[A\n",
      "\n",
      "                                                                                \u001b[A\u001b[A\n",
      "\n",
      "\n",
      "                                                                                \u001b[A\u001b[A\u001b[A\n",
      "\n",
      "\n",
      "\n",
      "                                                                                \u001b[A\u001b[A\u001b[A\u001b[A\n",
      "\n",
      "\n",
      "\n",
      "\n",
      "                                                                                \u001b[A\u001b[A\u001b[A\u001b[A\u001b[A\n",
      "Preparing transaction: done\n",
      "Verifying transaction: done\n",
      "Executing transaction: \\ \n",
      "done\n"
     ]
    }
   ],
   "source": [
    "!conda install -y zip"
   ]
  },
  {
   "cell_type": "markdown",
   "id": "a70ed85d-25a1-4c30-a0ba-838bd278a775",
   "metadata": {},
   "source": [
    "### Matplotlib"
   ]
  },
  {
   "cell_type": "code",
   "execution_count": 7,
   "id": "50ad36a6-a84e-454a-88c7-4c0fa3550af4",
   "metadata": {},
   "outputs": [],
   "source": [
    "!pip install --disable-pip-version-check -q matplotlib"
   ]
  },
  {
   "cell_type": "markdown",
   "id": "fa497ad0-cf1c-4afb-95ef-8de690f1bd0e",
   "metadata": {},
   "source": [
    "### Seaborn"
   ]
  },
  {
   "cell_type": "code",
   "execution_count": 8,
   "id": "495758de-3817-492d-9715-36434fd22a38",
   "metadata": {},
   "outputs": [],
   "source": [
    "!pip install --disable-pip-version-check -q seaborn"
   ]
  },
  {
   "cell_type": "markdown",
   "id": "28453334-b5b1-492d-8954-f3ac2fc1418d",
   "metadata": {},
   "source": [
    "## Data lake Setup"
   ]
  },
  {
   "cell_type": "code",
   "execution_count": 9,
   "id": "6543ad71-d894-4ff7-a3ea-75d2a4e58834",
   "metadata": {},
   "outputs": [
    {
     "name": "stdout",
     "output_type": "stream",
     "text": [
      "sagemaker.config INFO - Not applying SDK defaults from location: /etc/xdg/sagemaker/config.yaml\n",
      "sagemaker.config INFO - Not applying SDK defaults from location: /home/sagemaker-user/.config/sagemaker/config.yaml\n",
      "Bucket name: flightfinalapproachanomalydetection\n"
     ]
    }
   ],
   "source": [
    "import boto3\n",
    "import sagemaker\n",
    "\n",
    "session = boto3.session.Session()\n",
    "region = session.region_name\n",
    "sagemaker_session = sagemaker.Session()\n",
    "bucket = 'flightfinalapproachanomalydetection'#'sagemaker-us-east-1-817854913925' #sagemaker_session.default_bucket()\n",
    "\n",
    "s3 = boto3.Session().client(service_name=\"s3\", region_name=region)\n",
    "\n",
    "print(\"Bucket name: {}\".format(bucket))"
   ]
  },
  {
   "cell_type": "markdown",
   "id": "cd2f7efe-0713-4ec9-bfc9-6eb91a86d7b9",
   "metadata": {},
   "source": [
    "### Verify Bucket Creation"
   ]
  },
  {
   "cell_type": "code",
   "execution_count": 10,
   "id": "02da2344-383a-4d9e-a45f-04e84d6d3be1",
   "metadata": {},
   "outputs": [
    {
     "name": "stdout",
     "output_type": "stream",
     "text": [
      "{'ResponseMetadata': {'RequestId': '6G5RA4H54KXTRB0N', 'HostId': 'cK+UleLI+TS1RY9Pmn6xqORrpkM1OEQ4VzmHcgFKDhtxNgDjEojBsBLueTrKlJfQQJlpecJjvaj2YKK7XBxmT9fm1JMj8XkPArhG7YDwROQ=', 'HTTPStatusCode': 200, 'HTTPHeaders': {'x-amz-id-2': 'cK+UleLI+TS1RY9Pmn6xqORrpkM1OEQ4VzmHcgFKDhtxNgDjEojBsBLueTrKlJfQQJlpecJjvaj2YKK7XBxmT9fm1JMj8XkPArhG7YDwROQ=', 'x-amz-request-id': '6G5RA4H54KXTRB0N', 'date': 'Thu, 23 Jan 2025 02:49:58 GMT', 'x-amz-bucket-region': 'us-east-1', 'x-amz-access-point-alias': 'false', 'content-type': 'application/xml', 'transfer-encoding': 'chunked', 'server': 'AmazonS3'}, 'RetryAttempts': 0}, 'BucketRegion': 'us-east-1', 'AccessPointAlias': False}\n"
     ]
    }
   ],
   "source": [
    "from botocore.client import ClientError\n",
    "\n",
    "response = None\n",
    "try:\n",
    "    response = s3.head_bucket(Bucket=bucket)\n",
    "    print(response)\n",
    "    setup_s3_bucket_passed = True\n",
    "except ClientError as e: \n",
    "    print(\"[ERROR] Cannot find bucket {} in {} due to {}.\".format(bucket, response, e))"
   ]
  },
  {
   "cell_type": "code",
   "execution_count": 11,
   "id": "8365393e-4d0e-4e6e-aa98-17417be94b65",
   "metadata": {},
   "outputs": [],
   "source": [
    "role = sagemaker.get_execution_role()\n",
    "region = boto3.Session().region_name \n",
    "account_id = boto3.client(service_name=\"sagemaker\", region_name=region)"
   ]
  },
  {
   "cell_type": "code",
   "execution_count": 12,
   "id": "305cab40-c245-443f-a352-78d56ec962e6",
   "metadata": {},
   "outputs": [
    {
     "name": "stderr",
     "output_type": "stream",
     "text": [
      "/tmp/ipykernel_126/88463448.py:1: DeprecationWarning: Importing display from IPython.core.display is deprecated since IPython 7.14, please import from IPython.display\n",
      "  from IPython.core.display import display, HTML\n"
     ]
    },
    {
     "data": {
      "text/html": [
       "<b>Review <a target=\"blank\" href=\"https://s3.console.aws.amazon.com/s3/buckets/flightfinalapproachanomalydetection/?region=us-east-1&tab=overview\">S3 Bucket</a></b>"
      ],
      "text/plain": [
       "<IPython.core.display.HTML object>"
      ]
     },
     "metadata": {},
     "output_type": "display_data"
    }
   ],
   "source": [
    "from IPython.core.display import display, HTML\n",
    "\n",
    "display(\n",
    "    HTML(\n",
    "        '<b>Review <a target=\"blank\" href=\"https://s3.console.aws.amazon.com/s3/buckets/flightfinalapproachanomalydetection/?region={}&tab=overview\">S3 Bucket</a></b>'.format(\n",
    "            region, account_id, region\n",
    "        )\n",
    "    )\n",
    ")"
   ]
  },
  {
   "cell_type": "markdown",
   "id": "fb7b64d7-669e-4951-a09d-95fedb97b0bd",
   "metadata": {},
   "source": [
    "## Create Athena Database Scheme\n",
    "### Import PyAthena"
   ]
  },
  {
   "cell_type": "code",
   "execution_count": 13,
   "id": "9eab820f-68d8-4139-9ac5-e8bb5bbb3f05",
   "metadata": {},
   "outputs": [],
   "source": [
    "from pyathena import connect"
   ]
  },
  {
   "cell_type": "code",
   "execution_count": 14,
   "id": "fe1baad6-1400-4b55-b9ae-f9b855e6bd5f",
   "metadata": {},
   "outputs": [],
   "source": [
    "table_name_csv = \"flight_csv_data\"\n",
    "s3_staging_dir = \"s3://{0}/athena/staging\".format(bucket)"
   ]
  },
  {
   "cell_type": "markdown",
   "id": "53ec6e18-b481-4322-af30-da80184b47d1",
   "metadata": {},
   "source": [
    "### Create Athena Database"
   ]
  },
  {
   "cell_type": "code",
   "execution_count": 15,
   "id": "0c9ec0f2-655e-416e-b36a-4ea0be8ec2e6",
   "metadata": {},
   "outputs": [],
   "source": [
    "database_name = \"flightdata_db\""
   ]
  },
  {
   "cell_type": "code",
   "execution_count": 16,
   "id": "b3c1afb3-bbdd-456d-b801-20d4a462023b",
   "metadata": {},
   "outputs": [],
   "source": [
    "s3_staging_dir = \"s3://{0}/athena/staging\".format(bucket)"
   ]
  },
  {
   "cell_type": "code",
   "execution_count": 17,
   "id": "e1f2c6b1-2b2e-4234-abb7-416aa4b084e2",
   "metadata": {},
   "outputs": [],
   "source": [
    "conn = connect(region_name=region, s3_staging_dir=s3_staging_dir)"
   ]
  },
  {
   "cell_type": "code",
   "execution_count": 18,
   "id": "13f9f71e-f0ef-4cdd-823e-59ed4b971c9b",
   "metadata": {},
   "outputs": [
    {
     "name": "stdout",
     "output_type": "stream",
     "text": [
      "CREATE DATABASE IF NOT EXISTS flightdata_db\n"
     ]
    }
   ],
   "source": [
    "statement = \"CREATE DATABASE IF NOT EXISTS {}\".format(database_name)\n",
    "print(statement)"
   ]
  },
  {
   "cell_type": "code",
   "execution_count": 19,
   "id": "bf9ef88f-6d7b-4642-8e5f-9ba37d64f201",
   "metadata": {},
   "outputs": [
    {
     "name": "stdout",
     "output_type": "stream",
     "text": [
      "Database created successfully\n"
     ]
    }
   ],
   "source": [
    "cursor = conn.cursor()\n",
    "cursor.execute(statement)\n",
    "print(\"Database created successfully\")\n"
   ]
  },
  {
   "cell_type": "code",
   "execution_count": 20,
   "id": "2536d68d-fbd1-4e54-b961-a8f7c20055aa",
   "metadata": {},
   "outputs": [
    {
     "name": "stderr",
     "output_type": "stream",
     "text": [
      "/tmp/ipykernel_126/2310636415.py:5: UserWarning: pandas only supports SQLAlchemy connectable (engine/connection) or database string URI or sqlite3 DBAPI2 connection. Other DBAPI2 objects are not tested. Please consider using SQLAlchemy.\n",
      "  df_show = pd.read_sql(statement, conn)\n"
     ]
    },
    {
     "data": {
      "text/html": [
       "<div>\n",
       "<style scoped>\n",
       "    .dataframe tbody tr th:only-of-type {\n",
       "        vertical-align: middle;\n",
       "    }\n",
       "\n",
       "    .dataframe tbody tr th {\n",
       "        vertical-align: top;\n",
       "    }\n",
       "\n",
       "    .dataframe thead th {\n",
       "        text-align: right;\n",
       "    }\n",
       "</style>\n",
       "<table border=\"1\" class=\"dataframe\">\n",
       "  <thead>\n",
       "    <tr style=\"text-align: right;\">\n",
       "      <th></th>\n",
       "      <th>database_name</th>\n",
       "    </tr>\n",
       "  </thead>\n",
       "  <tbody>\n",
       "    <tr>\n",
       "      <th>0</th>\n",
       "      <td>assignment2_aws</td>\n",
       "    </tr>\n",
       "    <tr>\n",
       "      <th>1</th>\n",
       "      <td>default</td>\n",
       "    </tr>\n",
       "    <tr>\n",
       "      <th>2</th>\n",
       "      <td>dsoaws</td>\n",
       "    </tr>\n",
       "    <tr>\n",
       "      <th>3</th>\n",
       "      <td>flightdata_db</td>\n",
       "    </tr>\n",
       "  </tbody>\n",
       "</table>\n",
       "</div>"
      ],
      "text/plain": [
       "     database_name\n",
       "0  assignment2_aws\n",
       "1          default\n",
       "2           dsoaws\n",
       "3    flightdata_db"
      ]
     },
     "execution_count": 20,
     "metadata": {},
     "output_type": "execute_result"
    }
   ],
   "source": [
    "import pandas as pd\n",
    "\n",
    "statement = \"SHOW DATABASES\"\n",
    "\n",
    "df_show = pd.read_sql(statement, conn)\n",
    "df_show.head(5)"
   ]
  },
  {
   "cell_type": "markdown",
   "id": "1489efc7-f7e9-4b36-879a-e4b1f521d75f",
   "metadata": {},
   "source": [
    "## Register CSV with Athena"
   ]
  },
  {
   "cell_type": "code",
   "execution_count": 30,
   "id": "d4ea08a8-ab17-405e-97a5-a98089f32e63",
   "metadata": {},
   "outputs": [
    {
     "name": "stdout",
     "output_type": "stream",
     "text": [
      "Table dropped successfully.\n"
     ]
    }
   ],
   "source": [
    "drop_statement = \"DROP TABLE flightdata_db.flight_csv_data\"\n",
    "cursor = conn.cursor()\n",
    "cursor.execute(drop_statement)\n",
    "print(\"Table dropped successfully.\")"
   ]
  },
  {
   "cell_type": "code",
   "execution_count": 31,
   "id": "40883fe5-6944-409f-9a07-ec64589474b5",
   "metadata": {},
   "outputs": [],
   "source": [
    "statement = \"\"\"CREATE EXTERNAL TABLE IF NOT EXISTS flightdata_db.flight_csv_data (\n",
    "        sample_id int,\n",
    "        timestep int,\n",
    "        aileron_pos_lh_deg float,\n",
    "        aileron_pos_rh_deg float,\n",
    "        corrected_angle_of_attack_deg float,\n",
    "        baro_correct_alt_lsp_ft float,\n",
    "        computed_airspeed_lsp_knots float,\n",
    "        selected_course_deg float,\n",
    "        drift_angle_deg float,\n",
    "        elevator_pos_left_deg float,\n",
    "        te_flap_pos_disc float,\n",
    "        glideslope_dev_perc float,\n",
    "        selected_heading_deg float,\n",
    "        localizer_dev_perc float,\n",
    "        core_speed_avg_perc float,\n",
    "        total_pressure_lsp_millibar float,\n",
    "        pitch_angle_lsp_deg float,\n",
    "        roll_angle_lsp_deg float,\n",
    "        rudder_pos_deg float,\n",
    "        true_heading_lsp_deg float,\n",
    "        vertical_accel_g float,\n",
    "        wind_speed_knots float,\n",
    "        label int\n",
    ")\n",
    "STORED AS TEXTFILE\n",
    "LOCATION 's3://flightfinalapproachanomalydetection/csv/'\n",
    "TBLPROPERTIES (\n",
    "    'skip.header.line.count'='1',\n",
    "    'field.delim'=',',\n",
    "    'compressionType'='none'\n",
    ")\"\"\""
   ]
  },
  {
   "cell_type": "code",
   "execution_count": 32,
   "id": "20837b7c-60eb-44c8-8d07-36c92488ea41",
   "metadata": {},
   "outputs": [
    {
     "data": {
      "text/plain": [
       "<pyathena.cursor.Cursor at 0x7f03d5fab210>"
      ]
     },
     "execution_count": 32,
     "metadata": {},
     "output_type": "execute_result"
    }
   ],
   "source": [
    "cursor = conn.cursor()\n",
    "cursor.execute(statement)"
   ]
  },
  {
   "cell_type": "code",
   "execution_count": 33,
   "id": "f8f11a0a-b117-4f48-85f1-88a59124866c",
   "metadata": {},
   "outputs": [
    {
     "name": "stderr",
     "output_type": "stream",
     "text": [
      "/tmp/ipykernel_126/1322682284.py:2: UserWarning: pandas only supports SQLAlchemy connectable (engine/connection) or database string URI or sqlite3 DBAPI2 connection. Other DBAPI2 objects are not tested. Please consider using SQLAlchemy.\n",
      "  pd.read_sql(statement, conn)\n"
     ]
    },
    {
     "data": {
      "text/html": [
       "<div>\n",
       "<style scoped>\n",
       "    .dataframe tbody tr th:only-of-type {\n",
       "        vertical-align: middle;\n",
       "    }\n",
       "\n",
       "    .dataframe tbody tr th {\n",
       "        vertical-align: top;\n",
       "    }\n",
       "\n",
       "    .dataframe thead th {\n",
       "        text-align: right;\n",
       "    }\n",
       "</style>\n",
       "<table border=\"1\" class=\"dataframe\">\n",
       "  <thead>\n",
       "    <tr style=\"text-align: right;\">\n",
       "      <th></th>\n",
       "    </tr>\n",
       "  </thead>\n",
       "  <tbody>\n",
       "  </tbody>\n",
       "</table>\n",
       "</div>"
      ],
      "text/plain": [
       "Empty DataFrame\n",
       "Columns: []\n",
       "Index: []"
      ]
     },
     "execution_count": 33,
     "metadata": {},
     "output_type": "execute_result"
    }
   ],
   "source": [
    "import pandas as pd\n",
    "pd.read_sql(statement, conn)"
   ]
  },
  {
   "cell_type": "code",
   "execution_count": 34,
   "id": "2e8548ff-c2c9-43d8-bfc8-3ba0b6dbdd66",
   "metadata": {},
   "outputs": [
    {
     "data": {
      "text/plain": [
       "<pyathena.cursor.Cursor at 0x7f03d605bdd0>"
      ]
     },
     "execution_count": 34,
     "metadata": {},
     "output_type": "execute_result"
    }
   ],
   "source": [
    "statement = \"SHOW TABLES IN {}\".format(database_name)\n",
    "cursor = conn.cursor()\n",
    "cursor.execute(statement)"
   ]
  },
  {
   "cell_type": "code",
   "execution_count": 35,
   "id": "2e852601-5c8b-412a-a910-4f88895bc054",
   "metadata": {},
   "outputs": [
    {
     "name": "stdout",
     "output_type": "stream",
     "text": [
      "False\n"
     ]
    }
   ],
   "source": [
    "if table_name_csv in df_show.values:\n",
    "    ingest_create_athena_table_csv_passed = True\n",
    "else:\n",
    "    ingest_create_athena_table_csv_passed = False\n",
    "print(ingest_create_athena_table_csv_passed)"
   ]
  },
  {
   "cell_type": "code",
   "execution_count": 36,
   "id": "07fc0e9a-b428-4b72-97ba-9b49db632ab5",
   "metadata": {},
   "outputs": [
    {
     "name": "stdout",
     "output_type": "stream",
     "text": [
      "flightdata_db\n",
      "flight_csv_data\n"
     ]
    }
   ],
   "source": [
    "print(database_name)\n",
    "print(table_name_csv)"
   ]
  },
  {
   "cell_type": "code",
   "execution_count": 37,
   "id": "deb07a02-83db-410f-bad3-e3782cbca116",
   "metadata": {},
   "outputs": [
    {
     "name": "stdout",
     "output_type": "stream",
     "text": [
      "SELECT sample_id, aileron_pos_lh_deg, timestep, label FROM flightdata_db.flight_csv_data\n",
      "    LIMIT 10\n"
     ]
    },
    {
     "name": "stderr",
     "output_type": "stream",
     "text": [
      "/tmp/ipykernel_126/1784874562.py:8: UserWarning: pandas only supports SQLAlchemy connectable (engine/connection) or database string URI or sqlite3 DBAPI2 connection. Other DBAPI2 objects are not tested. Please consider using SQLAlchemy.\n",
      "  df = pd.read_sql(statement, conn)\n"
     ]
    },
    {
     "data": {
      "text/html": [
       "<div>\n",
       "<style scoped>\n",
       "    .dataframe tbody tr th:only-of-type {\n",
       "        vertical-align: middle;\n",
       "    }\n",
       "\n",
       "    .dataframe tbody tr th {\n",
       "        vertical-align: top;\n",
       "    }\n",
       "\n",
       "    .dataframe thead th {\n",
       "        text-align: right;\n",
       "    }\n",
       "</style>\n",
       "<table border=\"1\" class=\"dataframe\">\n",
       "  <thead>\n",
       "    <tr style=\"text-align: right;\">\n",
       "      <th></th>\n",
       "      <th>sample_id</th>\n",
       "      <th>aileron_pos_lh_deg</th>\n",
       "      <th>timestep</th>\n",
       "      <th>label</th>\n",
       "    </tr>\n",
       "  </thead>\n",
       "  <tbody>\n",
       "    <tr>\n",
       "      <th>0</th>\n",
       "      <td>14013</td>\n",
       "      <td>84.002560</td>\n",
       "      <td>29</td>\n",
       "      <td>0</td>\n",
       "    </tr>\n",
       "    <tr>\n",
       "      <th>1</th>\n",
       "      <td>14013</td>\n",
       "      <td>83.081955</td>\n",
       "      <td>30</td>\n",
       "      <td>0</td>\n",
       "    </tr>\n",
       "    <tr>\n",
       "      <th>2</th>\n",
       "      <td>14013</td>\n",
       "      <td>84.575390</td>\n",
       "      <td>31</td>\n",
       "      <td>0</td>\n",
       "    </tr>\n",
       "    <tr>\n",
       "      <th>3</th>\n",
       "      <td>14013</td>\n",
       "      <td>88.380580</td>\n",
       "      <td>32</td>\n",
       "      <td>0</td>\n",
       "    </tr>\n",
       "    <tr>\n",
       "      <th>4</th>\n",
       "      <td>14013</td>\n",
       "      <td>85.598290</td>\n",
       "      <td>33</td>\n",
       "      <td>0</td>\n",
       "    </tr>\n",
       "  </tbody>\n",
       "</table>\n",
       "</div>"
      ],
      "text/plain": [
       "   sample_id  aileron_pos_lh_deg  timestep  label\n",
       "0      14013           84.002560        29      0\n",
       "1      14013           83.081955        30      0\n",
       "2      14013           84.575390        31      0\n",
       "3      14013           88.380580        32      0\n",
       "4      14013           85.598290        33      0"
      ]
     },
     "execution_count": 37,
     "metadata": {},
     "output_type": "execute_result"
    }
   ],
   "source": [
    "statement = \"\"\"SELECT sample_id, aileron_pos_lh_deg, timestep, label FROM {}.{}\n",
    "    LIMIT 10\"\"\".format(\n",
    "    database_name, table_name_csv\n",
    ")\n",
    "\n",
    "print(statement)\n",
    "\n",
    "df = pd.read_sql(statement, conn)\n",
    "df.head(5)"
   ]
  },
  {
   "cell_type": "code",
   "execution_count": 39,
   "id": "610ebce7-f6b7-4580-a2cf-ca514846bf36",
   "metadata": {},
   "outputs": [
    {
     "name": "stderr",
     "output_type": "stream",
     "text": [
      "/tmp/ipykernel_126/624500045.py:9: UserWarning: pandas only supports SQLAlchemy connectable (engine/connection) or database string URI or sqlite3 DBAPI2 connection. Other DBAPI2 objects are not tested. Please consider using SQLAlchemy.\n",
      "  df = pd.read_sql(statement, conn)\n"
     ]
    },
    {
     "data": {
      "text/html": [
       "<div>\n",
       "<style scoped>\n",
       "    .dataframe tbody tr th:only-of-type {\n",
       "        vertical-align: middle;\n",
       "    }\n",
       "\n",
       "    .dataframe tbody tr th {\n",
       "        vertical-align: top;\n",
       "    }\n",
       "\n",
       "    .dataframe thead th {\n",
       "        text-align: right;\n",
       "    }\n",
       "</style>\n",
       "<table border=\"1\" class=\"dataframe\">\n",
       "  <thead>\n",
       "    <tr style=\"text-align: right;\">\n",
       "      <th></th>\n",
       "      <th>label</th>\n",
       "      <th>count</th>\n",
       "    </tr>\n",
       "  </thead>\n",
       "  <tbody>\n",
       "    <tr>\n",
       "      <th>0</th>\n",
       "      <td>0</td>\n",
       "      <td>14346080</td>\n",
       "    </tr>\n",
       "    <tr>\n",
       "      <th>1</th>\n",
       "      <td>1</td>\n",
       "      <td>1122080</td>\n",
       "    </tr>\n",
       "    <tr>\n",
       "      <th>2</th>\n",
       "      <td>2</td>\n",
       "      <td>353120</td>\n",
       "    </tr>\n",
       "    <tr>\n",
       "      <th>3</th>\n",
       "      <td>3</td>\n",
       "      <td>152640</td>\n",
       "    </tr>\n",
       "  </tbody>\n",
       "</table>\n",
       "</div>"
      ],
      "text/plain": [
       "   label     count\n",
       "0      0  14346080\n",
       "1      1   1122080\n",
       "2      2    353120\n",
       "3      3    152640"
      ]
     },
     "execution_count": 39,
     "metadata": {},
     "output_type": "execute_result"
    }
   ],
   "source": [
    "statement = \"\"\"SELECT label, COUNT(*) AS count\n",
    "    FROM {}.{}\n",
    "    GROUP BY label\n",
    "    ORDER BY label\"\"\".format(\n",
    "    database_name, table_name_csv\n",
    ")\n",
    "\n",
    "\n",
    "df = pd.read_sql(statement, conn)\n",
    "df.head(10)"
   ]
  },
  {
   "cell_type": "markdown",
   "id": "d6c6fc74-a1a4-4c6a-851a-f5cedea8f37b",
   "metadata": {},
   "source": [
    "The classes are significantly imbalanced, with 14 million nominal examples, 1 million speed high examples, 350,000 path high examples and 152,000 flaps late setting examples."
   ]
  },
  {
   "cell_type": "code",
   "execution_count": null,
   "id": "90423b9d-084b-4187-a67a-d410e4940df1",
   "metadata": {},
   "outputs": [],
   "source": []
  }
 ],
 "metadata": {
  "kernelspec": {
   "display_name": "Python 3 (ipykernel)",
   "language": "python",
   "name": "python3"
  },
  "language_info": {
   "codemirror_mode": {
    "name": "ipython",
    "version": 3
   },
   "file_extension": ".py",
   "mimetype": "text/x-python",
   "name": "python",
   "nbconvert_exporter": "python",
   "pygments_lexer": "ipython3",
   "version": "3.11.11"
  }
 },
 "nbformat": 4,
 "nbformat_minor": 5
}
