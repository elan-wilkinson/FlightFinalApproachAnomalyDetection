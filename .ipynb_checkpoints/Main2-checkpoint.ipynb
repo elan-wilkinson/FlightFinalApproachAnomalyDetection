{
 "cells": [
  {
   "cell_type": "markdown",
   "id": "158154ae-6cb1-43ed-8e05-6d7b05dca08a",
   "metadata": {},
   "source": [
    "## Setup Dependencies"
   ]
  },
  {
   "cell_type": "code",
   "execution_count": 3,
   "id": "8b2c5a79-11c3-4443-ab25-76566f5f8c3c",
   "metadata": {},
   "outputs": [],
   "source": [
    "!pip install --disable-pip-version-check -q pip --upgrade > /dev/null\n",
    "!pip install --disable-pip-version-check -q wrapt --upgrade > /dev/null"
   ]
  },
  {
   "cell_type": "markdown",
   "id": "6aed348f-7b4f-4be6-b272-b5659d4eb33e",
   "metadata": {},
   "source": [
    "### AWS CLI and AWS Python SDK (boto3)"
   ]
  },
  {
   "cell_type": "code",
   "execution_count": 4,
   "id": "282b849a-c6ce-48db-8ec0-db60caf117f1",
   "metadata": {},
   "outputs": [],
   "source": [
    "!pip install --disable-pip-version-check -q awscli boto3"
   ]
  },
  {
   "cell_type": "markdown",
   "id": "84bd363c-32e2-4fa8-ae9c-cd99571979ba",
   "metadata": {},
   "source": [
    "### SageMaker"
   ]
  },
  {
   "cell_type": "code",
   "execution_count": 5,
   "id": "96a7b4f8-73ba-4fb0-b737-e8147de47c65",
   "metadata": {},
   "outputs": [],
   "source": [
    "!pip install --disable-pip-version-check -q sagemaker\n",
    "!pip install --disable-pip-version-check -q smdebug\n",
    "!pip install --disable-pip-version-check -q sagemaker-experiments"
   ]
  },
  {
   "cell_type": "markdown",
   "id": "66b6e794-9b81-417d-8fe9-71bbaccb779c",
   "metadata": {},
   "source": [
    "### PyAthena"
   ]
  },
  {
   "cell_type": "code",
   "execution_count": 6,
   "id": "3dafd863-a8e4-4666-988f-82e86c9c764a",
   "metadata": {},
   "outputs": [],
   "source": [
    "!pip install --disable-pip-version-check -q PyAthena"
   ]
  },
  {
   "cell_type": "markdown",
   "id": "c3ef557d-110a-4a58-b8a3-534c033d71bc",
   "metadata": {},
   "source": [
    "### AWS Data Wrangler"
   ]
  },
  {
   "cell_type": "code",
   "execution_count": 7,
   "id": "e236d569-b595-45ab-b3af-13e170a86960",
   "metadata": {},
   "outputs": [],
   "source": [
    "!pip install --disable-pip-version-check -q awswrangler"
   ]
  },
  {
   "cell_type": "markdown",
   "id": "1989a320-ceeb-42c7-807d-47078f909c3b",
   "metadata": {},
   "source": [
    "### Zip"
   ]
  },
  {
   "cell_type": "code",
   "execution_count": 8,
   "id": "6ff800ee-847f-465c-b702-7ff7a479a9bb",
   "metadata": {},
   "outputs": [
    {
     "name": "stdout",
     "output_type": "stream",
     "text": [
      "Channels:\n",
      " - conda-forge\n",
      "Platform: linux-64\n",
      "Collecting package metadata (repodata.json): done\n",
      "Solving environment: done\n",
      "\n",
      "# All requested packages already installed.\n",
      "\n"
     ]
    }
   ],
   "source": [
    "!conda install -y zip"
   ]
  },
  {
   "cell_type": "markdown",
   "id": "a70ed85d-25a1-4c30-a0ba-838bd278a775",
   "metadata": {},
   "source": [
    "### Matplotlib"
   ]
  },
  {
   "cell_type": "code",
   "execution_count": 9,
   "id": "50ad36a6-a84e-454a-88c7-4c0fa3550af4",
   "metadata": {},
   "outputs": [],
   "source": [
    "!pip install --disable-pip-version-check -q matplotlib"
   ]
  },
  {
   "cell_type": "markdown",
   "id": "fa497ad0-cf1c-4afb-95ef-8de690f1bd0e",
   "metadata": {},
   "source": [
    "### Seaborn"
   ]
  },
  {
   "cell_type": "code",
   "execution_count": 10,
   "id": "495758de-3817-492d-9715-36434fd22a38",
   "metadata": {},
   "outputs": [],
   "source": [
    "!pip install --disable-pip-version-check -q seaborn"
   ]
  },
  {
   "cell_type": "markdown",
   "id": "28453334-b5b1-492d-8954-f3ac2fc1418d",
   "metadata": {},
   "source": [
    "## Data lake Setup"
   ]
  },
  {
   "cell_type": "code",
   "execution_count": 11,
   "id": "6543ad71-d894-4ff7-a3ea-75d2a4e58834",
   "metadata": {},
   "outputs": [
    {
     "name": "stdout",
     "output_type": "stream",
     "text": [
      "sagemaker.config INFO - Not applying SDK defaults from location: /etc/xdg/sagemaker/config.yaml\n",
      "sagemaker.config INFO - Not applying SDK defaults from location: /home/sagemaker-user/.config/sagemaker/config.yaml\n",
      "Bucket name: flightfinalapproachanomalydetection\n"
     ]
    }
   ],
   "source": [
    "import boto3\n",
    "import sagemaker\n",
    "\n",
    "session = boto3.session.Session()\n",
    "region = session.region_name\n",
    "sagemaker_session = sagemaker.Session()\n",
    "bucket = 'flightfinalapproachanomalydetection'#'sagemaker-us-east-1-817854913925' #sagemaker_session.default_bucket()\n",
    "\n",
    "s3 = boto3.Session().client(service_name=\"s3\", region_name=region)\n",
    "\n",
    "print(\"Bucket name: {}\".format(bucket))"
   ]
  },
  {
   "cell_type": "markdown",
   "id": "cd2f7efe-0713-4ec9-bfc9-6eb91a86d7b9",
   "metadata": {},
   "source": [
    "### Verify Bucket Creation"
   ]
  },
  {
   "cell_type": "code",
   "execution_count": 12,
   "id": "02da2344-383a-4d9e-a45f-04e84d6d3be1",
   "metadata": {},
   "outputs": [
    {
     "name": "stdout",
     "output_type": "stream",
     "text": [
      "{'ResponseMetadata': {'RequestId': 'H59G1FBRW43JAHMB', 'HostId': 'GBjj1QDvwW8EebNyx8DvHMMDvhC+JE/L/iLk5lO2biFeuNuKkwa7FZRksPxFPmBYESCc8fu2sXqUtGc51ojRf7yu3VmSckucj8uwl+Dnf9w=', 'HTTPStatusCode': 200, 'HTTPHeaders': {'x-amz-id-2': 'GBjj1QDvwW8EebNyx8DvHMMDvhC+JE/L/iLk5lO2biFeuNuKkwa7FZRksPxFPmBYESCc8fu2sXqUtGc51ojRf7yu3VmSckucj8uwl+Dnf9w=', 'x-amz-request-id': 'H59G1FBRW43JAHMB', 'date': 'Fri, 31 Jan 2025 02:08:41 GMT', 'x-amz-bucket-region': 'us-east-1', 'x-amz-access-point-alias': 'false', 'content-type': 'application/xml', 'transfer-encoding': 'chunked', 'server': 'AmazonS3'}, 'RetryAttempts': 0}, 'BucketRegion': 'us-east-1', 'AccessPointAlias': False}\n"
     ]
    }
   ],
   "source": [
    "from botocore.client import ClientError\n",
    "\n",
    "response = None\n",
    "try:\n",
    "    response = s3.head_bucket(Bucket=bucket)\n",
    "    print(response)\n",
    "    setup_s3_bucket_passed = True\n",
    "except ClientError as e: \n",
    "    print(\"[ERROR] Cannot find bucket {} in {} due to {}.\".format(bucket, response, e))"
   ]
  },
  {
   "cell_type": "code",
   "execution_count": 13,
   "id": "8365393e-4d0e-4e6e-aa98-17417be94b65",
   "metadata": {},
   "outputs": [],
   "source": [
    "role = sagemaker.get_execution_role()\n",
    "region = boto3.Session().region_name \n",
    "account_id = boto3.client(service_name=\"sagemaker\", region_name=region)"
   ]
  },
  {
   "cell_type": "code",
   "execution_count": 14,
   "id": "305cab40-c245-443f-a352-78d56ec962e6",
   "metadata": {},
   "outputs": [
    {
     "name": "stderr",
     "output_type": "stream",
     "text": [
      "/tmp/ipykernel_1381/88463448.py:1: DeprecationWarning: Importing display from IPython.core.display is deprecated since IPython 7.14, please import from IPython.display\n",
      "  from IPython.core.display import display, HTML\n"
     ]
    },
    {
     "data": {
      "text/html": [
       "<b>Review <a target=\"blank\" href=\"https://s3.console.aws.amazon.com/s3/buckets/flightfinalapproachanomalydetection/?region=us-east-1&tab=overview\">S3 Bucket</a></b>"
      ],
      "text/plain": [
       "<IPython.core.display.HTML object>"
      ]
     },
     "metadata": {},
     "output_type": "display_data"
    }
   ],
   "source": [
    "from IPython.core.display import display, HTML\n",
    "\n",
    "display(\n",
    "    HTML(\n",
    "        '<b>Review <a target=\"blank\" href=\"https://s3.console.aws.amazon.com/s3/buckets/flightfinalapproachanomalydetection/?region={}&tab=overview\">S3 Bucket</a></b>'.format(\n",
    "            region, account_id, region\n",
    "        )\n",
    "    )\n",
    ")"
   ]
  },
  {
   "cell_type": "markdown",
   "id": "fb7b64d7-669e-4951-a09d-95fedb97b0bd",
   "metadata": {},
   "source": [
    "## Create Athena Database Scheme\n",
    "### Import PyAthena"
   ]
  },
  {
   "cell_type": "code",
   "execution_count": 15,
   "id": "9eab820f-68d8-4139-9ac5-e8bb5bbb3f05",
   "metadata": {},
   "outputs": [],
   "source": [
    "from pyathena import connect"
   ]
  },
  {
   "cell_type": "code",
   "execution_count": 16,
   "id": "fe1baad6-1400-4b55-b9ae-f9b855e6bd5f",
   "metadata": {},
   "outputs": [],
   "source": [
    "table_name_csv = \"flight_csv_data\"\n",
    "s3_staging_dir = \"s3://{0}/athena/staging\".format(bucket)"
   ]
  },
  {
   "cell_type": "markdown",
   "id": "53ec6e18-b481-4322-af30-da80184b47d1",
   "metadata": {},
   "source": [
    "### Create Athena Database"
   ]
  },
  {
   "cell_type": "code",
   "execution_count": 17,
   "id": "0c9ec0f2-655e-416e-b36a-4ea0be8ec2e6",
   "metadata": {},
   "outputs": [],
   "source": [
    "database_name = \"flightdata_db\""
   ]
  },
  {
   "cell_type": "code",
   "execution_count": 18,
   "id": "b3c1afb3-bbdd-456d-b801-20d4a462023b",
   "metadata": {},
   "outputs": [],
   "source": [
    "s3_staging_dir = \"s3://{0}/athena/staging\".format(bucket)"
   ]
  },
  {
   "cell_type": "code",
   "execution_count": 19,
   "id": "e1f2c6b1-2b2e-4234-abb7-416aa4b084e2",
   "metadata": {},
   "outputs": [],
   "source": [
    "conn = connect(region_name=region, s3_staging_dir=s3_staging_dir)"
   ]
  },
  {
   "cell_type": "code",
   "execution_count": 20,
   "id": "13f9f71e-f0ef-4cdd-823e-59ed4b971c9b",
   "metadata": {},
   "outputs": [
    {
     "name": "stdout",
     "output_type": "stream",
     "text": [
      "CREATE DATABASE IF NOT EXISTS flightdata_db\n"
     ]
    }
   ],
   "source": [
    "statement = \"CREATE DATABASE IF NOT EXISTS {}\".format(database_name)\n",
    "print(statement)"
   ]
  },
  {
   "cell_type": "code",
   "execution_count": 21,
   "id": "bf9ef88f-6d7b-4642-8e5f-9ba37d64f201",
   "metadata": {},
   "outputs": [
    {
     "name": "stdout",
     "output_type": "stream",
     "text": [
      "Database created successfully\n"
     ]
    }
   ],
   "source": [
    "cursor = conn.cursor()\n",
    "cursor.execute(statement)\n",
    "print(\"Database created successfully\")\n"
   ]
  },
  {
   "cell_type": "code",
   "execution_count": 22,
   "id": "2536d68d-fbd1-4e54-b961-a8f7c20055aa",
   "metadata": {},
   "outputs": [
    {
     "name": "stderr",
     "output_type": "stream",
     "text": [
      "/tmp/ipykernel_1381/2310636415.py:5: UserWarning: pandas only supports SQLAlchemy connectable (engine/connection) or database string URI or sqlite3 DBAPI2 connection. Other DBAPI2 objects are not tested. Please consider using SQLAlchemy.\n",
      "  df_show = pd.read_sql(statement, conn)\n"
     ]
    },
    {
     "data": {
      "text/html": [
       "<div>\n",
       "<style scoped>\n",
       "    .dataframe tbody tr th:only-of-type {\n",
       "        vertical-align: middle;\n",
       "    }\n",
       "\n",
       "    .dataframe tbody tr th {\n",
       "        vertical-align: top;\n",
       "    }\n",
       "\n",
       "    .dataframe thead th {\n",
       "        text-align: right;\n",
       "    }\n",
       "</style>\n",
       "<table border=\"1\" class=\"dataframe\">\n",
       "  <thead>\n",
       "    <tr style=\"text-align: right;\">\n",
       "      <th></th>\n",
       "      <th>database_name</th>\n",
       "    </tr>\n",
       "  </thead>\n",
       "  <tbody>\n",
       "    <tr>\n",
       "      <th>0</th>\n",
       "      <td>assignment2_aws</td>\n",
       "    </tr>\n",
       "    <tr>\n",
       "      <th>1</th>\n",
       "      <td>default</td>\n",
       "    </tr>\n",
       "    <tr>\n",
       "      <th>2</th>\n",
       "      <td>dsoaws</td>\n",
       "    </tr>\n",
       "    <tr>\n",
       "      <th>3</th>\n",
       "      <td>flightdata_db</td>\n",
       "    </tr>\n",
       "    <tr>\n",
       "      <th>4</th>\n",
       "      <td>sagemaker_featurestore</td>\n",
       "    </tr>\n",
       "  </tbody>\n",
       "</table>\n",
       "</div>"
      ],
      "text/plain": [
       "            database_name\n",
       "0         assignment2_aws\n",
       "1                 default\n",
       "2                  dsoaws\n",
       "3           flightdata_db\n",
       "4  sagemaker_featurestore"
      ]
     },
     "execution_count": 22,
     "metadata": {},
     "output_type": "execute_result"
    }
   ],
   "source": [
    "import pandas as pd\n",
    "\n",
    "statement = \"SHOW DATABASES\"\n",
    "\n",
    "df_show = pd.read_sql(statement, conn)\n",
    "df_show.head(5)"
   ]
  },
  {
   "cell_type": "markdown",
   "id": "1489efc7-f7e9-4b36-879a-e4b1f521d75f",
   "metadata": {},
   "source": [
    "## Register CSV with Athena"
   ]
  },
  {
   "cell_type": "code",
   "execution_count": 23,
   "id": "d4ea08a8-ab17-405e-97a5-a98089f32e63",
   "metadata": {},
   "outputs": [
    {
     "name": "stdout",
     "output_type": "stream",
     "text": [
      "Table dropped successfully.\n"
     ]
    }
   ],
   "source": [
    "drop_statement = \"DROP TABLE flightdata_db.flight_csv_data\"\n",
    "cursor = conn.cursor()\n",
    "cursor.execute(drop_statement)\n",
    "print(\"Table dropped successfully.\")"
   ]
  },
  {
   "cell_type": "code",
   "execution_count": 24,
   "id": "40883fe5-6944-409f-9a07-ec64589474b5",
   "metadata": {},
   "outputs": [],
   "source": [
    "statement = \"\"\"CREATE EXTERNAL TABLE IF NOT EXISTS flightdata_db.flight_csv_data (\n",
    "        sample_id int,\n",
    "        timestep int,\n",
    "        aileron_pos_lh_deg float,\n",
    "        aileron_pos_rh_deg float,\n",
    "        corrected_angle_of_attack_deg float,\n",
    "        baro_correct_alt_lsp_ft float,\n",
    "        computed_airspeed_lsp_knots float,\n",
    "        selected_course_deg float,\n",
    "        drift_angle_deg float,\n",
    "        elevator_pos_left_deg float,\n",
    "        te_flap_pos_disc float,\n",
    "        glideslope_dev_perc float,\n",
    "        selected_heading_deg float,\n",
    "        localizer_dev_perc float,\n",
    "        core_speed_avg_perc float,\n",
    "        total_pressure_lsp_millibar float,\n",
    "        pitch_angle_lsp_deg float,\n",
    "        roll_angle_lsp_deg float,\n",
    "        rudder_pos_deg float,\n",
    "        true_heading_lsp_deg float,\n",
    "        vertical_accel_g float,\n",
    "        wind_speed_knots float,\n",
    "        label int\n",
    ")\n",
    "STORED AS TEXTFILE\n",
    "LOCATION 's3://flightfinalapproachanomalydetection/csv/'\n",
    "TBLPROPERTIES (\n",
    "    'skip.header.line.count'='1',\n",
    "    'field.delim'=',',\n",
    "    'compressionType'='none'\n",
    ")\"\"\""
   ]
  },
  {
   "cell_type": "code",
   "execution_count": 25,
   "id": "20837b7c-60eb-44c8-8d07-36c92488ea41",
   "metadata": {},
   "outputs": [
    {
     "data": {
      "text/plain": [
       "<pyathena.cursor.Cursor at 0x7f9ed6ce2ed0>"
      ]
     },
     "execution_count": 25,
     "metadata": {},
     "output_type": "execute_result"
    }
   ],
   "source": [
    "cursor = conn.cursor()\n",
    "cursor.execute(statement)"
   ]
  },
  {
   "cell_type": "code",
   "execution_count": 24,
   "id": "f8f11a0a-b117-4f48-85f1-88a59124866c",
   "metadata": {},
   "outputs": [
    {
     "name": "stderr",
     "output_type": "stream",
     "text": [
      "/tmp/ipykernel_14886/1322682284.py:2: UserWarning: pandas only supports SQLAlchemy connectable (engine/connection) or database string URI or sqlite3 DBAPI2 connection. Other DBAPI2 objects are not tested. Please consider using SQLAlchemy.\n",
      "  pd.read_sql(statement, conn)\n"
     ]
    },
    {
     "data": {
      "text/html": [
       "<div>\n",
       "<style scoped>\n",
       "    .dataframe tbody tr th:only-of-type {\n",
       "        vertical-align: middle;\n",
       "    }\n",
       "\n",
       "    .dataframe tbody tr th {\n",
       "        vertical-align: top;\n",
       "    }\n",
       "\n",
       "    .dataframe thead th {\n",
       "        text-align: right;\n",
       "    }\n",
       "</style>\n",
       "<table border=\"1\" class=\"dataframe\">\n",
       "  <thead>\n",
       "    <tr style=\"text-align: right;\">\n",
       "      <th></th>\n",
       "    </tr>\n",
       "  </thead>\n",
       "  <tbody>\n",
       "  </tbody>\n",
       "</table>\n",
       "</div>"
      ],
      "text/plain": [
       "Empty DataFrame\n",
       "Columns: []\n",
       "Index: []"
      ]
     },
     "execution_count": 24,
     "metadata": {},
     "output_type": "execute_result"
    }
   ],
   "source": [
    "import pandas as pd\n",
    "pd.read_sql(statement, conn)"
   ]
  },
  {
   "cell_type": "code",
   "execution_count": 25,
   "id": "2e8548ff-c2c9-43d8-bfc8-3ba0b6dbdd66",
   "metadata": {},
   "outputs": [
    {
     "data": {
      "text/plain": [
       "<pyathena.cursor.Cursor at 0x7f2f4c78f1d0>"
      ]
     },
     "execution_count": 25,
     "metadata": {},
     "output_type": "execute_result"
    }
   ],
   "source": [
    "statement = \"SHOW TABLES IN {}\".format(database_name)\n",
    "cursor = conn.cursor()\n",
    "cursor.execute(statement)"
   ]
  },
  {
   "cell_type": "code",
   "execution_count": 26,
   "id": "2e852601-5c8b-412a-a910-4f88895bc054",
   "metadata": {},
   "outputs": [
    {
     "name": "stdout",
     "output_type": "stream",
     "text": [
      "False\n"
     ]
    }
   ],
   "source": [
    "if table_name_csv in df_show.values:\n",
    "    ingest_create_athena_table_csv_passed = True\n",
    "else:\n",
    "    ingest_create_athena_table_csv_passed = False\n",
    "print(ingest_create_athena_table_csv_passed)"
   ]
  },
  {
   "cell_type": "code",
   "execution_count": 27,
   "id": "07fc0e9a-b428-4b72-97ba-9b49db632ab5",
   "metadata": {},
   "outputs": [
    {
     "name": "stdout",
     "output_type": "stream",
     "text": [
      "flightdata_db\n",
      "flight_csv_data\n"
     ]
    }
   ],
   "source": [
    "print(database_name)\n",
    "print(table_name_csv)"
   ]
  },
  {
   "cell_type": "code",
   "execution_count": 28,
   "id": "deb07a02-83db-410f-bad3-e3782cbca116",
   "metadata": {},
   "outputs": [
    {
     "name": "stdout",
     "output_type": "stream",
     "text": [
      "SELECT sample_id, aileron_pos_lh_deg, timestep, label FROM flightdata_db.flight_csv_data\n",
      "    LIMIT 10\n"
     ]
    },
    {
     "name": "stderr",
     "output_type": "stream",
     "text": [
      "/tmp/ipykernel_188/1784874562.py:8: UserWarning: pandas only supports SQLAlchemy connectable (engine/connection) or database string URI or sqlite3 DBAPI2 connection. Other DBAPI2 objects are not tested. Please consider using SQLAlchemy.\n",
      "  df = pd.read_sql(statement, conn)\n"
     ]
    },
    {
     "data": {
      "text/html": [
       "<div>\n",
       "<style scoped>\n",
       "    .dataframe tbody tr th:only-of-type {\n",
       "        vertical-align: middle;\n",
       "    }\n",
       "\n",
       "    .dataframe tbody tr th {\n",
       "        vertical-align: top;\n",
       "    }\n",
       "\n",
       "    .dataframe thead th {\n",
       "        text-align: right;\n",
       "    }\n",
       "</style>\n",
       "<table border=\"1\" class=\"dataframe\">\n",
       "  <thead>\n",
       "    <tr style=\"text-align: right;\">\n",
       "      <th></th>\n",
       "      <th>sample_id</th>\n",
       "      <th>aileron_pos_lh_deg</th>\n",
       "      <th>timestep</th>\n",
       "      <th>label</th>\n",
       "    </tr>\n",
       "  </thead>\n",
       "  <tbody>\n",
       "    <tr>\n",
       "      <th>0</th>\n",
       "      <td>0</td>\n",
       "      <td>81.261190</td>\n",
       "      <td>0</td>\n",
       "      <td>0</td>\n",
       "    </tr>\n",
       "    <tr>\n",
       "      <th>1</th>\n",
       "      <td>0</td>\n",
       "      <td>79.604095</td>\n",
       "      <td>1</td>\n",
       "      <td>0</td>\n",
       "    </tr>\n",
       "    <tr>\n",
       "      <th>2</th>\n",
       "      <td>0</td>\n",
       "      <td>81.302110</td>\n",
       "      <td>2</td>\n",
       "      <td>0</td>\n",
       "    </tr>\n",
       "    <tr>\n",
       "      <th>3</th>\n",
       "      <td>0</td>\n",
       "      <td>82.345470</td>\n",
       "      <td>3</td>\n",
       "      <td>0</td>\n",
       "    </tr>\n",
       "    <tr>\n",
       "      <th>4</th>\n",
       "      <td>0</td>\n",
       "      <td>81.874930</td>\n",
       "      <td>4</td>\n",
       "      <td>0</td>\n",
       "    </tr>\n",
       "  </tbody>\n",
       "</table>\n",
       "</div>"
      ],
      "text/plain": [
       "   sample_id  aileron_pos_lh_deg  timestep  label\n",
       "0          0           81.261190         0      0\n",
       "1          0           79.604095         1      0\n",
       "2          0           81.302110         2      0\n",
       "3          0           82.345470         3      0\n",
       "4          0           81.874930         4      0"
      ]
     },
     "execution_count": 28,
     "metadata": {},
     "output_type": "execute_result"
    }
   ],
   "source": [
    "statement = \"\"\"SELECT sample_id, aileron_pos_lh_deg, timestep, label FROM {}.{}\n",
    "    LIMIT 10\"\"\".format(\n",
    "    database_name, table_name_csv\n",
    ")\n",
    "\n",
    "print(statement)\n",
    "\n",
    "df = pd.read_sql(statement, conn)\n",
    "df.head(5)"
   ]
  },
  {
   "cell_type": "code",
   "execution_count": 29,
   "id": "610ebce7-f6b7-4580-a2cf-ca514846bf36",
   "metadata": {},
   "outputs": [
    {
     "name": "stderr",
     "output_type": "stream",
     "text": [
      "/tmp/ipykernel_188/624500045.py:9: UserWarning: pandas only supports SQLAlchemy connectable (engine/connection) or database string URI or sqlite3 DBAPI2 connection. Other DBAPI2 objects are not tested. Please consider using SQLAlchemy.\n",
      "  df = pd.read_sql(statement, conn)\n"
     ]
    },
    {
     "data": {
      "text/html": [
       "<div>\n",
       "<style scoped>\n",
       "    .dataframe tbody tr th:only-of-type {\n",
       "        vertical-align: middle;\n",
       "    }\n",
       "\n",
       "    .dataframe tbody tr th {\n",
       "        vertical-align: top;\n",
       "    }\n",
       "\n",
       "    .dataframe thead th {\n",
       "        text-align: right;\n",
       "    }\n",
       "</style>\n",
       "<table border=\"1\" class=\"dataframe\">\n",
       "  <thead>\n",
       "    <tr style=\"text-align: right;\">\n",
       "      <th></th>\n",
       "      <th>label</th>\n",
       "      <th>count</th>\n",
       "    </tr>\n",
       "  </thead>\n",
       "  <tbody>\n",
       "    <tr>\n",
       "      <th>0</th>\n",
       "      <td>0</td>\n",
       "      <td>14346080</td>\n",
       "    </tr>\n",
       "    <tr>\n",
       "      <th>1</th>\n",
       "      <td>1</td>\n",
       "      <td>1122080</td>\n",
       "    </tr>\n",
       "    <tr>\n",
       "      <th>2</th>\n",
       "      <td>2</td>\n",
       "      <td>353120</td>\n",
       "    </tr>\n",
       "    <tr>\n",
       "      <th>3</th>\n",
       "      <td>3</td>\n",
       "      <td>152640</td>\n",
       "    </tr>\n",
       "  </tbody>\n",
       "</table>\n",
       "</div>"
      ],
      "text/plain": [
       "   label     count\n",
       "0      0  14346080\n",
       "1      1   1122080\n",
       "2      2    353120\n",
       "3      3    152640"
      ]
     },
     "execution_count": 29,
     "metadata": {},
     "output_type": "execute_result"
    }
   ],
   "source": [
    "statement = \"\"\"SELECT label, COUNT(*) AS count\n",
    "    FROM {}.{}\n",
    "    GROUP BY label\n",
    "    ORDER BY label\"\"\".format(\n",
    "    database_name, table_name_csv\n",
    ")\n",
    "\n",
    "\n",
    "df = pd.read_sql(statement, conn)\n",
    "df.head(10)"
   ]
  },
  {
   "cell_type": "markdown",
   "id": "d6c6fc74-a1a4-4c6a-851a-f5cedea8f37b",
   "metadata": {},
   "source": [
    "The classes are significantly imbalanced, with 14 million nominal examples, 1 million speed high examples, 350,000 path high examples and 152,000 flaps late setting examples. It should be noted that this is time series data, so the number of individual flight recordings is a fraction of this.\n",
    "\n",
    "### Check for Duplicates"
   ]
  },
  {
   "cell_type": "code",
   "execution_count": 33,
   "id": "90423b9d-084b-4187-a67a-d410e4940df1",
   "metadata": {},
   "outputs": [
    {
     "name": "stderr",
     "output_type": "stream",
     "text": [
      "/tmp/ipykernel_188/2534158001.py:10: UserWarning: pandas only supports SQLAlchemy connectable (engine/connection) or database string URI or sqlite3 DBAPI2 connection. Other DBAPI2 objects are not tested. Please consider using SQLAlchemy.\n",
      "  df = pd.read_sql(statement, conn)\n"
     ]
    },
    {
     "data": {
      "text/html": [
       "<div>\n",
       "<style scoped>\n",
       "    .dataframe tbody tr th:only-of-type {\n",
       "        vertical-align: middle;\n",
       "    }\n",
       "\n",
       "    .dataframe tbody tr th {\n",
       "        vertical-align: top;\n",
       "    }\n",
       "\n",
       "    .dataframe thead th {\n",
       "        text-align: right;\n",
       "    }\n",
       "</style>\n",
       "<table border=\"1\" class=\"dataframe\">\n",
       "  <thead>\n",
       "    <tr style=\"text-align: right;\">\n",
       "      <th></th>\n",
       "      <th>sample_id</th>\n",
       "      <th>timestep</th>\n",
       "      <th>aileron_pos_lh_deg</th>\n",
       "      <th>aileron_pos_rh_deg</th>\n",
       "      <th>corrected_angle_of_attack_deg</th>\n",
       "      <th>baro_correct_alt_lsp_ft</th>\n",
       "      <th>computed_airspeed_lsp_knots</th>\n",
       "      <th>selected_course_deg</th>\n",
       "      <th>drift_angle_deg</th>\n",
       "      <th>elevator_pos_left_deg</th>\n",
       "      <th>...</th>\n",
       "      <th>core_speed_avg_perc</th>\n",
       "      <th>total_pressure_lsp_millibar</th>\n",
       "      <th>pitch_angle_lsp_deg</th>\n",
       "      <th>roll_angle_lsp_deg</th>\n",
       "      <th>rudder_pos_deg</th>\n",
       "      <th>true_heading_lsp_deg</th>\n",
       "      <th>vertical_accel_g</th>\n",
       "      <th>wind_speed_knots</th>\n",
       "      <th>label</th>\n",
       "      <th>_col23</th>\n",
       "    </tr>\n",
       "  </thead>\n",
       "  <tbody>\n",
       "  </tbody>\n",
       "</table>\n",
       "<p>0 rows × 24 columns</p>\n",
       "</div>"
      ],
      "text/plain": [
       "Empty DataFrame\n",
       "Columns: [sample_id, timestep, aileron_pos_lh_deg, aileron_pos_rh_deg, corrected_angle_of_attack_deg, baro_correct_alt_lsp_ft, computed_airspeed_lsp_knots, selected_course_deg, drift_angle_deg, elevator_pos_left_deg, te_flap_pos_disc, glideslope_dev_perc, selected_heading_deg, localizer_dev_perc, core_speed_avg_perc, total_pressure_lsp_millibar, pitch_angle_lsp_deg, roll_angle_lsp_deg, rudder_pos_deg, true_heading_lsp_deg, vertical_accel_g, wind_speed_knots, label, _col23]\n",
       "Index: []\n",
       "\n",
       "[0 rows x 24 columns]"
      ]
     },
     "execution_count": 33,
     "metadata": {},
     "output_type": "execute_result"
    }
   ],
   "source": [
    "statement = \"\"\"SELECT *, COUNT(*)\n",
    "    FROM {}.{}\n",
    "    GROUP BY sample_id, aileron_pos_lh_deg, timestep, aileron_pos_rh_deg, corrected_angle_of_attack_deg, baro_correct_alt_lsp_ft, computed_airspeed_lsp_knots,\n",
    "    selected_course_deg, drift_angle_deg, elevator_pos_left_deg, te_flap_pos_disc, glideslope_dev_perc, selected_heading_deg, localizer_dev_perc, core_speed_avg_perc,\n",
    "    total_pressure_lsp_millibar, pitch_angle_lsp_deg, roll_angle_lsp_deg, rudder_pos_deg, true_heading_lsp_deg, vertical_accel_g, wind_speed_knots, label\n",
    "    HAVING COUNT(*) > 1\"\"\".format(\n",
    "    database_name, table_name_csv\n",
    ")\n",
    "\n",
    "df = pd.read_sql(statement, conn)\n",
    "df.head(10)\n"
   ]
  },
  {
   "cell_type": "markdown",
   "id": "84d339be-be75-47fb-8414-96d806206478",
   "metadata": {},
   "source": [
    "#### Check for Null or Missing Values"
   ]
  },
  {
   "cell_type": "code",
   "execution_count": 24,
   "id": "a309f805-7a83-4f79-9d4a-0e84b081c9d0",
   "metadata": {},
   "outputs": [
    {
     "name": "stdout",
     "output_type": "stream",
     "text": [
      "/home/sagemaker-user/FlightFinalApproachAnomalyDetection\n"
     ]
    }
   ],
   "source": [
    "!pwd"
   ]
  },
  {
   "cell_type": "code",
   "execution_count": 26,
   "id": "e1dac247-c190-4dcd-8b4d-2274195275a2",
   "metadata": {},
   "outputs": [],
   "source": [
    "import pandas as pd\n",
    "df = pd.read_csv(\"/home/sagemaker-user/FlightFinalApproachAnomalyDetection/training_flight_data.csv\")"
   ]
  },
  {
   "cell_type": "code",
   "execution_count": 28,
   "id": "9d77f66d-235a-4695-a6f4-1c144d69ab90",
   "metadata": {},
   "outputs": [],
   "source": [
    "\n",
    "df.columns = ['sample_id', 'time_step', 'aileron_pos_lh_deg', 'aileron_pos_rh_deg', 'corrected_angle_of_attack_deg', 'baro_correct_alt_lsp_ft', 'computed_airspeed_lsp_knots',\n",
    "    'selected_course_deg', 'drift_angle_deg', 'elevator_pos_left_deg', 'te_flap_pos_disc', 'glideslope_dev_perc', 'selected_heading_deg', 'localizer_dev_perc', 'core_speed_avg_perc',\n",
    "    'total_pressure_lsp_millibar', 'pitch_angle_lsp_deg', 'roll_angle_lsp_deg', 'rudder_pos_deg', 'true_heading_lsp_deg', 'vertical_accel_g', 'wind_speed_knots', 'label']"
   ]
  },
  {
   "cell_type": "code",
   "execution_count": 29,
   "id": "e1070ea7-6533-4bec-8674-6a101b030dc7",
   "metadata": {},
   "outputs": [
    {
     "name": "stdout",
     "output_type": "stream",
     "text": [
      "sample_id                        0\n",
      "time_step                        0\n",
      "aileron_pos_lh_deg               0\n",
      "aileron_pos_rh_deg               0\n",
      "corrected_angle_of_attack_deg    0\n",
      "baro_correct_alt_lsp_ft          0\n",
      "computed_airspeed_lsp_knots      0\n",
      "selected_course_deg              0\n",
      "drift_angle_deg                  0\n",
      "elevator_pos_left_deg            0\n",
      "te_flap_pos_disc                 0\n",
      "glideslope_dev_perc              0\n",
      "selected_heading_deg             0\n",
      "localizer_dev_perc               0\n",
      "core_speed_avg_perc              0\n",
      "total_pressure_lsp_millibar      0\n",
      "pitch_angle_lsp_deg              0\n",
      "roll_angle_lsp_deg               0\n",
      "rudder_pos_deg                   0\n",
      "true_heading_lsp_deg             0\n",
      "vertical_accel_g                 0\n",
      "wind_speed_knots                 0\n",
      "label                            0\n",
      "dtype: int64\n"
     ]
    }
   ],
   "source": [
    "missing_count = df.isnull().sum() \n",
    "\n",
    "print(df.isnull().sum())"
   ]
  },
  {
   "cell_type": "markdown",
   "id": "e8f563f4-cf70-4d4f-a3ef-e67ced77a3d8",
   "metadata": {},
   "source": [
    "#### Boxplots of Data Distribution"
   ]
  },
  {
   "cell_type": "code",
   "execution_count": null,
   "id": "a30a6ebe-ded9-4132-9d38-b2c5dd07030c",
   "metadata": {},
   "outputs": [],
   "source": [
    "import matplotlib.pyplot as plt\n",
    "\n",
    "df.plot(kind='box', subplots=True, layout=(5, 5), figsize=(15, 15))\n",
    "plt.show()"
   ]
  },
  {
   "cell_type": "markdown",
   "id": "8591dd7c-e3c3-42c9-a39d-a45812a5aa6c",
   "metadata": {},
   "source": [
    "### Variable Correlation"
   ]
  },
  {
   "cell_type": "code",
   "execution_count": null,
   "id": "e4090d82-1b52-4b21-aab7-8f79be1193de",
   "metadata": {},
   "outputs": [],
   "source": [
    "import seaborn as sns\n",
    "\n",
    "corr_matrix = df.corr()\n",
    "fig, ax = plt.subplots(figsize=(15, 15))\n",
    "sns.heatmap(corr_matrix, annot=True, cmap='coolwarm', )\n",
    "\n",
    "plt.show()"
   ]
  },
  {
   "cell_type": "code",
   "execution_count": 30,
   "id": "6ce3697d-7d47-4210-b7fd-cbe34b5e2841",
   "metadata": {},
   "outputs": [
    {
     "data": {
      "text/html": [
       "<div>\n",
       "<style scoped>\n",
       "    .dataframe tbody tr th:only-of-type {\n",
       "        vertical-align: middle;\n",
       "    }\n",
       "\n",
       "    .dataframe tbody tr th {\n",
       "        vertical-align: top;\n",
       "    }\n",
       "\n",
       "    .dataframe thead th {\n",
       "        text-align: right;\n",
       "    }\n",
       "</style>\n",
       "<table border=\"1\" class=\"dataframe\">\n",
       "  <thead>\n",
       "    <tr style=\"text-align: right;\">\n",
       "      <th></th>\n",
       "      <th>sample_id</th>\n",
       "      <th>time_step</th>\n",
       "      <th>aileron_pos_lh_deg</th>\n",
       "      <th>aileron_pos_rh_deg</th>\n",
       "      <th>corrected_angle_of_attack_deg</th>\n",
       "      <th>baro_correct_alt_lsp_ft</th>\n",
       "      <th>computed_airspeed_lsp_knots</th>\n",
       "      <th>selected_course_deg</th>\n",
       "      <th>drift_angle_deg</th>\n",
       "      <th>elevator_pos_left_deg</th>\n",
       "      <th>...</th>\n",
       "      <th>core_speed_avg_perc</th>\n",
       "      <th>total_pressure_lsp_millibar</th>\n",
       "      <th>pitch_angle_lsp_deg</th>\n",
       "      <th>roll_angle_lsp_deg</th>\n",
       "      <th>rudder_pos_deg</th>\n",
       "      <th>true_heading_lsp_deg</th>\n",
       "      <th>vertical_accel_g</th>\n",
       "      <th>wind_speed_knots</th>\n",
       "      <th>label</th>\n",
       "      <th>record_identifier</th>\n",
       "    </tr>\n",
       "  </thead>\n",
       "  <tbody>\n",
       "    <tr>\n",
       "      <th>0</th>\n",
       "      <td>0</td>\n",
       "      <td>0.0</td>\n",
       "      <td>81.261190</td>\n",
       "      <td>82.652336</td>\n",
       "      <td>-8.111792</td>\n",
       "      <td>1969.6174</td>\n",
       "      <td>155.57140</td>\n",
       "      <td>-2.109358</td>\n",
       "      <td>-0.692778</td>\n",
       "      <td>-4.952854</td>\n",
       "      <td>...</td>\n",
       "      <td>70.74118</td>\n",
       "      <td>985.42550</td>\n",
       "      <td>-3.662262</td>\n",
       "      <td>0.785912</td>\n",
       "      <td>-0.390141</td>\n",
       "      <td>-1.081870</td>\n",
       "      <td>0.972379</td>\n",
       "      <td>12.625183</td>\n",
       "      <td>0.0</td>\n",
       "      <td>0_0</td>\n",
       "    </tr>\n",
       "    <tr>\n",
       "      <th>1</th>\n",
       "      <td>0</td>\n",
       "      <td>1.0</td>\n",
       "      <td>79.604095</td>\n",
       "      <td>81.015700</td>\n",
       "      <td>-7.644611</td>\n",
       "      <td>1955.6995</td>\n",
       "      <td>154.51205</td>\n",
       "      <td>-2.109358</td>\n",
       "      <td>-0.867216</td>\n",
       "      <td>-5.198349</td>\n",
       "      <td>...</td>\n",
       "      <td>70.71775</td>\n",
       "      <td>985.52030</td>\n",
       "      <td>-3.665276</td>\n",
       "      <td>0.046774</td>\n",
       "      <td>-0.756234</td>\n",
       "      <td>-0.704820</td>\n",
       "      <td>0.770077</td>\n",
       "      <td>11.893839</td>\n",
       "      <td>0.0</td>\n",
       "      <td>0_1</td>\n",
       "    </tr>\n",
       "    <tr>\n",
       "      <th>2</th>\n",
       "      <td>0</td>\n",
       "      <td>2.0</td>\n",
       "      <td>81.302110</td>\n",
       "      <td>80.770200</td>\n",
       "      <td>-7.552573</td>\n",
       "      <td>1940.0267</td>\n",
       "      <td>153.32867</td>\n",
       "      <td>-2.109358</td>\n",
       "      <td>-1.424093</td>\n",
       "      <td>-4.830105</td>\n",
       "      <td>...</td>\n",
       "      <td>70.70276</td>\n",
       "      <td>985.41650</td>\n",
       "      <td>-3.940319</td>\n",
       "      <td>0.804820</td>\n",
       "      <td>-1.325632</td>\n",
       "      <td>-0.240446</td>\n",
       "      <td>0.543937</td>\n",
       "      <td>12.559112</td>\n",
       "      <td>0.0</td>\n",
       "      <td>0_2</td>\n",
       "    </tr>\n",
       "    <tr>\n",
       "      <th>3</th>\n",
       "      <td>0</td>\n",
       "      <td>3.0</td>\n",
       "      <td>82.345470</td>\n",
       "      <td>83.900276</td>\n",
       "      <td>-8.395265</td>\n",
       "      <td>1924.5493</td>\n",
       "      <td>150.88818</td>\n",
       "      <td>-2.109358</td>\n",
       "      <td>-1.141912</td>\n",
       "      <td>-4.625526</td>\n",
       "      <td>...</td>\n",
       "      <td>70.74159</td>\n",
       "      <td>984.81710</td>\n",
       "      <td>-4.275129</td>\n",
       "      <td>1.077102</td>\n",
       "      <td>-0.326884</td>\n",
       "      <td>-0.191627</td>\n",
       "      <td>1.062817</td>\n",
       "      <td>10.542998</td>\n",
       "      <td>0.0</td>\n",
       "      <td>0_3</td>\n",
       "    </tr>\n",
       "    <tr>\n",
       "      <th>4</th>\n",
       "      <td>0</td>\n",
       "      <td>4.0</td>\n",
       "      <td>81.874930</td>\n",
       "      <td>82.754620</td>\n",
       "      <td>-7.854284</td>\n",
       "      <td>1905.3670</td>\n",
       "      <td>150.69461</td>\n",
       "      <td>-2.109358</td>\n",
       "      <td>-0.724660</td>\n",
       "      <td>-4.400490</td>\n",
       "      <td>...</td>\n",
       "      <td>70.57045</td>\n",
       "      <td>985.23065</td>\n",
       "      <td>-4.241483</td>\n",
       "      <td>1.654806</td>\n",
       "      <td>0.129545</td>\n",
       "      <td>-0.528425</td>\n",
       "      <td>0.867628</td>\n",
       "      <td>9.713539</td>\n",
       "      <td>0.0</td>\n",
       "      <td>0_4</td>\n",
       "    </tr>\n",
       "  </tbody>\n",
       "</table>\n",
       "<p>5 rows × 24 columns</p>\n",
       "</div>"
      ],
      "text/plain": [
       "   sample_id  time_step  aileron_pos_lh_deg  aileron_pos_rh_deg  \\\n",
       "0          0        0.0           81.261190           82.652336   \n",
       "1          0        1.0           79.604095           81.015700   \n",
       "2          0        2.0           81.302110           80.770200   \n",
       "3          0        3.0           82.345470           83.900276   \n",
       "4          0        4.0           81.874930           82.754620   \n",
       "\n",
       "   corrected_angle_of_attack_deg  baro_correct_alt_lsp_ft  \\\n",
       "0                      -8.111792                1969.6174   \n",
       "1                      -7.644611                1955.6995   \n",
       "2                      -7.552573                1940.0267   \n",
       "3                      -8.395265                1924.5493   \n",
       "4                      -7.854284                1905.3670   \n",
       "\n",
       "   computed_airspeed_lsp_knots  selected_course_deg  drift_angle_deg  \\\n",
       "0                    155.57140            -2.109358        -0.692778   \n",
       "1                    154.51205            -2.109358        -0.867216   \n",
       "2                    153.32867            -2.109358        -1.424093   \n",
       "3                    150.88818            -2.109358        -1.141912   \n",
       "4                    150.69461            -2.109358        -0.724660   \n",
       "\n",
       "   elevator_pos_left_deg  ...  core_speed_avg_perc  \\\n",
       "0              -4.952854  ...             70.74118   \n",
       "1              -5.198349  ...             70.71775   \n",
       "2              -4.830105  ...             70.70276   \n",
       "3              -4.625526  ...             70.74159   \n",
       "4              -4.400490  ...             70.57045   \n",
       "\n",
       "   total_pressure_lsp_millibar  pitch_angle_lsp_deg  roll_angle_lsp_deg  \\\n",
       "0                    985.42550            -3.662262            0.785912   \n",
       "1                    985.52030            -3.665276            0.046774   \n",
       "2                    985.41650            -3.940319            0.804820   \n",
       "3                    984.81710            -4.275129            1.077102   \n",
       "4                    985.23065            -4.241483            1.654806   \n",
       "\n",
       "   rudder_pos_deg  true_heading_lsp_deg  vertical_accel_g  wind_speed_knots  \\\n",
       "0       -0.390141             -1.081870          0.972379         12.625183   \n",
       "1       -0.756234             -0.704820          0.770077         11.893839   \n",
       "2       -1.325632             -0.240446          0.543937         12.559112   \n",
       "3       -0.326884             -0.191627          1.062817         10.542998   \n",
       "4        0.129545             -0.528425          0.867628          9.713539   \n",
       "\n",
       "   label  record_identifier  \n",
       "0    0.0                0_0  \n",
       "1    0.0                0_1  \n",
       "2    0.0                0_2  \n",
       "3    0.0                0_3  \n",
       "4    0.0                0_4  \n",
       "\n",
       "[5 rows x 24 columns]"
      ]
     },
     "execution_count": 30,
     "metadata": {},
     "output_type": "execute_result"
    }
   ],
   "source": [
    "\n",
    "df[\"record_identifier\"] = df[\"sample_id\"].astype(str) + \"_\" + df[\"time_step\"].astype(str)\n",
    "\n",
    "df[\"time_step\"] = df[\"time_step\"].astype(float)\n",
    "df.head()"
   ]
  },
  {
   "cell_type": "markdown",
   "id": "86f028b8-b797-4e15-a4e4-c4058e9cf5b3",
   "metadata": {},
   "source": [
    "## Feature Store"
   ]
  },
  {
   "cell_type": "code",
   "execution_count": 31,
   "id": "daf0fea2-5e0c-4f3b-8ed9-ed749fd72c47",
   "metadata": {},
   "outputs": [],
   "source": [
    "from sagemaker.feature_store.feature_group import FeatureGroup\n",
    "from time import gmtime, strftime, sleep\n",
    "from sagemaker.session import Session\n",
    "\n",
    "boto_session = boto3.Session(region_name=region)\n",
    "\n",
    "sagemaker_client = boto_session.client(service_name=\"sagemaker\", region_name=region)\n",
    "featurestore_runtime = boto_session.client(\n",
    "    service_name=\"sagemaker-featurestore-runtime\", region_name=region\n",
    ")\n",
    "\n",
    "record_identifer_feature_name = 'record_identifier'\n",
    "event_time_feature_name = 'time_step'\n",
    "\n",
    "feature_store_session = Session(\n",
    "    boto_session=boto_session,\n",
    "    sagemaker_client=sagemaker_client,\n",
    "    sagemaker_featurestore_runtime_client=featurestore_runtime,\n",
    ")\n",
    "\n",
    "flight_feature_group_name = \"flightfeature-group-\" + strftime(\"%d-%H-%M-%S\", gmtime())\n",
    "flight_feature_group = FeatureGroup(name=flight_feature_group_name, sagemaker_session=feature_store_session\n",
    "                                     )"
   ]
  },
  {
   "cell_type": "code",
   "execution_count": 32,
   "id": "29a123a0-306f-473a-b4bf-7cca7df5f62c",
   "metadata": {},
   "outputs": [
    {
     "data": {
      "text/html": [
       "<div>\n",
       "<style scoped>\n",
       "    .dataframe tbody tr th:only-of-type {\n",
       "        vertical-align: middle;\n",
       "    }\n",
       "\n",
       "    .dataframe tbody tr th {\n",
       "        vertical-align: top;\n",
       "    }\n",
       "\n",
       "    .dataframe thead th {\n",
       "        text-align: right;\n",
       "    }\n",
       "</style>\n",
       "<table border=\"1\" class=\"dataframe\">\n",
       "  <thead>\n",
       "    <tr style=\"text-align: right;\">\n",
       "      <th></th>\n",
       "      <th>sample_id</th>\n",
       "      <th>time_step</th>\n",
       "      <th>aileron_pos_lh_deg</th>\n",
       "      <th>aileron_pos_rh_deg</th>\n",
       "      <th>corrected_angle_of_attack_deg</th>\n",
       "      <th>baro_correct_alt_lsp_ft</th>\n",
       "      <th>computed_airspeed_lsp_knots</th>\n",
       "      <th>selected_course_deg</th>\n",
       "      <th>drift_angle_deg</th>\n",
       "      <th>elevator_pos_left_deg</th>\n",
       "      <th>...</th>\n",
       "      <th>core_speed_avg_perc</th>\n",
       "      <th>total_pressure_lsp_millibar</th>\n",
       "      <th>pitch_angle_lsp_deg</th>\n",
       "      <th>roll_angle_lsp_deg</th>\n",
       "      <th>rudder_pos_deg</th>\n",
       "      <th>true_heading_lsp_deg</th>\n",
       "      <th>vertical_accel_g</th>\n",
       "      <th>wind_speed_knots</th>\n",
       "      <th>label</th>\n",
       "      <th>record_identifier</th>\n",
       "    </tr>\n",
       "  </thead>\n",
       "  <tbody>\n",
       "    <tr>\n",
       "      <th>0</th>\n",
       "      <td>0</td>\n",
       "      <td>0.0</td>\n",
       "      <td>81.261190</td>\n",
       "      <td>82.652336</td>\n",
       "      <td>-8.111792</td>\n",
       "      <td>1969.6174</td>\n",
       "      <td>155.57140</td>\n",
       "      <td>-2.109358</td>\n",
       "      <td>-0.692778</td>\n",
       "      <td>-4.952854</td>\n",
       "      <td>...</td>\n",
       "      <td>70.74118</td>\n",
       "      <td>985.42550</td>\n",
       "      <td>-3.662262</td>\n",
       "      <td>0.785912</td>\n",
       "      <td>-0.390141</td>\n",
       "      <td>-1.081870</td>\n",
       "      <td>0.972379</td>\n",
       "      <td>12.625183</td>\n",
       "      <td>0.0</td>\n",
       "      <td>0_0</td>\n",
       "    </tr>\n",
       "    <tr>\n",
       "      <th>1</th>\n",
       "      <td>0</td>\n",
       "      <td>1.0</td>\n",
       "      <td>79.604095</td>\n",
       "      <td>81.015700</td>\n",
       "      <td>-7.644611</td>\n",
       "      <td>1955.6995</td>\n",
       "      <td>154.51205</td>\n",
       "      <td>-2.109358</td>\n",
       "      <td>-0.867216</td>\n",
       "      <td>-5.198349</td>\n",
       "      <td>...</td>\n",
       "      <td>70.71775</td>\n",
       "      <td>985.52030</td>\n",
       "      <td>-3.665276</td>\n",
       "      <td>0.046774</td>\n",
       "      <td>-0.756234</td>\n",
       "      <td>-0.704820</td>\n",
       "      <td>0.770077</td>\n",
       "      <td>11.893839</td>\n",
       "      <td>0.0</td>\n",
       "      <td>0_1</td>\n",
       "    </tr>\n",
       "    <tr>\n",
       "      <th>2</th>\n",
       "      <td>0</td>\n",
       "      <td>2.0</td>\n",
       "      <td>81.302110</td>\n",
       "      <td>80.770200</td>\n",
       "      <td>-7.552573</td>\n",
       "      <td>1940.0267</td>\n",
       "      <td>153.32867</td>\n",
       "      <td>-2.109358</td>\n",
       "      <td>-1.424093</td>\n",
       "      <td>-4.830105</td>\n",
       "      <td>...</td>\n",
       "      <td>70.70276</td>\n",
       "      <td>985.41650</td>\n",
       "      <td>-3.940319</td>\n",
       "      <td>0.804820</td>\n",
       "      <td>-1.325632</td>\n",
       "      <td>-0.240446</td>\n",
       "      <td>0.543937</td>\n",
       "      <td>12.559112</td>\n",
       "      <td>0.0</td>\n",
       "      <td>0_2</td>\n",
       "    </tr>\n",
       "    <tr>\n",
       "      <th>3</th>\n",
       "      <td>0</td>\n",
       "      <td>3.0</td>\n",
       "      <td>82.345470</td>\n",
       "      <td>83.900276</td>\n",
       "      <td>-8.395265</td>\n",
       "      <td>1924.5493</td>\n",
       "      <td>150.88818</td>\n",
       "      <td>-2.109358</td>\n",
       "      <td>-1.141912</td>\n",
       "      <td>-4.625526</td>\n",
       "      <td>...</td>\n",
       "      <td>70.74159</td>\n",
       "      <td>984.81710</td>\n",
       "      <td>-4.275129</td>\n",
       "      <td>1.077102</td>\n",
       "      <td>-0.326884</td>\n",
       "      <td>-0.191627</td>\n",
       "      <td>1.062817</td>\n",
       "      <td>10.542998</td>\n",
       "      <td>0.0</td>\n",
       "      <td>0_3</td>\n",
       "    </tr>\n",
       "    <tr>\n",
       "      <th>4</th>\n",
       "      <td>0</td>\n",
       "      <td>4.0</td>\n",
       "      <td>81.874930</td>\n",
       "      <td>82.754620</td>\n",
       "      <td>-7.854284</td>\n",
       "      <td>1905.3670</td>\n",
       "      <td>150.69461</td>\n",
       "      <td>-2.109358</td>\n",
       "      <td>-0.724660</td>\n",
       "      <td>-4.400490</td>\n",
       "      <td>...</td>\n",
       "      <td>70.57045</td>\n",
       "      <td>985.23065</td>\n",
       "      <td>-4.241483</td>\n",
       "      <td>1.654806</td>\n",
       "      <td>0.129545</td>\n",
       "      <td>-0.528425</td>\n",
       "      <td>0.867628</td>\n",
       "      <td>9.713539</td>\n",
       "      <td>0.0</td>\n",
       "      <td>0_4</td>\n",
       "    </tr>\n",
       "  </tbody>\n",
       "</table>\n",
       "<p>5 rows × 24 columns</p>\n",
       "</div>"
      ],
      "text/plain": [
       "   sample_id  time_step  aileron_pos_lh_deg  aileron_pos_rh_deg  \\\n",
       "0          0        0.0           81.261190           82.652336   \n",
       "1          0        1.0           79.604095           81.015700   \n",
       "2          0        2.0           81.302110           80.770200   \n",
       "3          0        3.0           82.345470           83.900276   \n",
       "4          0        4.0           81.874930           82.754620   \n",
       "\n",
       "   corrected_angle_of_attack_deg  baro_correct_alt_lsp_ft  \\\n",
       "0                      -8.111792                1969.6174   \n",
       "1                      -7.644611                1955.6995   \n",
       "2                      -7.552573                1940.0267   \n",
       "3                      -8.395265                1924.5493   \n",
       "4                      -7.854284                1905.3670   \n",
       "\n",
       "   computed_airspeed_lsp_knots  selected_course_deg  drift_angle_deg  \\\n",
       "0                    155.57140            -2.109358        -0.692778   \n",
       "1                    154.51205            -2.109358        -0.867216   \n",
       "2                    153.32867            -2.109358        -1.424093   \n",
       "3                    150.88818            -2.109358        -1.141912   \n",
       "4                    150.69461            -2.109358        -0.724660   \n",
       "\n",
       "   elevator_pos_left_deg  ...  core_speed_avg_perc  \\\n",
       "0              -4.952854  ...             70.74118   \n",
       "1              -5.198349  ...             70.71775   \n",
       "2              -4.830105  ...             70.70276   \n",
       "3              -4.625526  ...             70.74159   \n",
       "4              -4.400490  ...             70.57045   \n",
       "\n",
       "   total_pressure_lsp_millibar  pitch_angle_lsp_deg  roll_angle_lsp_deg  \\\n",
       "0                    985.42550            -3.662262            0.785912   \n",
       "1                    985.52030            -3.665276            0.046774   \n",
       "2                    985.41650            -3.940319            0.804820   \n",
       "3                    984.81710            -4.275129            1.077102   \n",
       "4                    985.23065            -4.241483            1.654806   \n",
       "\n",
       "   rudder_pos_deg  true_heading_lsp_deg  vertical_accel_g  wind_speed_knots  \\\n",
       "0       -0.390141             -1.081870          0.972379         12.625183   \n",
       "1       -0.756234             -0.704820          0.770077         11.893839   \n",
       "2       -1.325632             -0.240446          0.543937         12.559112   \n",
       "3       -0.326884             -0.191627          1.062817         10.542998   \n",
       "4        0.129545             -0.528425          0.867628          9.713539   \n",
       "\n",
       "   label  record_identifier  \n",
       "0    0.0                0_0  \n",
       "1    0.0                0_1  \n",
       "2    0.0                0_2  \n",
       "3    0.0                0_3  \n",
       "4    0.0                0_4  \n",
       "\n",
       "[5 rows x 24 columns]"
      ]
     },
     "execution_count": 32,
     "metadata": {},
     "output_type": "execute_result"
    }
   ],
   "source": [
    "df.head()"
   ]
  },
  {
   "cell_type": "code",
   "execution_count": 33,
   "id": "a995587e-ad5f-4315-8bf1-dc59fc98a8ea",
   "metadata": {},
   "outputs": [
    {
     "data": {
      "text/plain": [
       "[FeatureDefinition(feature_name='sample_id', feature_type=<FeatureTypeEnum.INTEGRAL: 'Integral'>, collection_type=None),\n",
       " FeatureDefinition(feature_name='time_step', feature_type=<FeatureTypeEnum.FRACTIONAL: 'Fractional'>, collection_type=None),\n",
       " FeatureDefinition(feature_name='aileron_pos_lh_deg', feature_type=<FeatureTypeEnum.FRACTIONAL: 'Fractional'>, collection_type=None),\n",
       " FeatureDefinition(feature_name='aileron_pos_rh_deg', feature_type=<FeatureTypeEnum.FRACTIONAL: 'Fractional'>, collection_type=None),\n",
       " FeatureDefinition(feature_name='corrected_angle_of_attack_deg', feature_type=<FeatureTypeEnum.FRACTIONAL: 'Fractional'>, collection_type=None),\n",
       " FeatureDefinition(feature_name='baro_correct_alt_lsp_ft', feature_type=<FeatureTypeEnum.FRACTIONAL: 'Fractional'>, collection_type=None),\n",
       " FeatureDefinition(feature_name='computed_airspeed_lsp_knots', feature_type=<FeatureTypeEnum.FRACTIONAL: 'Fractional'>, collection_type=None),\n",
       " FeatureDefinition(feature_name='selected_course_deg', feature_type=<FeatureTypeEnum.FRACTIONAL: 'Fractional'>, collection_type=None),\n",
       " FeatureDefinition(feature_name='drift_angle_deg', feature_type=<FeatureTypeEnum.FRACTIONAL: 'Fractional'>, collection_type=None),\n",
       " FeatureDefinition(feature_name='elevator_pos_left_deg', feature_type=<FeatureTypeEnum.FRACTIONAL: 'Fractional'>, collection_type=None),\n",
       " FeatureDefinition(feature_name='te_flap_pos_disc', feature_type=<FeatureTypeEnum.FRACTIONAL: 'Fractional'>, collection_type=None),\n",
       " FeatureDefinition(feature_name='glideslope_dev_perc', feature_type=<FeatureTypeEnum.FRACTIONAL: 'Fractional'>, collection_type=None),\n",
       " FeatureDefinition(feature_name='selected_heading_deg', feature_type=<FeatureTypeEnum.FRACTIONAL: 'Fractional'>, collection_type=None),\n",
       " FeatureDefinition(feature_name='localizer_dev_perc', feature_type=<FeatureTypeEnum.FRACTIONAL: 'Fractional'>, collection_type=None),\n",
       " FeatureDefinition(feature_name='core_speed_avg_perc', feature_type=<FeatureTypeEnum.FRACTIONAL: 'Fractional'>, collection_type=None),\n",
       " FeatureDefinition(feature_name='total_pressure_lsp_millibar', feature_type=<FeatureTypeEnum.FRACTIONAL: 'Fractional'>, collection_type=None),\n",
       " FeatureDefinition(feature_name='pitch_angle_lsp_deg', feature_type=<FeatureTypeEnum.FRACTIONAL: 'Fractional'>, collection_type=None),\n",
       " FeatureDefinition(feature_name='roll_angle_lsp_deg', feature_type=<FeatureTypeEnum.FRACTIONAL: 'Fractional'>, collection_type=None),\n",
       " FeatureDefinition(feature_name='rudder_pos_deg', feature_type=<FeatureTypeEnum.FRACTIONAL: 'Fractional'>, collection_type=None),\n",
       " FeatureDefinition(feature_name='true_heading_lsp_deg', feature_type=<FeatureTypeEnum.FRACTIONAL: 'Fractional'>, collection_type=None),\n",
       " FeatureDefinition(feature_name='vertical_accel_g', feature_type=<FeatureTypeEnum.FRACTIONAL: 'Fractional'>, collection_type=None),\n",
       " FeatureDefinition(feature_name='wind_speed_knots', feature_type=<FeatureTypeEnum.FRACTIONAL: 'Fractional'>, collection_type=None),\n",
       " FeatureDefinition(feature_name='label', feature_type=<FeatureTypeEnum.FRACTIONAL: 'Fractional'>, collection_type=None),\n",
       " FeatureDefinition(feature_name='record_identifier', feature_type=<FeatureTypeEnum.STRING: 'String'>, collection_type=None)]"
      ]
     },
     "execution_count": 33,
     "metadata": {},
     "output_type": "execute_result"
    }
   ],
   "source": [
    "flight_feature_group.load_feature_definitions(data_frame=df)"
   ]
  },
  {
   "cell_type": "markdown",
   "id": "fa73b0fe-b882-4ebe-a27e-002d92482a3c",
   "metadata": {},
   "source": [
    "### Creation of FeatureGroups in SageMaker FeatureStore"
   ]
  },
  {
   "cell_type": "code",
   "execution_count": 34,
   "id": "eac4b50b-12e0-4dcf-a868-066e4d999701",
   "metadata": {},
   "outputs": [
    {
     "name": "stdout",
     "output_type": "stream",
     "text": [
      "Waiting for Feature Group Creation\n",
      "Waiting for Feature Group Creation\n",
      "Waiting for Feature Group Creation\n",
      "Waiting for Feature Group Creation\n",
      "FeatureGroup flightfeature-group-31-02-10-56 successfully created.\n"
     ]
    }
   ],
   "source": [
    "import time\n",
    "\n",
    "def wait_for_feature_group_creation_complete(feature_group):\n",
    "    status = feature_group.describe().get(\"FeatureGroupStatus\")\n",
    "    while status == \"Creating\":\n",
    "        print(\"Waiting for Feature Group Creation\")\n",
    "        time.sleep(5)\n",
    "        status = feature_group.describe().get(\"FeatureGroupStatus\")\n",
    "    if status != \"Created\":\n",
    "        raise RuntimeError(f\"Failed to create feature group {feature_group.name}\")\n",
    "    print(f\"FeatureGroup {feature_group.name} successfully created.\")\n",
    "\n",
    "\n",
    "flight_feature_group.create(\n",
    "    s3_uri=f\"s3://{bucket}/feature_group\",\n",
    "    record_identifier_name=record_identifer_feature_name,\n",
    "    event_time_feature_name=event_time_feature_name,\n",
    "    role_arn=role,\n",
    "    enable_online_store=True,\n",
    ")\n",
    "\n",
    "\n",
    "wait_for_feature_group_creation_complete(feature_group=flight_feature_group)"
   ]
  },
  {
   "cell_type": "code",
   "execution_count": 35,
   "id": "58ff2221-bf4e-4a2e-8e2b-7d3870774eee",
   "metadata": {},
   "outputs": [
    {
     "data": {
      "text/plain": [
       "{'FeatureGroupArn': 'arn:aws:sagemaker:us-east-1:817854913925:feature-group/flightfeature-group-31-02-10-56',\n",
       " 'FeatureGroupName': 'flightfeature-group-31-02-10-56',\n",
       " 'RecordIdentifierFeatureName': 'record_identifier',\n",
       " 'EventTimeFeatureName': 'time_step',\n",
       " 'FeatureDefinitions': [{'FeatureName': 'sample_id',\n",
       "   'FeatureType': 'Integral'},\n",
       "  {'FeatureName': 'time_step', 'FeatureType': 'Fractional'},\n",
       "  {'FeatureName': 'aileron_pos_lh_deg', 'FeatureType': 'Fractional'},\n",
       "  {'FeatureName': 'aileron_pos_rh_deg', 'FeatureType': 'Fractional'},\n",
       "  {'FeatureName': 'corrected_angle_of_attack_deg',\n",
       "   'FeatureType': 'Fractional'},\n",
       "  {'FeatureName': 'baro_correct_alt_lsp_ft', 'FeatureType': 'Fractional'},\n",
       "  {'FeatureName': 'computed_airspeed_lsp_knots', 'FeatureType': 'Fractional'},\n",
       "  {'FeatureName': 'selected_course_deg', 'FeatureType': 'Fractional'},\n",
       "  {'FeatureName': 'drift_angle_deg', 'FeatureType': 'Fractional'},\n",
       "  {'FeatureName': 'elevator_pos_left_deg', 'FeatureType': 'Fractional'},\n",
       "  {'FeatureName': 'te_flap_pos_disc', 'FeatureType': 'Fractional'},\n",
       "  {'FeatureName': 'glideslope_dev_perc', 'FeatureType': 'Fractional'},\n",
       "  {'FeatureName': 'selected_heading_deg', 'FeatureType': 'Fractional'},\n",
       "  {'FeatureName': 'localizer_dev_perc', 'FeatureType': 'Fractional'},\n",
       "  {'FeatureName': 'core_speed_avg_perc', 'FeatureType': 'Fractional'},\n",
       "  {'FeatureName': 'total_pressure_lsp_millibar', 'FeatureType': 'Fractional'},\n",
       "  {'FeatureName': 'pitch_angle_lsp_deg', 'FeatureType': 'Fractional'},\n",
       "  {'FeatureName': 'roll_angle_lsp_deg', 'FeatureType': 'Fractional'},\n",
       "  {'FeatureName': 'rudder_pos_deg', 'FeatureType': 'Fractional'},\n",
       "  {'FeatureName': 'true_heading_lsp_deg', 'FeatureType': 'Fractional'},\n",
       "  {'FeatureName': 'vertical_accel_g', 'FeatureType': 'Fractional'},\n",
       "  {'FeatureName': 'wind_speed_knots', 'FeatureType': 'Fractional'},\n",
       "  {'FeatureName': 'label', 'FeatureType': 'Fractional'},\n",
       "  {'FeatureName': 'record_identifier', 'FeatureType': 'String'}],\n",
       " 'CreationTime': datetime.datetime(2025, 1, 31, 2, 10, 57, 185000, tzinfo=tzlocal()),\n",
       " 'OnlineStoreConfig': {'EnableOnlineStore': True},\n",
       " 'OfflineStoreConfig': {'S3StorageConfig': {'S3Uri': 's3://flightfinalapproachanomalydetection/feature_group',\n",
       "   'ResolvedOutputS3Uri': 's3://flightfinalapproachanomalydetection/feature_group/817854913925/sagemaker/us-east-1/offline-store/flightfeature-group-31-02-10-56-1738289457/data'},\n",
       "  'DisableGlueTableCreation': False,\n",
       "  'DataCatalogConfig': {'TableName': 'flightfeature_group_31_02_10_56_1738289457',\n",
       "   'Catalog': 'AwsDataCatalog',\n",
       "   'Database': 'sagemaker_featurestore'}},\n",
       " 'ThroughputConfig': {'ThroughputMode': 'OnDemand'},\n",
       " 'RoleArn': 'arn:aws:iam::817854913925:role/LabRole',\n",
       " 'FeatureGroupStatus': 'Created',\n",
       " 'OnlineStoreTotalSizeBytes': 0,\n",
       " 'ResponseMetadata': {'RequestId': 'cdddbd6f-39a8-405d-9b54-1d869d6a883f',\n",
       "  'HTTPStatusCode': 200,\n",
       "  'HTTPHeaders': {'x-amzn-requestid': 'cdddbd6f-39a8-405d-9b54-1d869d6a883f',\n",
       "   'content-type': 'application/x-amz-json-1.1',\n",
       "   'content-length': '2983',\n",
       "   'date': 'Fri, 31 Jan 2025 02:11:18 GMT'},\n",
       "  'RetryAttempts': 0}}"
      ]
     },
     "execution_count": 35,
     "metadata": {},
     "output_type": "execute_result"
    }
   ],
   "source": [
    "flight_feature_group.describe()"
   ]
  },
  {
   "cell_type": "code",
   "execution_count": 36,
   "id": "cf6569ef-ce3c-463c-b556-e3a17fc39c1e",
   "metadata": {},
   "outputs": [
    {
     "data": {
      "text/plain": [
       "{'FeatureGroupSummaries': [{'FeatureGroupName': 'neighborhood-feature-group-26-05-02-41',\n",
       "   'FeatureGroupArn': 'arn:aws:sagemaker:us-east-1:817854913925:feature-group/neighborhood-feature-group-26-05-02-41',\n",
       "   'CreationTime': datetime.datetime(2025, 1, 26, 5, 2, 52, 140000, tzinfo=tzlocal()),\n",
       "   'FeatureGroupStatus': 'Created',\n",
       "   'OfflineStoreStatus': {'Status': 'Active'}},\n",
       "  {'FeatureGroupName': 'neighborhood-feature-group-26-04-11-14',\n",
       "   'FeatureGroupArn': 'arn:aws:sagemaker:us-east-1:817854913925:feature-group/neighborhood-feature-group-26-04-11-14',\n",
       "   'CreationTime': datetime.datetime(2025, 1, 26, 4, 11, 18, 797000, tzinfo=tzlocal()),\n",
       "   'FeatureGroupStatus': 'Created'},\n",
       "  {'FeatureGroupName': 'flightfeature-group-31-02-10-56',\n",
       "   'FeatureGroupArn': 'arn:aws:sagemaker:us-east-1:817854913925:feature-group/flightfeature-group-31-02-10-56',\n",
       "   'CreationTime': datetime.datetime(2025, 1, 31, 2, 10, 57, 185000, tzinfo=tzlocal()),\n",
       "   'FeatureGroupStatus': 'Created'},\n",
       "  {'FeatureGroupName': 'flightfeature-group-31-01-55-28',\n",
       "   'FeatureGroupArn': 'arn:aws:sagemaker:us-east-1:817854913925:feature-group/flightfeature-group-31-01-55-28',\n",
       "   'CreationTime': datetime.datetime(2025, 1, 31, 1, 55, 32, 288000, tzinfo=tzlocal()),\n",
       "   'FeatureGroupStatus': 'Created'}],\n",
       " 'ResponseMetadata': {'RequestId': 'a566d89d-610b-4e6c-bccf-716787accd46',\n",
       "  'HTTPStatusCode': 200,\n",
       "  'HTTPHeaders': {'x-amzn-requestid': 'a566d89d-610b-4e6c-bccf-716787accd46',\n",
       "   'content-type': 'application/x-amz-json-1.1',\n",
       "   'content-length': '995',\n",
       "   'date': 'Fri, 31 Jan 2025 02:11:18 GMT'},\n",
       "  'RetryAttempts': 0}}"
      ]
     },
     "execution_count": 36,
     "metadata": {},
     "output_type": "execute_result"
    }
   ],
   "source": [
    "sagemaker_client.list_feature_groups() "
   ]
  },
  {
   "cell_type": "code",
   "execution_count": null,
   "id": "5639fdf9-2316-4578-907b-d461a5b2d97a",
   "metadata": {},
   "outputs": [],
   "source": [
    "flight_feature_group.ingest(data_frame=df, max_workers=5, wait=True)"
   ]
  },
  {
   "cell_type": "code",
   "execution_count": null,
   "id": "1bffc92e-2bcf-4d9c-9bb4-b662dcbfe5c7",
   "metadata": {},
   "outputs": [],
   "source": [
    "feats_to_quer = ['0_0','0_150']\n",
    "\n",
    "for val in feats_to_quer:\n",
    "    record_identifier_value = val\n",
    "    \n",
    "    response = featurestore_runtime.get_record(\n",
    "        FeatureGroupName=neighborhood_feature_group_name,\n",
    "        RecordIdentifierValueAsString=record_identifier_value,\n",
    "    )\n",
    "    \n",
    "    if 'Record' in response and response['Record']:\n",
    "        print(\"Record\",val,\"found:\")\n",
    "        for feature in response['Record']:\n",
    "            print(f\"{feature['FeatureName']}: {feature['ValueAsString']}\")\n",
    "        print(\"\\n\\n\")\n",
    "    else:\n",
    "        print(\"Record\",val,\"not found.\")\n",
    "        print(\"\\n\\n\")\n"
   ]
  },
  {
   "cell_type": "code",
   "execution_count": null,
   "id": "848e14d0-be66-401f-b074-9f225b8eed5f",
   "metadata": {},
   "outputs": [],
   "source": []
  },
  {
   "cell_type": "code",
   "execution_count": null,
   "id": "ff02e5bb-c6c2-4460-b678-aaecc0595da3",
   "metadata": {},
   "outputs": [],
   "source": []
  },
  {
   "cell_type": "code",
   "execution_count": null,
   "id": "22e2aa4b-1292-4188-8a74-4013e579e049",
   "metadata": {},
   "outputs": [],
   "source": []
  },
  {
   "cell_type": "code",
   "execution_count": null,
   "id": "52d8dd36-1261-4bcd-8fe5-5431742c65b8",
   "metadata": {},
   "outputs": [],
   "source": []
  }
 ],
 "metadata": {
  "kernelspec": {
   "display_name": "Python 3 (ipykernel)",
   "language": "python",
   "name": "python3"
  },
  "language_info": {
   "codemirror_mode": {
    "name": "ipython",
    "version": 3
   },
   "file_extension": ".py",
   "mimetype": "text/x-python",
   "name": "python",
   "nbconvert_exporter": "python",
   "pygments_lexer": "ipython3",
   "version": "3.11.11"
  }
 },
 "nbformat": 4,
 "nbformat_minor": 5
}
