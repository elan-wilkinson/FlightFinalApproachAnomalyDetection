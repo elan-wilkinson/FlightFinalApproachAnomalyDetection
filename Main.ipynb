{
 "cells": [
  {
   "cell_type": "markdown",
   "id": "158154ae-6cb1-43ed-8e05-6d7b05dca08a",
   "metadata": {},
   "source": [
    "## Setup Dependencies"
   ]
  },
  {
   "cell_type": "code",
   "execution_count": 1,
   "id": "8b2c5a79-11c3-4443-ab25-76566f5f8c3c",
   "metadata": {},
   "outputs": [],
   "source": [
    "!pip install --disable-pip-version-check -q pip --upgrade > /dev/null\n",
    "!pip install --disable-pip-version-check -q wrapt --upgrade > /dev/null"
   ]
  },
  {
   "cell_type": "markdown",
   "id": "6aed348f-7b4f-4be6-b272-b5659d4eb33e",
   "metadata": {},
   "source": [
    "### AWS CLI and AWS Python SDK (boto3)"
   ]
  },
  {
   "cell_type": "code",
   "execution_count": 2,
   "id": "282b849a-c6ce-48db-8ec0-db60caf117f1",
   "metadata": {},
   "outputs": [],
   "source": [
    "!pip install --disable-pip-version-check -q awscli boto3"
   ]
  },
  {
   "cell_type": "markdown",
   "id": "84bd363c-32e2-4fa8-ae9c-cd99571979ba",
   "metadata": {},
   "source": [
    "### SageMaker"
   ]
  },
  {
   "cell_type": "code",
   "execution_count": 3,
   "id": "96a7b4f8-73ba-4fb0-b737-e8147de47c65",
   "metadata": {},
   "outputs": [],
   "source": [
    "!pip install --disable-pip-version-check -q sagemaker\n",
    "!pip install --disable-pip-version-check -q smdebug\n",
    "!pip install --disable-pip-version-check -q sagemaker-experiments"
   ]
  },
  {
   "cell_type": "markdown",
   "id": "66b6e794-9b81-417d-8fe9-71bbaccb779c",
   "metadata": {},
   "source": [
    "### PyAthena"
   ]
  },
  {
   "cell_type": "code",
   "execution_count": 4,
   "id": "3dafd863-a8e4-4666-988f-82e86c9c764a",
   "metadata": {},
   "outputs": [],
   "source": [
    "!pip install --disable-pip-version-check -q PyAthena"
   ]
  },
  {
   "cell_type": "markdown",
   "id": "c3ef557d-110a-4a58-b8a3-534c033d71bc",
   "metadata": {},
   "source": [
    "### AWS Data Wrangler"
   ]
  },
  {
   "cell_type": "code",
   "execution_count": 5,
   "id": "e236d569-b595-45ab-b3af-13e170a86960",
   "metadata": {},
   "outputs": [],
   "source": [
    "!pip install --disable-pip-version-check -q awswrangler"
   ]
  },
  {
   "cell_type": "markdown",
   "id": "1989a320-ceeb-42c7-807d-47078f909c3b",
   "metadata": {},
   "source": [
    "### Zip"
   ]
  },
  {
   "cell_type": "code",
   "execution_count": 6,
   "id": "6ff800ee-847f-465c-b702-7ff7a479a9bb",
   "metadata": {},
   "outputs": [
    {
     "name": "stdout",
     "output_type": "stream",
     "text": [
      "Channels:\n",
      " - conda-forge\n",
      "Platform: linux-64\n",
      "Collecting package metadata (repodata.json): done\n",
      "Solving environment: done\n",
      "\n",
      "# All requested packages already installed.\n",
      "\n"
     ]
    }
   ],
   "source": [
    "!conda install -y zip"
   ]
  },
  {
   "cell_type": "markdown",
   "id": "a70ed85d-25a1-4c30-a0ba-838bd278a775",
   "metadata": {},
   "source": [
    "### Matplotlib"
   ]
  },
  {
   "cell_type": "code",
   "execution_count": 7,
   "id": "50ad36a6-a84e-454a-88c7-4c0fa3550af4",
   "metadata": {},
   "outputs": [],
   "source": [
    "!pip install --disable-pip-version-check -q matplotlib"
   ]
  },
  {
   "cell_type": "markdown",
   "id": "fa497ad0-cf1c-4afb-95ef-8de690f1bd0e",
   "metadata": {},
   "source": [
    "### Seaborn"
   ]
  },
  {
   "cell_type": "code",
   "execution_count": 8,
   "id": "495758de-3817-492d-9715-36434fd22a38",
   "metadata": {},
   "outputs": [],
   "source": [
    "!pip install --disable-pip-version-check -q seaborn"
   ]
  },
  {
   "cell_type": "markdown",
   "id": "28453334-b5b1-492d-8954-f3ac2fc1418d",
   "metadata": {},
   "source": [
    "## Data lake Setup"
   ]
  },
  {
   "cell_type": "code",
   "execution_count": 9,
   "id": "6543ad71-d894-4ff7-a3ea-75d2a4e58834",
   "metadata": {},
   "outputs": [
    {
     "name": "stdout",
     "output_type": "stream",
     "text": [
      "sagemaker.config INFO - Not applying SDK defaults from location: /etc/xdg/sagemaker/config.yaml\n",
      "sagemaker.config INFO - Not applying SDK defaults from location: /home/sagemaker-user/.config/sagemaker/config.yaml\n",
      "Bucket name: flightfinalapproachanomalydetection\n"
     ]
    }
   ],
   "source": [
    "import boto3\n",
    "import sagemaker\n",
    "\n",
    "session = boto3.session.Session()\n",
    "region = session.region_name\n",
    "sagemaker_session = sagemaker.Session()\n",
    "bucket = 'flightfinalapproachanomalydetection'#'sagemaker-us-east-1-817854913925' #sagemaker_session.default_bucket()\n",
    "\n",
    "s3 = boto3.Session().client(service_name=\"s3\", region_name=region)\n",
    "\n",
    "print(\"Bucket name: {}\".format(bucket))"
   ]
  },
  {
   "cell_type": "markdown",
   "id": "cd2f7efe-0713-4ec9-bfc9-6eb91a86d7b9",
   "metadata": {},
   "source": [
    "### Verify Bucket Creation"
   ]
  },
  {
   "cell_type": "code",
   "execution_count": 10,
   "id": "02da2344-383a-4d9e-a45f-04e84d6d3be1",
   "metadata": {},
   "outputs": [
    {
     "name": "stdout",
     "output_type": "stream",
     "text": [
      "{'ResponseMetadata': {'RequestId': 'M6HB5XKYFC2JBQYM', 'HostId': 'sTxybdIuY5xgekwQ/4nIp4R9LpZf8fkcPedNr1rkaHKLsjraTHZv1UQFaZjERNb8LZi+V+k0qw4=', 'HTTPStatusCode': 200, 'HTTPHeaders': {'x-amz-id-2': 'sTxybdIuY5xgekwQ/4nIp4R9LpZf8fkcPedNr1rkaHKLsjraTHZv1UQFaZjERNb8LZi+V+k0qw4=', 'x-amz-request-id': 'M6HB5XKYFC2JBQYM', 'date': 'Tue, 21 Jan 2025 03:37:35 GMT', 'x-amz-bucket-region': 'us-east-1', 'x-amz-access-point-alias': 'false', 'content-type': 'application/xml', 'transfer-encoding': 'chunked', 'server': 'AmazonS3'}, 'RetryAttempts': 0}, 'BucketRegion': 'us-east-1', 'AccessPointAlias': False}\n"
     ]
    }
   ],
   "source": [
    "from botocore.client import ClientError\n",
    "\n",
    "response = None\n",
    "try:\n",
    "    response = s3.head_bucket(Bucket=bucket)\n",
    "    print(response)\n",
    "    setup_s3_bucket_passed = True\n",
    "except ClientError as e: \n",
    "    print(\"[ERROR] Cannot find bucket {} in {} due to {}.\".format(bucket, response, e))"
   ]
  },
  {
   "cell_type": "code",
   "execution_count": 11,
   "id": "8365393e-4d0e-4e6e-aa98-17417be94b65",
   "metadata": {},
   "outputs": [],
   "source": [
    "role = sagemaker.get_execution_role()\n",
    "region = boto3.Session().region_name \n",
    "account_id = boto3.client(service_name=\"sagemaker\", region_name=region)"
   ]
  },
  {
   "cell_type": "code",
   "execution_count": 12,
   "id": "305cab40-c245-443f-a352-78d56ec962e6",
   "metadata": {},
   "outputs": [
    {
     "name": "stderr",
     "output_type": "stream",
     "text": [
      "/tmp/ipykernel_8957/88463448.py:1: DeprecationWarning: Importing display from IPython.core.display is deprecated since IPython 7.14, please import from IPython.display\n",
      "  from IPython.core.display import display, HTML\n"
     ]
    },
    {
     "data": {
      "text/html": [
       "<b>Review <a target=\"blank\" href=\"https://s3.console.aws.amazon.com/s3/buckets/flightfinalapproachanomalydetection/?region=us-east-1&tab=overview\">S3 Bucket</a></b>"
      ],
      "text/plain": [
       "<IPython.core.display.HTML object>"
      ]
     },
     "metadata": {},
     "output_type": "display_data"
    }
   ],
   "source": [
    "from IPython.core.display import display, HTML\n",
    "\n",
    "display(\n",
    "    HTML(\n",
    "        '<b>Review <a target=\"blank\" href=\"https://s3.console.aws.amazon.com/s3/buckets/flightfinalapproachanomalydetection/?region={}&tab=overview\">S3 Bucket</a></b>'.format(\n",
    "            region, account_id, region\n",
    "        )\n",
    "    )\n",
    ")"
   ]
  },
  {
   "cell_type": "markdown",
   "id": "fb7b64d7-669e-4951-a09d-95fedb97b0bd",
   "metadata": {},
   "source": [
    "## Create Athena Database Scheme\n",
    "### Import PyAthena"
   ]
  },
  {
   "cell_type": "code",
   "execution_count": 43,
   "id": "9eab820f-68d8-4139-9ac5-e8bb5bbb3f05",
   "metadata": {},
   "outputs": [],
   "source": [
    "from pyathena import connect"
   ]
  },
  {
   "cell_type": "code",
   "execution_count": 44,
   "id": "fe1baad6-1400-4b55-b9ae-f9b855e6bd5f",
   "metadata": {},
   "outputs": [],
   "source": [
    "table_name_csv = \"flight_csv_data\"\n",
    "s3_staging_dir = \"s3://{0}/athena/staging\".format(bucket)"
   ]
  },
  {
   "cell_type": "markdown",
   "id": "53ec6e18-b481-4322-af30-da80184b47d1",
   "metadata": {},
   "source": [
    "### Create Athena Database"
   ]
  },
  {
   "cell_type": "code",
   "execution_count": 45,
   "id": "0c9ec0f2-655e-416e-b36a-4ea0be8ec2e6",
   "metadata": {},
   "outputs": [],
   "source": [
    "database_name = \"flightdata_db\""
   ]
  },
  {
   "cell_type": "code",
   "execution_count": 46,
   "id": "b3c1afb3-bbdd-456d-b801-20d4a462023b",
   "metadata": {},
   "outputs": [],
   "source": [
    "s3_staging_dir = \"s3://{0}/athena/staging\".format(bucket)"
   ]
  },
  {
   "cell_type": "code",
   "execution_count": 47,
   "id": "e1f2c6b1-2b2e-4234-abb7-416aa4b084e2",
   "metadata": {},
   "outputs": [],
   "source": [
    "conn = connect(region_name=region, s3_staging_dir=s3_staging_dir)"
   ]
  },
  {
   "cell_type": "code",
   "execution_count": 50,
   "id": "13f9f71e-f0ef-4cdd-823e-59ed4b971c9b",
   "metadata": {},
   "outputs": [
    {
     "name": "stdout",
     "output_type": "stream",
     "text": [
      "CREATE DATABASE IF NOT EXISTS flightdata_db\n"
     ]
    }
   ],
   "source": [
    "statement = \"CREATE DATABASE IF NOT EXISTS {}\".format(database_name)\n",
    "print(statement)"
   ]
  },
  {
   "cell_type": "code",
   "execution_count": 51,
   "id": "bf9ef88f-6d7b-4642-8e5f-9ba37d64f201",
   "metadata": {},
   "outputs": [
    {
     "name": "stdout",
     "output_type": "stream",
     "text": [
      "Database created successfully\n"
     ]
    }
   ],
   "source": [
    "cursor = conn.cursor()\n",
    "cursor.execute(statement)\n",
    "print(\"Database created successfully\")\n"
   ]
  },
  {
   "cell_type": "code",
   "execution_count": 52,
   "id": "2536d68d-fbd1-4e54-b961-a8f7c20055aa",
   "metadata": {},
   "outputs": [
    {
     "name": "stderr",
     "output_type": "stream",
     "text": [
      "/tmp/ipykernel_8957/3999478089.py:3: UserWarning: pandas only supports SQLAlchemy connectable (engine/connection) or database string URI or sqlite3 DBAPI2 connection. Other DBAPI2 objects are not tested. Please consider using SQLAlchemy.\n",
      "  df_show = pd.read_sql(statement, conn)\n"
     ]
    },
    {
     "data": {
      "text/html": [
       "<div>\n",
       "<style scoped>\n",
       "    .dataframe tbody tr th:only-of-type {\n",
       "        vertical-align: middle;\n",
       "    }\n",
       "\n",
       "    .dataframe tbody tr th {\n",
       "        vertical-align: top;\n",
       "    }\n",
       "\n",
       "    .dataframe thead th {\n",
       "        text-align: right;\n",
       "    }\n",
       "</style>\n",
       "<table border=\"1\" class=\"dataframe\">\n",
       "  <thead>\n",
       "    <tr style=\"text-align: right;\">\n",
       "      <th></th>\n",
       "      <th>database_name</th>\n",
       "    </tr>\n",
       "  </thead>\n",
       "  <tbody>\n",
       "    <tr>\n",
       "      <th>0</th>\n",
       "      <td>assignment2_aws</td>\n",
       "    </tr>\n",
       "    <tr>\n",
       "      <th>1</th>\n",
       "      <td>default</td>\n",
       "    </tr>\n",
       "    <tr>\n",
       "      <th>2</th>\n",
       "      <td>dsoaws</td>\n",
       "    </tr>\n",
       "    <tr>\n",
       "      <th>3</th>\n",
       "      <td>flightdata_db</td>\n",
       "    </tr>\n",
       "  </tbody>\n",
       "</table>\n",
       "</div>"
      ],
      "text/plain": [
       "     database_name\n",
       "0  assignment2_aws\n",
       "1          default\n",
       "2           dsoaws\n",
       "3    flightdata_db"
      ]
     },
     "execution_count": 52,
     "metadata": {},
     "output_type": "execute_result"
    }
   ],
   "source": [
    "statement = \"SHOW DATABASES\"\n",
    "\n",
    "df_show = pd.read_sql(statement, conn)\n",
    "df_show.head(5)"
   ]
  },
  {
   "cell_type": "markdown",
   "id": "1489efc7-f7e9-4b36-879a-e4b1f521d75f",
   "metadata": {},
   "source": [
    "## Register CSV with Athena"
   ]
  },
  {
   "cell_type": "code",
   "execution_count": 53,
   "id": "40883fe5-6944-409f-9a07-ec64589474b5",
   "metadata": {},
   "outputs": [],
   "source": [
    "statement = \"\"\"CREATE EXTERNAL TABLE IF NOT EXISTS flightdata_db.flight_csv_data (\n",
    "        sample_id int,\n",
    "        timestep int,\n",
    "        aileron_pos_lh_deg float,\n",
    "        aileron_pos_rh_deg float,\n",
    "        corrected_angle_of_attack_deg float,\n",
    "        baro_correct_alt_lsp_ft float,\n",
    "        computed_airspeed_lsp_knots float,\n",
    "        selected_course_deg float,\n",
    "        drift_angle_deg float,\n",
    "        elevator_pos_left_deg float,\n",
    "        te_flap_pos_disc float,\n",
    "        glideslope_dev_perc float,\n",
    "        selected_heading_deg float,\n",
    "        localizer_dev_perc float,\n",
    "        core_speed_avg_perc float,\n",
    "        total_pressure_lsp_millibar float,\n",
    "        pitch_angle_lsp_deg float,\n",
    "        roll_angle_lsp_deg float,\n",
    "        rudder_pos_deg float,\n",
    "        true_heading_lsp_deg float,\n",
    "        vertical_accel_g float,\n",
    "        wind_speed_knots float      \n",
    ")\n",
    "STORED AS TEXTFILE\n",
    "LOCATION 's3://flightfinalapproachanomalydetection/csv/'\n",
    "TBLPROPERTIES (\n",
    "    'skip.header.line.count'='1',\n",
    "    'field.delim'=',',\n",
    "    'compressionType'='none'\n",
    ")\"\"\""
   ]
  },
  {
   "cell_type": "code",
   "execution_count": 54,
   "id": "20837b7c-60eb-44c8-8d07-36c92488ea41",
   "metadata": {},
   "outputs": [
    {
     "data": {
      "text/plain": [
       "<pyathena.cursor.Cursor at 0x7fbdcaf69d50>"
      ]
     },
     "execution_count": 54,
     "metadata": {},
     "output_type": "execute_result"
    }
   ],
   "source": [
    "cursor = conn.cursor()\n",
    "cursor.execute(statement)"
   ]
  },
  {
   "cell_type": "code",
   "execution_count": 55,
   "id": "f8f11a0a-b117-4f48-85f1-88a59124866c",
   "metadata": {},
   "outputs": [
    {
     "name": "stderr",
     "output_type": "stream",
     "text": [
      "/tmp/ipykernel_8957/1322682284.py:2: UserWarning: pandas only supports SQLAlchemy connectable (engine/connection) or database string URI or sqlite3 DBAPI2 connection. Other DBAPI2 objects are not tested. Please consider using SQLAlchemy.\n",
      "  pd.read_sql(statement, conn)\n"
     ]
    },
    {
     "data": {
      "text/html": [
       "<div>\n",
       "<style scoped>\n",
       "    .dataframe tbody tr th:only-of-type {\n",
       "        vertical-align: middle;\n",
       "    }\n",
       "\n",
       "    .dataframe tbody tr th {\n",
       "        vertical-align: top;\n",
       "    }\n",
       "\n",
       "    .dataframe thead th {\n",
       "        text-align: right;\n",
       "    }\n",
       "</style>\n",
       "<table border=\"1\" class=\"dataframe\">\n",
       "  <thead>\n",
       "    <tr style=\"text-align: right;\">\n",
       "      <th></th>\n",
       "    </tr>\n",
       "  </thead>\n",
       "  <tbody>\n",
       "  </tbody>\n",
       "</table>\n",
       "</div>"
      ],
      "text/plain": [
       "Empty DataFrame\n",
       "Columns: []\n",
       "Index: []"
      ]
     },
     "execution_count": 55,
     "metadata": {},
     "output_type": "execute_result"
    }
   ],
   "source": [
    "import pandas as pd\n",
    "pd.read_sql(statement, conn)"
   ]
  },
  {
   "cell_type": "code",
   "execution_count": 56,
   "id": "2e8548ff-c2c9-43d8-bfc8-3ba0b6dbdd66",
   "metadata": {},
   "outputs": [
    {
     "data": {
      "text/plain": [
       "<pyathena.cursor.Cursor at 0x7fbdcaf0af90>"
      ]
     },
     "execution_count": 56,
     "metadata": {},
     "output_type": "execute_result"
    }
   ],
   "source": [
    "statement = \"SHOW TABLES IN {}\".format(database_name)\n",
    "cursor = conn.cursor()\n",
    "cursor.execute(statement)"
   ]
  },
  {
   "cell_type": "code",
   "execution_count": 57,
   "id": "2e852601-5c8b-412a-a910-4f88895bc054",
   "metadata": {},
   "outputs": [
    {
     "name": "stdout",
     "output_type": "stream",
     "text": [
      "False\n"
     ]
    }
   ],
   "source": [
    "if table_name_csv in df_show.values:\n",
    "    ingest_create_athena_table_csv_passed = True\n",
    "else:\n",
    "    ingest_create_athena_table_csv_passed = False\n",
    "print(ingest_create_athena_table_csv_passed)"
   ]
  },
  {
   "cell_type": "code",
   "execution_count": 59,
   "id": "07fc0e9a-b428-4b72-97ba-9b49db632ab5",
   "metadata": {},
   "outputs": [
    {
     "name": "stdout",
     "output_type": "stream",
     "text": [
      "flightdata_db\n",
      "flight_csv_data\n"
     ]
    }
   ],
   "source": [
    "print(database_name)\n",
    "print(table_name_csv)"
   ]
  },
  {
   "cell_type": "code",
   "execution_count": 65,
   "id": "deb07a02-83db-410f-bad3-e3782cbca116",
   "metadata": {},
   "outputs": [
    {
     "name": "stdout",
     "output_type": "stream",
     "text": [
      "SELECT sample_id, aileron_pos_lh_deg, timestep FROM flightdata_db.flight_csv_data\n",
      "    LIMIT 10\n"
     ]
    },
    {
     "name": "stderr",
     "output_type": "stream",
     "text": [
      "/tmp/ipykernel_8957/1251818097.py:8: UserWarning: pandas only supports SQLAlchemy connectable (engine/connection) or database string URI or sqlite3 DBAPI2 connection. Other DBAPI2 objects are not tested. Please consider using SQLAlchemy.\n",
      "  df = pd.read_sql(statement, conn)\n"
     ]
    },
    {
     "data": {
      "text/html": [
       "<div>\n",
       "<style scoped>\n",
       "    .dataframe tbody tr th:only-of-type {\n",
       "        vertical-align: middle;\n",
       "    }\n",
       "\n",
       "    .dataframe tbody tr th {\n",
       "        vertical-align: top;\n",
       "    }\n",
       "\n",
       "    .dataframe thead th {\n",
       "        text-align: right;\n",
       "    }\n",
       "</style>\n",
       "<table border=\"1\" class=\"dataframe\">\n",
       "  <thead>\n",
       "    <tr style=\"text-align: right;\">\n",
       "      <th></th>\n",
       "      <th>sample_id</th>\n",
       "      <th>aileron_pos_lh_deg</th>\n",
       "      <th>timestep</th>\n",
       "    </tr>\n",
       "  </thead>\n",
       "  <tbody>\n",
       "    <tr>\n",
       "      <th>0</th>\n",
       "      <td>6606</td>\n",
       "      <td>86.27341</td>\n",
       "      <td>119</td>\n",
       "    </tr>\n",
       "    <tr>\n",
       "      <th>1</th>\n",
       "      <td>6606</td>\n",
       "      <td>86.29386</td>\n",
       "      <td>120</td>\n",
       "    </tr>\n",
       "    <tr>\n",
       "      <th>2</th>\n",
       "      <td>6606</td>\n",
       "      <td>91.10149</td>\n",
       "      <td>121</td>\n",
       "    </tr>\n",
       "    <tr>\n",
       "      <th>3</th>\n",
       "      <td>6606</td>\n",
       "      <td>84.12531</td>\n",
       "      <td>122</td>\n",
       "    </tr>\n",
       "    <tr>\n",
       "      <th>4</th>\n",
       "      <td>6606</td>\n",
       "      <td>86.76440</td>\n",
       "      <td>123</td>\n",
       "    </tr>\n",
       "  </tbody>\n",
       "</table>\n",
       "</div>"
      ],
      "text/plain": [
       "   sample_id  aileron_pos_lh_deg  timestep\n",
       "0       6606            86.27341       119\n",
       "1       6606            86.29386       120\n",
       "2       6606            91.10149       121\n",
       "3       6606            84.12531       122\n",
       "4       6606            86.76440       123"
      ]
     },
     "execution_count": 65,
     "metadata": {},
     "output_type": "execute_result"
    }
   ],
   "source": [
    "statement = \"\"\"SELECT sample_id, aileron_pos_lh_deg, timestep FROM {}.{}\n",
    "    LIMIT 10\"\"\".format(\n",
    "    database_name, table_name_csv\n",
    ")\n",
    "\n",
    "print(statement)\n",
    "\n",
    "df = pd.read_sql(statement, conn)\n",
    "df.head(5)"
   ]
  },
  {
   "cell_type": "code",
   "execution_count": null,
   "id": "610ebce7-f6b7-4580-a2cf-ca514846bf36",
   "metadata": {},
   "outputs": [],
   "source": []
  }
 ],
 "metadata": {
  "kernelspec": {
   "display_name": "Python 3 (ipykernel)",
   "language": "python",
   "name": "python3"
  },
  "language_info": {
   "codemirror_mode": {
    "name": "ipython",
    "version": 3
   },
   "file_extension": ".py",
   "mimetype": "text/x-python",
   "name": "python",
   "nbconvert_exporter": "python",
   "pygments_lexer": "ipython3",
   "version": "3.11.11"
  }
 },
 "nbformat": 4,
 "nbformat_minor": 5
}
