{
 "cells": [
  {
   "cell_type": "code",
   "execution_count": null,
   "id": "9f15c104-6e36-42bc-8a38-10f4cacc233b",
   "metadata": {},
   "outputs": [],
   "source": [
    "# The full dataset is 3.8 GB and very difficult to upload, download, work with, etc. We will split it into sub csvs to make it easier to work with"
   ]
  },
  {
   "cell_type": "code",
   "execution_count": 1,
   "id": "8180c651-68d4-4cfb-b1d0-eaf795512653",
   "metadata": {},
   "outputs": [
    {
     "data": {
      "text/html": [
       "<div>\n",
       "<style scoped>\n",
       "    .dataframe tbody tr th:only-of-type {\n",
       "        vertical-align: middle;\n",
       "    }\n",
       "\n",
       "    .dataframe tbody tr th {\n",
       "        vertical-align: top;\n",
       "    }\n",
       "\n",
       "    .dataframe thead th {\n",
       "        text-align: right;\n",
       "    }\n",
       "</style>\n",
       "<table border=\"1\" class=\"dataframe\">\n",
       "  <thead>\n",
       "    <tr style=\"text-align: right;\">\n",
       "      <th></th>\n",
       "      <th>SampleID</th>\n",
       "      <th>TimeStep</th>\n",
       "      <th>Feature_0</th>\n",
       "      <th>Feature_1</th>\n",
       "      <th>Feature_2</th>\n",
       "      <th>Feature_3</th>\n",
       "      <th>Feature_4</th>\n",
       "      <th>Feature_5</th>\n",
       "      <th>Feature_6</th>\n",
       "      <th>Feature_7</th>\n",
       "      <th>...</th>\n",
       "      <th>Feature_11</th>\n",
       "      <th>Feature_12</th>\n",
       "      <th>Feature_13</th>\n",
       "      <th>Feature_14</th>\n",
       "      <th>Feature_15</th>\n",
       "      <th>Feature_16</th>\n",
       "      <th>Feature_17</th>\n",
       "      <th>Feature_18</th>\n",
       "      <th>Feature_19</th>\n",
       "      <th>Label</th>\n",
       "    </tr>\n",
       "  </thead>\n",
       "  <tbody>\n",
       "    <tr>\n",
       "      <th>0</th>\n",
       "      <td>0</td>\n",
       "      <td>0</td>\n",
       "      <td>81.261190</td>\n",
       "      <td>82.652336</td>\n",
       "      <td>-8.111792</td>\n",
       "      <td>1969.6174</td>\n",
       "      <td>155.57140</td>\n",
       "      <td>-2.109358</td>\n",
       "      <td>-0.692778</td>\n",
       "      <td>-4.952854</td>\n",
       "      <td>...</td>\n",
       "      <td>0.006664</td>\n",
       "      <td>70.74118</td>\n",
       "      <td>985.42550</td>\n",
       "      <td>-3.662262</td>\n",
       "      <td>0.785912</td>\n",
       "      <td>-0.390141</td>\n",
       "      <td>-1.081870</td>\n",
       "      <td>0.972379</td>\n",
       "      <td>12.625183</td>\n",
       "      <td>0.0</td>\n",
       "    </tr>\n",
       "    <tr>\n",
       "      <th>1</th>\n",
       "      <td>0</td>\n",
       "      <td>1</td>\n",
       "      <td>79.604095</td>\n",
       "      <td>81.015700</td>\n",
       "      <td>-7.644611</td>\n",
       "      <td>1955.6995</td>\n",
       "      <td>154.51205</td>\n",
       "      <td>-2.109358</td>\n",
       "      <td>-0.867216</td>\n",
       "      <td>-5.198349</td>\n",
       "      <td>...</td>\n",
       "      <td>0.007448</td>\n",
       "      <td>70.71775</td>\n",
       "      <td>985.52030</td>\n",
       "      <td>-3.665276</td>\n",
       "      <td>0.046774</td>\n",
       "      <td>-0.756234</td>\n",
       "      <td>-0.704820</td>\n",
       "      <td>0.770077</td>\n",
       "      <td>11.893839</td>\n",
       "      <td>0.0</td>\n",
       "    </tr>\n",
       "    <tr>\n",
       "      <th>2</th>\n",
       "      <td>0</td>\n",
       "      <td>2</td>\n",
       "      <td>81.302110</td>\n",
       "      <td>80.770200</td>\n",
       "      <td>-7.552573</td>\n",
       "      <td>1940.0267</td>\n",
       "      <td>153.32867</td>\n",
       "      <td>-2.109358</td>\n",
       "      <td>-1.424093</td>\n",
       "      <td>-4.830105</td>\n",
       "      <td>...</td>\n",
       "      <td>0.009604</td>\n",
       "      <td>70.70276</td>\n",
       "      <td>985.41650</td>\n",
       "      <td>-3.940319</td>\n",
       "      <td>0.804820</td>\n",
       "      <td>-1.325632</td>\n",
       "      <td>-0.240446</td>\n",
       "      <td>0.543937</td>\n",
       "      <td>12.559112</td>\n",
       "      <td>0.0</td>\n",
       "    </tr>\n",
       "    <tr>\n",
       "      <th>3</th>\n",
       "      <td>0</td>\n",
       "      <td>3</td>\n",
       "      <td>82.345470</td>\n",
       "      <td>83.900276</td>\n",
       "      <td>-8.395265</td>\n",
       "      <td>1924.5493</td>\n",
       "      <td>150.88818</td>\n",
       "      <td>-2.109358</td>\n",
       "      <td>-1.141912</td>\n",
       "      <td>-4.625526</td>\n",
       "      <td>...</td>\n",
       "      <td>0.009408</td>\n",
       "      <td>70.74159</td>\n",
       "      <td>984.81710</td>\n",
       "      <td>-4.275129</td>\n",
       "      <td>1.077102</td>\n",
       "      <td>-0.326884</td>\n",
       "      <td>-0.191627</td>\n",
       "      <td>1.062817</td>\n",
       "      <td>10.542998</td>\n",
       "      <td>0.0</td>\n",
       "    </tr>\n",
       "    <tr>\n",
       "      <th>4</th>\n",
       "      <td>0</td>\n",
       "      <td>4</td>\n",
       "      <td>81.874930</td>\n",
       "      <td>82.754620</td>\n",
       "      <td>-7.854284</td>\n",
       "      <td>1905.3670</td>\n",
       "      <td>150.69461</td>\n",
       "      <td>-2.109358</td>\n",
       "      <td>-0.724660</td>\n",
       "      <td>-4.400490</td>\n",
       "      <td>...</td>\n",
       "      <td>0.009408</td>\n",
       "      <td>70.57045</td>\n",
       "      <td>985.23065</td>\n",
       "      <td>-4.241483</td>\n",
       "      <td>1.654806</td>\n",
       "      <td>0.129545</td>\n",
       "      <td>-0.528425</td>\n",
       "      <td>0.867628</td>\n",
       "      <td>9.713539</td>\n",
       "      <td>0.0</td>\n",
       "    </tr>\n",
       "  </tbody>\n",
       "</table>\n",
       "<p>5 rows × 23 columns</p>\n",
       "</div>"
      ],
      "text/plain": [
       "   SampleID  TimeStep  Feature_0  Feature_1  Feature_2  Feature_3  Feature_4  \\\n",
       "0         0         0  81.261190  82.652336  -8.111792  1969.6174  155.57140   \n",
       "1         0         1  79.604095  81.015700  -7.644611  1955.6995  154.51205   \n",
       "2         0         2  81.302110  80.770200  -7.552573  1940.0267  153.32867   \n",
       "3         0         3  82.345470  83.900276  -8.395265  1924.5493  150.88818   \n",
       "4         0         4  81.874930  82.754620  -7.854284  1905.3670  150.69461   \n",
       "\n",
       "   Feature_5  Feature_6  Feature_7  ...  Feature_11  Feature_12  Feature_13  \\\n",
       "0  -2.109358  -0.692778  -4.952854  ...    0.006664    70.74118   985.42550   \n",
       "1  -2.109358  -0.867216  -5.198349  ...    0.007448    70.71775   985.52030   \n",
       "2  -2.109358  -1.424093  -4.830105  ...    0.009604    70.70276   985.41650   \n",
       "3  -2.109358  -1.141912  -4.625526  ...    0.009408    70.74159   984.81710   \n",
       "4  -2.109358  -0.724660  -4.400490  ...    0.009408    70.57045   985.23065   \n",
       "\n",
       "   Feature_14  Feature_15  Feature_16  Feature_17  Feature_18  Feature_19  \\\n",
       "0   -3.662262    0.785912   -0.390141   -1.081870    0.972379   12.625183   \n",
       "1   -3.665276    0.046774   -0.756234   -0.704820    0.770077   11.893839   \n",
       "2   -3.940319    0.804820   -1.325632   -0.240446    0.543937   12.559112   \n",
       "3   -4.275129    1.077102   -0.326884   -0.191627    1.062817   10.542998   \n",
       "4   -4.241483    1.654806    0.129545   -0.528425    0.867628    9.713539   \n",
       "\n",
       "   Label  \n",
       "0    0.0  \n",
       "1    0.0  \n",
       "2    0.0  \n",
       "3    0.0  \n",
       "4    0.0  \n",
       "\n",
       "[5 rows x 23 columns]"
      ]
     },
     "execution_count": 1,
     "metadata": {},
     "output_type": "execute_result"
    }
   ],
   "source": [
    "import pandas as pd\n",
    "\n",
    "full_dataset = pd.read_csv(\"C:\\\\Users\\\\elanw\\\\Downloads\\\\DASHlink_full_fourclass_raw_comp.csv\")\n",
    "\n",
    "full_dataset.head()"
   ]
  },
  {
   "cell_type": "code",
   "execution_count": 2,
   "id": "32f247ed-e586-40d6-8bdc-ca375acfd8c0",
   "metadata": {},
   "outputs": [
    {
     "name": "stdout",
     "output_type": "stream",
     "text": [
      "0\n",
      "99836\n"
     ]
    }
   ],
   "source": [
    "print(full_dataset['SampleID'].min())\n",
    "\n",
    "print(full_dataset['SampleID'].max())"
   ]
  },
  {
   "cell_type": "code",
   "execution_count": 3,
   "id": "0e1d17a2-7848-42a9-aba1-ca64a83c7db8",
   "metadata": {},
   "outputs": [
    {
     "data": {
      "text/html": [
       "<div>\n",
       "<style scoped>\n",
       "    .dataframe tbody tr th:only-of-type {\n",
       "        vertical-align: middle;\n",
       "    }\n",
       "\n",
       "    .dataframe tbody tr th {\n",
       "        vertical-align: top;\n",
       "    }\n",
       "\n",
       "    .dataframe thead th {\n",
       "        text-align: right;\n",
       "    }\n",
       "</style>\n",
       "<table border=\"1\" class=\"dataframe\">\n",
       "  <thead>\n",
       "    <tr style=\"text-align: right;\">\n",
       "      <th></th>\n",
       "      <th>SampleID</th>\n",
       "      <th>Label</th>\n",
       "    </tr>\n",
       "  </thead>\n",
       "  <tbody>\n",
       "    <tr>\n",
       "      <th>159</th>\n",
       "      <td>0</td>\n",
       "      <td>0.0</td>\n",
       "    </tr>\n",
       "    <tr>\n",
       "      <th>319</th>\n",
       "      <td>1</td>\n",
       "      <td>0.0</td>\n",
       "    </tr>\n",
       "    <tr>\n",
       "      <th>479</th>\n",
       "      <td>2</td>\n",
       "      <td>0.0</td>\n",
       "    </tr>\n",
       "    <tr>\n",
       "      <th>639</th>\n",
       "      <td>3</td>\n",
       "      <td>0.0</td>\n",
       "    </tr>\n",
       "    <tr>\n",
       "      <th>799</th>\n",
       "      <td>4</td>\n",
       "      <td>0.0</td>\n",
       "    </tr>\n",
       "  </tbody>\n",
       "</table>\n",
       "</div>"
      ],
      "text/plain": [
       "     SampleID  Label\n",
       "159         0    0.0\n",
       "319         1    0.0\n",
       "479         2    0.0\n",
       "639         3    0.0\n",
       "799         4    0.0"
      ]
     },
     "execution_count": 3,
     "metadata": {},
     "output_type": "execute_result"
    }
   ],
   "source": [
    "class_and_id = full_dataset[full_dataset['TimeStep'] == 159]\n",
    "\n",
    "class_and_id = class_and_id[['SampleID', 'Label']].drop_duplicates()\n",
    "\n",
    "class_and_id.head()\n"
   ]
  },
  {
   "cell_type": "code",
   "execution_count": 10,
   "id": "5a2f9d77-3ecb-4a84-8af9-395c11ebb69a",
   "metadata": {},
   "outputs": [
    {
     "name": "stdout",
     "output_type": "stream",
     "text": [
      "Label\n",
      "0.0    89663\n",
      "1.0     7013\n",
      "2.0     2207\n",
      "3.0      954\n",
      "Name: count, dtype: int64\n"
     ]
    },
    {
     "data": {
      "image/png": "[encoded data removed]",
      "text/plain": [
       "<Figure size 800x500 with 1 Axes>"
      ]
     },
     "metadata": {},
     "output_type": "display_data"
    }
   ],
   "source": [
    "import matplotlib.pyplot as plt\n",
    "\n",
    "label_counts = class_and_id['Label'].value_counts()\n",
    "print(label_counts)\n",
    "\n",
    "\n",
    "# Plot the bar graph\n",
    "label_counts.plot(kind='bar', figsize=(8, 5))\n",
    "plt.title(\"Label Value Counts\")\n",
    "plt.xlabel(\"Labels\")\n",
    "plt.ylabel(\"Count\")\n",
    "plt.xticks(rotation=0)  # Keep the labels horizontal\n",
    "plt.show()"
   ]
  },
  {
   "cell_type": "code",
   "execution_count": 16,
   "id": "9cc2c8d6-1f2e-48a7-a986-fb559d726646",
   "metadata": {},
   "outputs": [
    {
     "data": {
      "text/html": [
       "<div>\n",
       "<style scoped>\n",
       "    .dataframe tbody tr th:only-of-type {\n",
       "        vertical-align: middle;\n",
       "    }\n",
       "\n",
       "    .dataframe tbody tr th {\n",
       "        vertical-align: top;\n",
       "    }\n",
       "\n",
       "    .dataframe thead th {\n",
       "        text-align: right;\n",
       "    }\n",
       "</style>\n",
       "<table border=\"1\" class=\"dataframe\">\n",
       "  <thead>\n",
       "    <tr style=\"text-align: right;\">\n",
       "      <th></th>\n",
       "      <th>SampleID</th>\n",
       "      <th>Label</th>\n",
       "    </tr>\n",
       "  </thead>\n",
       "  <tbody>\n",
       "    <tr>\n",
       "      <th>159</th>\n",
       "      <td>0</td>\n",
       "      <td>0.0</td>\n",
       "    </tr>\n",
       "    <tr>\n",
       "      <th>319</th>\n",
       "      <td>1</td>\n",
       "      <td>0.0</td>\n",
       "    </tr>\n",
       "    <tr>\n",
       "      <th>479</th>\n",
       "      <td>2</td>\n",
       "      <td>0.0</td>\n",
       "    </tr>\n",
       "    <tr>\n",
       "      <th>639</th>\n",
       "      <td>3</td>\n",
       "      <td>0.0</td>\n",
       "    </tr>\n",
       "    <tr>\n",
       "      <th>799</th>\n",
       "      <td>4</td>\n",
       "      <td>0.0</td>\n",
       "    </tr>\n",
       "  </tbody>\n",
       "</table>\n",
       "</div>"
      ],
      "text/plain": [
       "     SampleID  Label\n",
       "159         0    0.0\n",
       "319         1    0.0\n",
       "479         2    0.0\n",
       "639         3    0.0\n",
       "799         4    0.0"
      ]
     },
     "execution_count": 16,
     "metadata": {},
     "output_type": "execute_result"
    }
   ],
   "source": [
    "class_and_id.head()"
   ]
  },
  {
   "cell_type": "code",
   "execution_count": 20,
   "id": "c1397d81-4694-4f90-a276-4bf019a3ad3f",
   "metadata": {},
   "outputs": [],
   "source": [
    "class_0 = class_and_id[class_and_id['Label'] == 0]\n",
    "class_1 = class_and_id[class_and_id['Label'] == 1]\n",
    "class_2 = class_and_id[class_and_id['Label'] == 2]\n",
    "class_3 = class_and_id[class_and_id['Label'] == 3]"
   ]
  },
  {
   "cell_type": "code",
   "execution_count": 22,
   "id": "48de8042-5fb0-465a-aa54-fd70d6f1ad48",
   "metadata": {},
   "outputs": [
    {
     "name": "stdout",
     "output_type": "stream",
     "text": [
      "954\n"
     ]
    }
   ],
   "source": [
    "print(len(class_3))"
   ]
  },
  {
   "cell_type": "code",
   "execution_count": 24,
   "id": "243708d8-839d-4797-9515-a4e6fd653e5c",
   "metadata": {},
   "outputs": [],
   "source": [
    "import random\n",
    "import numpy as np\n",
    "import math\n",
    "\n",
    "fourtyperc_of_3 = math.ceil((float)(class_3['SampleID'].size) * 0.4)\n",
    "fourtyperc_of_2 = math.ceil((float)(class_2['SampleID'].size) * 0.4)\n",
    "fourtyperc_of_1 = math.ceil((float)(class_1['SampleID'].size) * 0.4)\n",
    "fourtyperc_of_0 = math.ceil((float)(class_0['SampleID'].size) * 0.4)\n",
    "random_3s = random.sample(class_3['SampleID'].tolist(), fourtyperc_of_3)\n",
    "random_2s = random.sample(class_2['SampleID'].tolist(), fourtyperc_of_2)\n",
    "random_1s = random.sample(class_1['SampleID'].tolist(), fourtyperc_of_1)\n",
    "random_0s = random.sample(class_0['SampleID'].tolist(), fourtyperc_of_0)\n"
   ]
  },
  {
   "cell_type": "code",
   "execution_count": 26,
   "id": "0c9b878b-0644-435b-ae90-e1cf94ab8e69",
   "metadata": {},
   "outputs": [],
   "source": [
    "fourty_perc = all_training_indices = random_3s\n",
    "fourty_perc.extend(random_2s)\n",
    "fourty_perc.extend(random_1s)\n",
    "fourty_perc.extend(random_0s)"
   ]
  },
  {
   "cell_type": "code",
   "execution_count": 32,
   "id": "2be930e4-b3c8-4f06-8dab-e2532c9053c5",
   "metadata": {},
   "outputs": [],
   "source": [
    "random_2s = random.sample(random_2s, fourtyperc_of_3)\n",
    "random_1s = random.sample(random_1s, fourtyperc_of_3)\n",
    "random_0s = random.sample(random_0s, fourtyperc_of_3)"
   ]
  },
  {
   "cell_type": "code",
   "execution_count": 34,
   "id": "7f8687ba-5858-4ece-9858-41250fef6866",
   "metadata": {},
   "outputs": [
    {
     "name": "stdout",
     "output_type": "stream",
     "text": [
      "39937\n",
      "41083\n"
     ]
    }
   ],
   "source": [
    "all_training_indices = random_3s\n",
    "print(len(all_training_indices))\n",
    "all_training_indices.extend(random_2s)\n",
    "all_training_indices.extend(random_1s)\n",
    "all_training_indices.extend(random_0s)\n",
    "print(len(all_training_indices))"
   ]
  },
  {
   "cell_type": "code",
   "execution_count": null,
   "id": "12ecd55f-3116-4cc7-9c1e-2c7c452c57bb",
   "metadata": {},
   "outputs": [],
   "source": []
  },
  {
   "cell_type": "code",
   "execution_count": 46,
   "id": "a6ede941-3f0a-40c6-a9ab-79ca690f0d0c",
   "metadata": {},
   "outputs": [
    {
     "name": "stdout",
     "output_type": "stream",
     "text": [
      "9584000\n"
     ]
    },
    {
     "data": {
      "text/html": [
       "<div>\n",
       "<style scoped>\n",
       "    .dataframe tbody tr th:only-of-type {\n",
       "        vertical-align: middle;\n",
       "    }\n",
       "\n",
       "    .dataframe tbody tr th {\n",
       "        vertical-align: top;\n",
       "    }\n",
       "\n",
       "    .dataframe thead th {\n",
       "        text-align: right;\n",
       "    }\n",
       "</style>\n",
       "<table border=\"1\" class=\"dataframe\">\n",
       "  <thead>\n",
       "    <tr style=\"text-align: right;\">\n",
       "      <th></th>\n",
       "      <th>SampleID</th>\n",
       "      <th>TimeStep</th>\n",
       "      <th>Feature_0</th>\n",
       "      <th>Feature_1</th>\n",
       "      <th>Feature_2</th>\n",
       "      <th>Feature_3</th>\n",
       "      <th>Feature_4</th>\n",
       "      <th>Feature_5</th>\n",
       "      <th>Feature_6</th>\n",
       "      <th>Feature_7</th>\n",
       "      <th>...</th>\n",
       "      <th>Feature_11</th>\n",
       "      <th>Feature_12</th>\n",
       "      <th>Feature_13</th>\n",
       "      <th>Feature_14</th>\n",
       "      <th>Feature_15</th>\n",
       "      <th>Feature_16</th>\n",
       "      <th>Feature_17</th>\n",
       "      <th>Feature_18</th>\n",
       "      <th>Feature_19</th>\n",
       "      <th>Label</th>\n",
       "    </tr>\n",
       "  </thead>\n",
       "  <tbody>\n",
       "    <tr>\n",
       "      <th>15973595</th>\n",
       "      <td>99834</td>\n",
       "      <td>155</td>\n",
       "      <td>83.122870</td>\n",
       "      <td>82.713715</td>\n",
       "      <td>-4.539935</td>\n",
       "      <td>675.93787</td>\n",
       "      <td>111.357240</td>\n",
       "      <td>-145.0185</td>\n",
       "      <td>-2.222453</td>\n",
       "      <td>-4.359573</td>\n",
       "      <td>...</td>\n",
       "      <td>-4.115986e-03</td>\n",
       "      <td>79.182510</td>\n",
       "      <td>1010.66100</td>\n",
       "      <td>-2.880626</td>\n",
       "      <td>-0.365749</td>\n",
       "      <td>-1.318209</td>\n",
       "      <td>-149.70172</td>\n",
       "      <td>0.978041</td>\n",
       "      <td>4.013760</td>\n",
       "      <td>3.0</td>\n",
       "    </tr>\n",
       "    <tr>\n",
       "      <th>15973596</th>\n",
       "      <td>99834</td>\n",
       "      <td>156</td>\n",
       "      <td>83.204704</td>\n",
       "      <td>82.202260</td>\n",
       "      <td>-4.371309</td>\n",
       "      <td>663.89410</td>\n",
       "      <td>111.413635</td>\n",
       "      <td>-145.0185</td>\n",
       "      <td>-1.914943</td>\n",
       "      <td>-4.318657</td>\n",
       "      <td>...</td>\n",
       "      <td>1.632874e-15</td>\n",
       "      <td>79.459730</td>\n",
       "      <td>1011.12080</td>\n",
       "      <td>-2.451697</td>\n",
       "      <td>0.198046</td>\n",
       "      <td>0.093274</td>\n",
       "      <td>-150.18170</td>\n",
       "      <td>1.035915</td>\n",
       "      <td>3.476750</td>\n",
       "      <td>3.0</td>\n",
       "    </tr>\n",
       "    <tr>\n",
       "      <th>15973597</th>\n",
       "      <td>99834</td>\n",
       "      <td>157</td>\n",
       "      <td>80.586075</td>\n",
       "      <td>81.731730</td>\n",
       "      <td>-3.543316</td>\n",
       "      <td>652.44840</td>\n",
       "      <td>111.846470</td>\n",
       "      <td>-145.0185</td>\n",
       "      <td>-1.382365</td>\n",
       "      <td>-4.195908</td>\n",
       "      <td>...</td>\n",
       "      <td>1.176000e-03</td>\n",
       "      <td>79.054955</td>\n",
       "      <td>1011.53467</td>\n",
       "      <td>-1.755218</td>\n",
       "      <td>1.300842</td>\n",
       "      <td>-1.469816</td>\n",
       "      <td>-150.59710</td>\n",
       "      <td>1.025178</td>\n",
       "      <td>2.279126</td>\n",
       "      <td>3.0</td>\n",
       "    </tr>\n",
       "    <tr>\n",
       "      <th>15973598</th>\n",
       "      <td>99834</td>\n",
       "      <td>158</td>\n",
       "      <td>85.005005</td>\n",
       "      <td>84.473100</td>\n",
       "      <td>-2.886944</td>\n",
       "      <td>644.21740</td>\n",
       "      <td>111.039220</td>\n",
       "      <td>-145.0185</td>\n",
       "      <td>-0.869284</td>\n",
       "      <td>-4.645985</td>\n",
       "      <td>...</td>\n",
       "      <td>-3.919768e-04</td>\n",
       "      <td>79.562940</td>\n",
       "      <td>1011.42865</td>\n",
       "      <td>-0.895541</td>\n",
       "      <td>2.314393</td>\n",
       "      <td>0.264904</td>\n",
       "      <td>-151.05537</td>\n",
       "      <td>1.091489</td>\n",
       "      <td>1.423625</td>\n",
       "      <td>3.0</td>\n",
       "    </tr>\n",
       "    <tr>\n",
       "      <th>15973599</th>\n",
       "      <td>99834</td>\n",
       "      <td>159</td>\n",
       "      <td>84.104860</td>\n",
       "      <td>84.841340</td>\n",
       "      <td>-2.833861</td>\n",
       "      <td>635.48580</td>\n",
       "      <td>109.919230</td>\n",
       "      <td>-145.0185</td>\n",
       "      <td>-0.343546</td>\n",
       "      <td>-4.584610</td>\n",
       "      <td>...</td>\n",
       "      <td>-7.839966e-04</td>\n",
       "      <td>76.185790</td>\n",
       "      <td>1011.25995</td>\n",
       "      <td>-0.558757</td>\n",
       "      <td>1.832946</td>\n",
       "      <td>-1.636158</td>\n",
       "      <td>-151.21005</td>\n",
       "      <td>1.019206</td>\n",
       "      <td>0.587311</td>\n",
       "      <td>3.0</td>\n",
       "    </tr>\n",
       "  </tbody>\n",
       "</table>\n",
       "<p>5 rows × 23 columns</p>\n",
       "</div>"
      ],
      "text/plain": [
       "          SampleID  TimeStep  Feature_0  Feature_1  Feature_2  Feature_3  \\\n",
       "15973595     99834       155  83.122870  82.713715  -4.539935  675.93787   \n",
       "15973596     99834       156  83.204704  82.202260  -4.371309  663.89410   \n",
       "15973597     99834       157  80.586075  81.731730  -3.543316  652.44840   \n",
       "15973598     99834       158  85.005005  84.473100  -2.886944  644.21740   \n",
       "15973599     99834       159  84.104860  84.841340  -2.833861  635.48580   \n",
       "\n",
       "           Feature_4  Feature_5  Feature_6  Feature_7  ...    Feature_11  \\\n",
       "15973595  111.357240  -145.0185  -2.222453  -4.359573  ... -4.115986e-03   \n",
       "15973596  111.413635  -145.0185  -1.914943  -4.318657  ...  1.632874e-15   \n",
       "15973597  111.846470  -145.0185  -1.382365  -4.195908  ...  1.176000e-03   \n",
       "15973598  111.039220  -145.0185  -0.869284  -4.645985  ... -3.919768e-04   \n",
       "15973599  109.919230  -145.0185  -0.343546  -4.584610  ... -7.839966e-04   \n",
       "\n",
       "          Feature_12  Feature_13  Feature_14  Feature_15  Feature_16  \\\n",
       "15973595   79.182510  1010.66100   -2.880626   -0.365749   -1.318209   \n",
       "15973596   79.459730  1011.12080   -2.451697    0.198046    0.093274   \n",
       "15973597   79.054955  1011.53467   -1.755218    1.300842   -1.469816   \n",
       "15973598   79.562940  1011.42865   -0.895541    2.314393    0.264904   \n",
       "15973599   76.185790  1011.25995   -0.558757    1.832946   -1.636158   \n",
       "\n",
       "          Feature_17  Feature_18  Feature_19  Label  \n",
       "15973595  -149.70172    0.978041    4.013760    3.0  \n",
       "15973596  -150.18170    1.035915    3.476750    3.0  \n",
       "15973597  -150.59710    1.025178    2.279126    3.0  \n",
       "15973598  -151.05537    1.091489    1.423625    3.0  \n",
       "15973599  -151.21005    1.019206    0.587311    3.0  \n",
       "\n",
       "[5 rows x 23 columns]"
      ]
     },
     "execution_count": 46,
     "metadata": {},
     "output_type": "execute_result"
    }
   ],
   "source": [
    "non_training_df = full_dataset[~full_dataset['SampleID'].isin(fourty_perc)]\n",
    "\n",
    "print(len(non_training_df))\n",
    "non_training_df.tail()"
   ]
  },
  {
   "cell_type": "code",
   "execution_count": 38,
   "id": "6c549476-c0bf-4423-9b82-fdcd834c4cfb",
   "metadata": {},
   "outputs": [
    {
     "name": "stdout",
     "output_type": "stream",
     "text": [
      "6389920\n"
     ]
    }
   ],
   "source": [
    "training_df = full_dataset[full_dataset['SampleID'].isin(all_training_indices)]\n",
    "print(len(training_df))"
   ]
  },
  {
   "cell_type": "code",
   "execution_count": 127,
   "id": "edd75087-3ec2-4475-9e35-25f49894a3d9",
   "metadata": {},
   "outputs": [
    {
     "name": "stdout",
     "output_type": "stream",
     "text": [
      "1534\n"
     ]
    }
   ],
   "source": [
    "print(len(all_training_indices))"
   ]
  },
  {
   "cell_type": "code",
   "execution_count": 129,
   "id": "c0b5b74c-c220-44b1-8840-eef3abdc604c",
   "metadata": {},
   "outputs": [
    {
     "name": "stdout",
     "output_type": "stream",
     "text": [
      "99837\n"
     ]
    }
   ],
   "source": [
    "print(len(not_training_idxs))"
   ]
  },
  {
   "cell_type": "code",
   "execution_count": 40,
   "id": "5fd4d248-3252-4ca6-9eb3-8d71adfb34b0",
   "metadata": {},
   "outputs": [
    {
     "ename": "NameError",
     "evalue": "name 'not_training_idxs' is not defined",
     "output_type": "error",
     "traceback": [
      "\u001b[1;31m---------------------------------------------------------------------------\u001b[0m",
      "\u001b[1;31mNameError\u001b[0m                                 Traceback (most recent call last)",
      "Cell \u001b[1;32mIn[40], line 1\u001b[0m\n\u001b[1;32m----> 1\u001b[0m non_training_df \u001b[38;5;241m=\u001b[39m full_dataset[full_dataset[\u001b[38;5;124m'\u001b[39m\u001b[38;5;124mSampleID\u001b[39m\u001b[38;5;124m'\u001b[39m]\u001b[38;5;241m.\u001b[39misin(not_training_idxs)]\n\u001b[0;32m      2\u001b[0m \u001b[38;5;28mprint\u001b[39m(\u001b[38;5;28mlen\u001b[39m(full_dataset))\n\u001b[0;32m      3\u001b[0m \u001b[38;5;28mprint\u001b[39m(\u001b[38;5;28mlen\u001b[39m(non_training_df))\n",
      "\u001b[1;31mNameError\u001b[0m: name 'not_training_idxs' is not defined"
     ]
    }
   ],
   "source": [
    "non_training_df = full_dataset[full_dataset['SampleID'].isin(not_training_idxs)]\n",
    "print(len(full_dataset))\n",
    "print(len(non_training_df))"
   ]
  },
  {
   "cell_type": "code",
   "execution_count": 164,
   "id": "78057f22-e66e-4fea-8554-16766d885a4c",
   "metadata": {},
   "outputs": [
    {
     "name": "stdout",
     "output_type": "stream",
     "text": [
      "3.0\n"
     ]
    }
   ],
   "source": [
    "print(np.max(not_training_idxs))"
   ]
  },
  {
   "cell_type": "code",
   "execution_count": 184,
   "id": "9cd35c4a-92ec-4224-9cf6-15448fb5313a",
   "metadata": {},
   "outputs": [
    {
     "name": "stdout",
     "output_type": "stream",
     "text": [
      "15821280    3.0\n",
      "15821440    3.0\n",
      "15821600    3.0\n",
      "15821760    3.0\n",
      "15821920    3.0\n",
      "           ... \n",
      "15973120    3.0\n",
      "15973280    3.0\n",
      "15973440    3.0\n",
      "15973600    3.0\n",
      "15973760    3.0\n",
      "Name: Label, Length: 954, dtype: float64\n"
     ]
    }
   ],
   "source": [
    "print(not_training_idxs[3])"
   ]
  },
  {
   "cell_type": "code",
   "execution_count": 48,
   "id": "1f496395-8cbc-4920-ac15-2e79c6a6072f",
   "metadata": {},
   "outputs": [],
   "source": [
    "training_df.to_csv('training_flight_data.csv', index=False)  \n",
    "#non_training_df.to_csv('nontraining_flight_data.csv', index=False)  "
   ]
  },
  {
   "cell_type": "code",
   "execution_count": 55,
   "id": "c55ffd4f-8ef0-4b7e-aa2c-6b4e579032c3",
   "metadata": {},
   "outputs": [],
   "source": [
    "non_training_idxs = non_training_df['SampleID'].unique()\n",
    "non_training_class_by_id = class_and_id[class_and_id['SampleID'].isin(non_training_idxs)]"
   ]
  },
  {
   "cell_type": "code",
   "execution_count": 57,
   "id": "aa857960-1fb3-404a-9a4a-02c305910617",
   "metadata": {},
   "outputs": [],
   "source": [
    "non_training_df.head()\n",
    "non_training_df_singlets = non_training_df[non_training_df['TimeStep'] == 0]\n",
    "non_training_indices = pd.DataFrame(non_training_df_singlets['SampleID'])\n",
    "non_training_labs = pd.DataFrame(non_training_df_singlets['Label'])"
   ]
  },
  {
   "cell_type": "code",
   "execution_count": 61,
   "id": "95ca5d15-9fbb-4123-b898-5087ef125eb9",
   "metadata": {},
   "outputs": [
    {
     "data": {
      "text/html": [
       "<div>\n",
       "<style scoped>\n",
       "    .dataframe tbody tr th:only-of-type {\n",
       "        vertical-align: middle;\n",
       "    }\n",
       "\n",
       "    .dataframe tbody tr th {\n",
       "        vertical-align: top;\n",
       "    }\n",
       "\n",
       "    .dataframe thead th {\n",
       "        text-align: right;\n",
       "    }\n",
       "</style>\n",
       "<table border=\"1\" class=\"dataframe\">\n",
       "  <thead>\n",
       "    <tr style=\"text-align: right;\">\n",
       "      <th></th>\n",
       "      <th>Label</th>\n",
       "    </tr>\n",
       "  </thead>\n",
       "  <tbody>\n",
       "    <tr>\n",
       "      <th>15972800</th>\n",
       "      <td>3.0</td>\n",
       "    </tr>\n",
       "    <tr>\n",
       "      <th>15972960</th>\n",
       "      <td>3.0</td>\n",
       "    </tr>\n",
       "    <tr>\n",
       "      <th>15973120</th>\n",
       "      <td>3.0</td>\n",
       "    </tr>\n",
       "    <tr>\n",
       "      <th>15973280</th>\n",
       "      <td>3.0</td>\n",
       "    </tr>\n",
       "    <tr>\n",
       "      <th>15973440</th>\n",
       "      <td>3.0</td>\n",
       "    </tr>\n",
       "  </tbody>\n",
       "</table>\n",
       "</div>"
      ],
      "text/plain": [
       "          Label\n",
       "15972800    3.0\n",
       "15972960    3.0\n",
       "15973120    3.0\n",
       "15973280    3.0\n",
       "15973440    3.0"
      ]
     },
     "execution_count": 61,
     "metadata": {},
     "output_type": "execute_result"
    }
   ],
   "source": [
    "non_training_labs.tail()"
   ]
  },
  {
   "cell_type": "code",
   "execution_count": 63,
   "id": "42e90fcc-d103-424b-930e-0c727f06d327",
   "metadata": {},
   "outputs": [],
   "source": [
    "from sklearn.model_selection import train_test_split\n",
    "\n",
    "\n",
    "samp_ids = pd.DataFrame(non_training_class_by_id['SampleID'])\n",
    "labs = pd.DataFrame(non_training_class_by_id['Label'])\n",
    "\n",
    "X_valid, X_rest, y_valid, y_rest = train_test_split(non_training_indices, non_training_labs, test_size=0.83, random_state=33, shuffle=True, stratify=non_training_labs)\n",
    "X_test, X_prod, y_test, y_prod = train_test_split(X_rest, y_rest, test_size = 0.8, random_state=33, shuffle=True, stratify=y_rest)"
   ]
  },
  {
   "cell_type": "code",
   "execution_count": 65,
   "id": "e84581a4-0628-4ddc-815a-bd14b04ac13c",
   "metadata": {},
   "outputs": [
    {
     "name": "stdout",
     "output_type": "stream",
     "text": [
      "10183\n",
      "9943\n",
      "39774\n"
     ]
    }
   ],
   "source": [
    "print(len(X_valid))\n",
    "print(len(X_test))\n",
    "print(len(X_prod))"
   ]
  },
  {
   "cell_type": "code",
   "execution_count": 67,
   "id": "7511a385-92b1-4b90-ad06-fcff39a3ea46",
   "metadata": {},
   "outputs": [
    {
     "name": "stdout",
     "output_type": "stream",
     "text": [
      "1629280\n",
      "1590880\n",
      "6363840\n"
     ]
    }
   ],
   "source": [
    "valid_df = full_dataset[full_dataset['SampleID'].isin(X_valid['SampleID'])]\n",
    "print(len(valid_df))\n",
    "test_df = full_dataset[full_dataset['SampleID'].isin(X_test['SampleID'])]\n",
    "print(len(test_df))\n",
    "prod_df = full_dataset[full_dataset['SampleID'].isin(X_prod['SampleID'])]\n",
    "print(len(prod_df))"
   ]
  },
  {
   "cell_type": "code",
   "execution_count": 69,
   "id": "5a32338d-1378-4e52-8675-efc28f05fb94",
   "metadata": {},
   "outputs": [],
   "source": [
    "valid_df.to_csv('valid_flight_data.csv', index=False)  \n",
    "test_df.to_csv('test_flight_data.csv', index=False)  \n",
    "prod_df.to_csv('prod_flight_data.csv', index=False)  "
   ]
  },
  {
   "cell_type": "code",
   "execution_count": null,
   "id": "ec85009c-f71d-43c5-8edc-6e6c86a297bc",
   "metadata": {},
   "outputs": [],
   "source": []
  }
 ],
 "metadata": {
  "kernelspec": {
   "display_name": "Python [conda env:base] *",
   "language": "python",
   "name": "conda-base-py"
  },
  "language_info": {
   "codemirror_mode": {
    "name": "ipython",
    "version": 3
   },
   "file_extension": ".py",
   "mimetype": "text/x-python",
   "name": "python",
   "nbconvert_exporter": "python",
   "pygments_lexer": "ipython3",
   "version": "3.12.7"
  }
 },
 "nbformat": 4,
 "nbformat_minor": 5
}
